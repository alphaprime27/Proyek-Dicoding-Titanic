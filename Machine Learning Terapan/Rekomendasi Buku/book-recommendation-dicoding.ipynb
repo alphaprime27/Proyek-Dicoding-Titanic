{
 "cells": [
  {
   "cell_type": "markdown",
   "id": "fda63982",
   "metadata": {
    "papermill": {
     "duration": 0.067083,
     "end_time": "2021-10-10T11:00:45.613657",
     "exception": false,
     "start_time": "2021-10-10T11:00:45.546574",
     "status": "completed"
    },
    "tags": []
   },
   "source": [
    "# Collaborative & Content Filtered Book Recommendation\n",
    "Name: Farel Arden"
   ]
  },
  {
   "cell_type": "markdown",
   "id": "a9818183",
   "metadata": {
    "papermill": {
     "duration": 0.070059,
     "end_time": "2021-10-10T11:00:45.751332",
     "exception": false,
     "start_time": "2021-10-10T11:00:45.681273",
     "status": "completed"
    },
    "tags": []
   },
   "source": [
    "Berdasarkan salah satu artikel dari Universitas Hasanuddin [tautan](https://journal.unhas.ac.id/index.php/jupiter/article/view/1672), membaca buku merupakan hal yang penting untuk dilakukan. Orang - orang yang memilih untuk sering membaca buku memiliki wawasan yang luas. Lewat membaca, kita juga dapat mengetahui, mengenal banyak hal yang sebelumnya belum dikenal dan kita pelajari dan pahami lewat membaca buku."
   ]
  },
  {
   "cell_type": "markdown",
   "id": "09ce68f4",
   "metadata": {
    "papermill": {
     "duration": 0.066588,
     "end_time": "2021-10-10T11:00:45.886049",
     "exception": false,
     "start_time": "2021-10-10T11:00:45.819461",
     "status": "completed"
    },
    "tags": []
   },
   "source": [
    "<img src= \"https://edgecappartners.com/wp-content/uploads/2018/09/boook-e1536947008937.jpg\" alt =\"Movie\" style='width: 400px;'>"
   ]
  },
  {
   "cell_type": "markdown",
   "id": "7c10e636",
   "metadata": {
    "papermill": {
     "duration": 0.06814,
     "end_time": "2021-10-10T11:00:46.021615",
     "exception": false,
     "start_time": "2021-10-10T11:00:45.953475",
     "status": "completed"
    },
    "tags": []
   },
   "source": [
    "Melihat pentingnya dampak buku bagi kehidupan kita, kita perlu banyak membaca buku. Ketika kita membaca buku, kita pasti memiliki ketertarikan kepada satu atau beberapa bidang. Dikarenakan banyaknya buku yang telah dan akan terbit, kita membutuhkan sistem rekomendasi yang akan menyaring buku - buku sesuai dengan selera dan ketertarikan kita. Dengan adanya sistem rekomendasi ini, kita tidak perlu lama - lama dalam mencari buku sesuai ketertarikan kita.\n",
    "\n",
    "Pada latihan kali ini kita akan menggunakan kedua metode yaitu content dan collaborative based filter.\n",
    " - Pada **Content Based Flter**, kita akan menggunakan penulis buku menjadi pusat sebagai pusat dari sistem rekomendasi\n",
    " - Pada **Collaborative Based Flter**, kita akan menggunakan penilaian dari berbagai pengguna sebagai pusat dari sistem rekomendasi"
   ]
  },
  {
   "cell_type": "markdown",
   "id": "9a1ced0b",
   "metadata": {
    "papermill": {
     "duration": 0.066881,
     "end_time": "2021-10-10T11:00:46.157174",
     "exception": false,
     "start_time": "2021-10-10T11:00:46.090293",
     "status": "completed"
    },
    "tags": []
   },
   "source": [
    "___\n",
    "# Importing Libraries and Dataset"
   ]
  },
  {
   "cell_type": "markdown",
   "id": "f7ea92e9",
   "metadata": {
    "papermill": {
     "duration": 0.06673,
     "end_time": "2021-10-10T11:00:46.291104",
     "exception": false,
     "start_time": "2021-10-10T11:00:46.224374",
     "status": "completed"
    },
    "tags": []
   },
   "source": [
    "## Importing Libraries"
   ]
  },
  {
   "cell_type": "markdown",
   "id": "5c606918",
   "metadata": {
    "papermill": {
     "duration": 0.066344,
     "end_time": "2021-10-10T11:00:46.424289",
     "exception": false,
     "start_time": "2021-10-10T11:00:46.357945",
     "status": "completed"
    },
    "tags": []
   },
   "source": [
    "Pada notebook ini saya melakukan import pada beberapa libraries, seperti pandas, numpy, tenserflow, dll."
   ]
  },
  {
   "cell_type": "code",
   "execution_count": 1,
   "id": "e1327736",
   "metadata": {
    "execution": {
     "iopub.execute_input": "2021-10-10T11:00:46.560694Z",
     "iopub.status.busy": "2021-10-10T11:00:46.559195Z",
     "iopub.status.idle": "2021-10-10T11:00:46.650667Z",
     "shell.execute_reply": "2021-10-10T11:00:46.651176Z",
     "shell.execute_reply.started": "2021-10-10T10:48:50.785638Z"
    },
    "papermill": {
     "duration": 0.161628,
     "end_time": "2021-10-10T11:00:46.651425",
     "exception": false,
     "start_time": "2021-10-10T11:00:46.489797",
     "status": "completed"
    },
    "tags": []
   },
   "outputs": [
    {
     "name": "stdout",
     "output_type": "stream",
     "text": [
      "/kaggle/input/book-recommendation-dataset/Ratings.csv\n",
      "/kaggle/input/book-recommendation-dataset/Users.csv\n",
      "/kaggle/input/book-recommendation-dataset/Books.csv\n"
     ]
    }
   ],
   "source": [
    "import pandas as pd\n",
    "import numpy as np \n",
    "import matplotlib.pyplot as plt\n",
    "\n",
    "import os\n",
    "for dirname, _, filenames in os.walk('/kaggle/input'):\n",
    "    for filename in filenames:\n",
    "        print(os.path.join(dirname, filename))"
   ]
  },
  {
   "cell_type": "markdown",
   "id": "7307b2be",
   "metadata": {
    "papermill": {
     "duration": 0.068509,
     "end_time": "2021-10-10T11:00:46.788166",
     "exception": false,
     "start_time": "2021-10-10T11:00:46.719657",
     "status": "completed"
    },
    "tags": []
   },
   "source": [
    "## Importing Dataset"
   ]
  },
  {
   "cell_type": "markdown",
   "id": "d4b923ec",
   "metadata": {
    "papermill": {
     "duration": 0.069314,
     "end_time": "2021-10-10T11:00:46.925627",
     "exception": false,
     "start_time": "2021-10-10T11:00:46.856313",
     "status": "completed"
    },
    "tags": []
   },
   "source": [
    "Pada notebook ini, kita hanya akan menggunakan dataframe book dan rating untuk content dan collaborative filtered recommendation kita"
   ]
  },
  {
   "cell_type": "code",
   "execution_count": 2,
   "id": "5c2b68be",
   "metadata": {
    "execution": {
     "iopub.execute_input": "2021-10-10T11:00:47.065986Z",
     "iopub.status.busy": "2021-10-10T11:00:47.065380Z",
     "iopub.status.idle": "2021-10-10T11:00:50.413824Z",
     "shell.execute_reply": "2021-10-10T11:00:50.412856Z",
     "shell.execute_reply.started": "2021-10-10T10:48:50.894222Z"
    },
    "papermill": {
     "duration": 3.421325,
     "end_time": "2021-10-10T11:00:50.413977",
     "exception": false,
     "start_time": "2021-10-10T11:00:46.992652",
     "status": "completed"
    },
    "tags": []
   },
   "outputs": [
    {
     "name": "stderr",
     "output_type": "stream",
     "text": [
      "/opt/conda/lib/python3.7/site-packages/IPython/core/interactiveshell.py:3170: DtypeWarning: Columns (3) have mixed types.Specify dtype option on import or set low_memory=False.\n",
      "  interactivity=interactivity, compiler=compiler, result=result)\n"
     ]
    }
   ],
   "source": [
    "book_dataset=pd.read_csv('../input/book-recommendation-dataset/Books.csv')\n",
    "rating_dataset=pd.read_csv('../input/book-recommendation-dataset/Ratings.csv')"
   ]
  },
  {
   "cell_type": "markdown",
   "id": "b7a706a8",
   "metadata": {
    "papermill": {
     "duration": 0.066391,
     "end_time": "2021-10-10T11:00:50.548270",
     "exception": false,
     "start_time": "2021-10-10T11:00:50.481879",
     "status": "completed"
    },
    "tags": []
   },
   "source": [
    "Meneliti ukuran dari dataset book "
   ]
  },
  {
   "cell_type": "code",
   "execution_count": 3,
   "id": "78b49591",
   "metadata": {
    "execution": {
     "iopub.execute_input": "2021-10-10T11:00:50.694600Z",
     "iopub.status.busy": "2021-10-10T11:00:50.693920Z",
     "iopub.status.idle": "2021-10-10T11:00:50.696919Z",
     "shell.execute_reply": "2021-10-10T11:00:50.697312Z",
     "shell.execute_reply.started": "2021-10-10T10:48:54.008793Z"
    },
    "papermill": {
     "duration": 0.080434,
     "end_time": "2021-10-10T11:00:50.697438",
     "exception": false,
     "start_time": "2021-10-10T11:00:50.617004",
     "status": "completed"
    },
    "tags": []
   },
   "outputs": [
    {
     "data": {
      "text/plain": [
       "(271360, 8)"
      ]
     },
     "execution_count": 3,
     "metadata": {},
     "output_type": "execute_result"
    }
   ],
   "source": [
    "book_dataset.shape"
   ]
  },
  {
   "cell_type": "markdown",
   "id": "fa8ddd6c",
   "metadata": {
    "papermill": {
     "duration": 0.068991,
     "end_time": "2021-10-10T11:00:50.833919",
     "exception": false,
     "start_time": "2021-10-10T11:00:50.764928",
     "status": "completed"
    },
    "tags": []
   },
   "source": [
    "Meneliti ukuran dari dataframe rating"
   ]
  },
  {
   "cell_type": "code",
   "execution_count": 4,
   "id": "00c2d7ee",
   "metadata": {
    "execution": {
     "iopub.execute_input": "2021-10-10T11:00:50.985335Z",
     "iopub.status.busy": "2021-10-10T11:00:50.984718Z",
     "iopub.status.idle": "2021-10-10T11:00:50.987798Z",
     "shell.execute_reply": "2021-10-10T11:00:50.988194Z",
     "shell.execute_reply.started": "2021-10-10T10:48:54.020710Z"
    },
    "papermill": {
     "duration": 0.080342,
     "end_time": "2021-10-10T11:00:50.988322",
     "exception": false,
     "start_time": "2021-10-10T11:00:50.907980",
     "status": "completed"
    },
    "tags": []
   },
   "outputs": [
    {
     "data": {
      "text/plain": [
       "(1149780, 3)"
      ]
     },
     "execution_count": 4,
     "metadata": {},
     "output_type": "execute_result"
    }
   ],
   "source": [
    "rating_dataset.shape"
   ]
  },
  {
   "cell_type": "markdown",
   "id": "1594be15",
   "metadata": {
    "papermill": {
     "duration": 0.068121,
     "end_time": "2021-10-10T11:00:51.124468",
     "exception": false,
     "start_time": "2021-10-10T11:00:51.056347",
     "status": "completed"
    },
    "tags": []
   },
   "source": [
    "___\n",
    "# Data Preprocessing"
   ]
  },
  {
   "cell_type": "markdown",
   "id": "eb3c86fa",
   "metadata": {
    "papermill": {
     "duration": 0.066889,
     "end_time": "2021-10-10T11:00:51.259601",
     "exception": false,
     "start_time": "2021-10-10T11:00:51.192712",
     "status": "completed"
    },
    "tags": []
   },
   "source": [
    "Meneliti 5 data teratas dari dataframe rating"
   ]
  },
  {
   "cell_type": "code",
   "execution_count": 5,
   "id": "3a27e5f5",
   "metadata": {
    "execution": {
     "iopub.execute_input": "2021-10-10T11:00:51.406375Z",
     "iopub.status.busy": "2021-10-10T11:00:51.405555Z",
     "iopub.status.idle": "2021-10-10T11:00:51.419062Z",
     "shell.execute_reply": "2021-10-10T11:00:51.419469Z",
     "shell.execute_reply.started": "2021-10-10T10:48:54.029826Z"
    },
    "papermill": {
     "duration": 0.091414,
     "end_time": "2021-10-10T11:00:51.419660",
     "exception": false,
     "start_time": "2021-10-10T11:00:51.328246",
     "status": "completed"
    },
    "tags": []
   },
   "outputs": [
    {
     "data": {
      "text/html": [
       "<div>\n",
       "<style scoped>\n",
       "    .dataframe tbody tr th:only-of-type {\n",
       "        vertical-align: middle;\n",
       "    }\n",
       "\n",
       "    .dataframe tbody tr th {\n",
       "        vertical-align: top;\n",
       "    }\n",
       "\n",
       "    .dataframe thead th {\n",
       "        text-align: right;\n",
       "    }\n",
       "</style>\n",
       "<table border=\"1\" class=\"dataframe\">\n",
       "  <thead>\n",
       "    <tr style=\"text-align: right;\">\n",
       "      <th></th>\n",
       "      <th>User-ID</th>\n",
       "      <th>ISBN</th>\n",
       "      <th>Book-Rating</th>\n",
       "    </tr>\n",
       "  </thead>\n",
       "  <tbody>\n",
       "    <tr>\n",
       "      <th>0</th>\n",
       "      <td>276725</td>\n",
       "      <td>034545104X</td>\n",
       "      <td>0</td>\n",
       "    </tr>\n",
       "    <tr>\n",
       "      <th>1</th>\n",
       "      <td>276726</td>\n",
       "      <td>0155061224</td>\n",
       "      <td>5</td>\n",
       "    </tr>\n",
       "    <tr>\n",
       "      <th>2</th>\n",
       "      <td>276727</td>\n",
       "      <td>0446520802</td>\n",
       "      <td>0</td>\n",
       "    </tr>\n",
       "    <tr>\n",
       "      <th>3</th>\n",
       "      <td>276729</td>\n",
       "      <td>052165615X</td>\n",
       "      <td>3</td>\n",
       "    </tr>\n",
       "    <tr>\n",
       "      <th>4</th>\n",
       "      <td>276729</td>\n",
       "      <td>0521795028</td>\n",
       "      <td>6</td>\n",
       "    </tr>\n",
       "  </tbody>\n",
       "</table>\n",
       "</div>"
      ],
      "text/plain": [
       "   User-ID        ISBN  Book-Rating\n",
       "0   276725  034545104X            0\n",
       "1   276726  0155061224            5\n",
       "2   276727  0446520802            0\n",
       "3   276729  052165615X            3\n",
       "4   276729  0521795028            6"
      ]
     },
     "execution_count": 5,
     "metadata": {},
     "output_type": "execute_result"
    }
   ],
   "source": [
    "rating_dataset.head()"
   ]
  },
  {
   "cell_type": "markdown",
   "id": "de91bdd7",
   "metadata": {
    "papermill": {
     "duration": 0.069005,
     "end_time": "2021-10-10T11:00:51.557020",
     "exception": false,
     "start_time": "2021-10-10T11:00:51.488015",
     "status": "completed"
    },
    "tags": []
   },
   "source": [
    "Memberi nama header baru pada kolom Book-Rating dan User-ID pada rating_dataset"
   ]
  },
  {
   "cell_type": "code",
   "execution_count": 6,
   "id": "3ef64092",
   "metadata": {
    "execution": {
     "iopub.execute_input": "2021-10-10T11:00:51.704398Z",
     "iopub.status.busy": "2021-10-10T11:00:51.703046Z",
     "iopub.status.idle": "2021-10-10T11:00:51.729505Z",
     "shell.execute_reply": "2021-10-10T11:00:51.729002Z",
     "shell.execute_reply.started": "2021-10-10T10:48:54.051813Z"
    },
    "papermill": {
     "duration": 0.103512,
     "end_time": "2021-10-10T11:00:51.729642",
     "exception": false,
     "start_time": "2021-10-10T11:00:51.626130",
     "status": "completed"
    },
    "tags": []
   },
   "outputs": [],
   "source": [
    "rating_dataset = rating_dataset.rename(columns={'Book-Rating': 'rating','User-ID':'user_id'})"
   ]
  },
  {
   "cell_type": "markdown",
   "id": "fcb25e93",
   "metadata": {
    "papermill": {
     "duration": 0.110038,
     "end_time": "2021-10-10T11:00:51.914018",
     "exception": false,
     "start_time": "2021-10-10T11:00:51.803980",
     "status": "completed"
    },
    "tags": []
   },
   "source": [
    "Melihat dari dataframe dari rating dan books terbilang banyak, di sini saya hanya mengambil 10000 row dari book dataset dan 5000 row untuk rating dataset"
   ]
  },
  {
   "cell_type": "code",
   "execution_count": 7,
   "id": "2494cb38",
   "metadata": {
    "execution": {
     "iopub.execute_input": "2021-10-10T11:00:52.060958Z",
     "iopub.status.busy": "2021-10-10T11:00:52.060078Z",
     "iopub.status.idle": "2021-10-10T11:00:52.062701Z",
     "shell.execute_reply": "2021-10-10T11:00:52.062268Z",
     "shell.execute_reply.started": "2021-10-10T10:48:54.075661Z"
    },
    "papermill": {
     "duration": 0.079159,
     "end_time": "2021-10-10T11:00:52.062817",
     "exception": false,
     "start_time": "2021-10-10T11:00:51.983658",
     "status": "completed"
    },
    "tags": []
   },
   "outputs": [],
   "source": [
    "book_dataset = book_dataset[:10000]\n",
    "rating_dataset=rating_dataset[:5000]"
   ]
  },
  {
   "cell_type": "markdown",
   "id": "9968a844",
   "metadata": {
    "papermill": {
     "duration": 0.069083,
     "end_time": "2021-10-10T11:00:52.201197",
     "exception": false,
     "start_time": "2021-10-10T11:00:52.132114",
     "status": "completed"
    },
    "tags": []
   },
   "source": [
    "Cell code di bawah ini dapat dijadikan pertimbangan dalam memproses data, dikarenakan banyak data rating yang bernilai 0, maka ada 2 pilihan, yaitu:\n",
    "- Membuang semua row yang memiliki nilai 0 pada kolom rating pada rating dataset\n",
    "- Tetap menggunakan nilai 0 karena 0 bukanlah nilai NaN\n",
    "\n",
    "Pada notebook kali ini, saya memilih pilihan kedua di mana nilai 0 bukanlah nilai NaN dan tidak membuang row dengan nilai rating 0"
   ]
  },
  {
   "cell_type": "code",
   "execution_count": 8,
   "id": "01c29dd5",
   "metadata": {
    "execution": {
     "iopub.execute_input": "2021-10-10T11:00:52.342366Z",
     "iopub.status.busy": "2021-10-10T11:00:52.341499Z",
     "iopub.status.idle": "2021-10-10T11:00:52.344102Z",
     "shell.execute_reply": "2021-10-10T11:00:52.343673Z",
     "shell.execute_reply.started": "2021-10-10T10:48:54.081662Z"
    },
    "papermill": {
     "duration": 0.074806,
     "end_time": "2021-10-10T11:00:52.344207",
     "exception": false,
     "start_time": "2021-10-10T11:00:52.269401",
     "status": "completed"
    },
    "tags": []
   },
   "outputs": [],
   "source": [
    "# rating_dataset = rating_dataset.drop(rating_dataset[rating_dataset.rating == 0].index)"
   ]
  },
  {
   "cell_type": "markdown",
   "id": "1f810146",
   "metadata": {
    "papermill": {
     "duration": 0.067983,
     "end_time": "2021-10-10T11:00:52.481153",
     "exception": false,
     "start_time": "2021-10-10T11:00:52.413170",
     "status": "completed"
    },
    "tags": []
   },
   "source": [
    "Meneliti 5 data teratas dari dataset rating"
   ]
  },
  {
   "cell_type": "code",
   "execution_count": 9,
   "id": "c103cc49",
   "metadata": {
    "execution": {
     "iopub.execute_input": "2021-10-10T11:00:52.628704Z",
     "iopub.status.busy": "2021-10-10T11:00:52.628146Z",
     "iopub.status.idle": "2021-10-10T11:00:52.633432Z",
     "shell.execute_reply": "2021-10-10T11:00:52.633872Z",
     "shell.execute_reply.started": "2021-10-10T10:48:54.089649Z"
    },
    "papermill": {
     "duration": 0.083621,
     "end_time": "2021-10-10T11:00:52.634039",
     "exception": false,
     "start_time": "2021-10-10T11:00:52.550418",
     "status": "completed"
    },
    "tags": []
   },
   "outputs": [
    {
     "data": {
      "text/html": [
       "<div>\n",
       "<style scoped>\n",
       "    .dataframe tbody tr th:only-of-type {\n",
       "        vertical-align: middle;\n",
       "    }\n",
       "\n",
       "    .dataframe tbody tr th {\n",
       "        vertical-align: top;\n",
       "    }\n",
       "\n",
       "    .dataframe thead th {\n",
       "        text-align: right;\n",
       "    }\n",
       "</style>\n",
       "<table border=\"1\" class=\"dataframe\">\n",
       "  <thead>\n",
       "    <tr style=\"text-align: right;\">\n",
       "      <th></th>\n",
       "      <th>user_id</th>\n",
       "      <th>ISBN</th>\n",
       "      <th>rating</th>\n",
       "    </tr>\n",
       "  </thead>\n",
       "  <tbody>\n",
       "    <tr>\n",
       "      <th>0</th>\n",
       "      <td>276725</td>\n",
       "      <td>034545104X</td>\n",
       "      <td>0</td>\n",
       "    </tr>\n",
       "    <tr>\n",
       "      <th>1</th>\n",
       "      <td>276726</td>\n",
       "      <td>0155061224</td>\n",
       "      <td>5</td>\n",
       "    </tr>\n",
       "    <tr>\n",
       "      <th>2</th>\n",
       "      <td>276727</td>\n",
       "      <td>0446520802</td>\n",
       "      <td>0</td>\n",
       "    </tr>\n",
       "    <tr>\n",
       "      <th>3</th>\n",
       "      <td>276729</td>\n",
       "      <td>052165615X</td>\n",
       "      <td>3</td>\n",
       "    </tr>\n",
       "    <tr>\n",
       "      <th>4</th>\n",
       "      <td>276729</td>\n",
       "      <td>0521795028</td>\n",
       "      <td>6</td>\n",
       "    </tr>\n",
       "  </tbody>\n",
       "</table>\n",
       "</div>"
      ],
      "text/plain": [
       "   user_id        ISBN  rating\n",
       "0   276725  034545104X       0\n",
       "1   276726  0155061224       5\n",
       "2   276727  0446520802       0\n",
       "3   276729  052165615X       3\n",
       "4   276729  0521795028       6"
      ]
     },
     "execution_count": 9,
     "metadata": {},
     "output_type": "execute_result"
    }
   ],
   "source": [
    "rating_dataset.head()"
   ]
  },
  {
   "cell_type": "markdown",
   "id": "0e649538",
   "metadata": {
    "papermill": {
     "duration": 0.06784,
     "end_time": "2021-10-10T11:00:52.770785",
     "exception": false,
     "start_time": "2021-10-10T11:00:52.702945",
     "status": "completed"
    },
    "tags": []
   },
   "source": [
    "Meneliti 5 data teratas dari dataset buku"
   ]
  },
  {
   "cell_type": "code",
   "execution_count": 10,
   "id": "1829d847",
   "metadata": {
    "execution": {
     "iopub.execute_input": "2021-10-10T11:00:52.926155Z",
     "iopub.status.busy": "2021-10-10T11:00:52.925515Z",
     "iopub.status.idle": "2021-10-10T11:00:52.928328Z",
     "shell.execute_reply": "2021-10-10T11:00:52.928748Z",
     "shell.execute_reply.started": "2021-10-10T10:48:54.105775Z"
    },
    "papermill": {
     "duration": 0.086562,
     "end_time": "2021-10-10T11:00:52.928877",
     "exception": false,
     "start_time": "2021-10-10T11:00:52.842315",
     "status": "completed"
    },
    "tags": []
   },
   "outputs": [
    {
     "data": {
      "text/html": [
       "<div>\n",
       "<style scoped>\n",
       "    .dataframe tbody tr th:only-of-type {\n",
       "        vertical-align: middle;\n",
       "    }\n",
       "\n",
       "    .dataframe tbody tr th {\n",
       "        vertical-align: top;\n",
       "    }\n",
       "\n",
       "    .dataframe thead th {\n",
       "        text-align: right;\n",
       "    }\n",
       "</style>\n",
       "<table border=\"1\" class=\"dataframe\">\n",
       "  <thead>\n",
       "    <tr style=\"text-align: right;\">\n",
       "      <th></th>\n",
       "      <th>ISBN</th>\n",
       "      <th>Book-Title</th>\n",
       "      <th>Book-Author</th>\n",
       "      <th>Year-Of-Publication</th>\n",
       "      <th>Publisher</th>\n",
       "      <th>Image-URL-S</th>\n",
       "      <th>Image-URL-M</th>\n",
       "      <th>Image-URL-L</th>\n",
       "    </tr>\n",
       "  </thead>\n",
       "  <tbody>\n",
       "    <tr>\n",
       "      <th>0</th>\n",
       "      <td>0195153448</td>\n",
       "      <td>Classical Mythology</td>\n",
       "      <td>Mark P. O. Morford</td>\n",
       "      <td>2002</td>\n",
       "      <td>Oxford University Press</td>\n",
       "      <td>http://images.amazon.com/images/P/0195153448.0...</td>\n",
       "      <td>http://images.amazon.com/images/P/0195153448.0...</td>\n",
       "      <td>http://images.amazon.com/images/P/0195153448.0...</td>\n",
       "    </tr>\n",
       "    <tr>\n",
       "      <th>1</th>\n",
       "      <td>0002005018</td>\n",
       "      <td>Clara Callan</td>\n",
       "      <td>Richard Bruce Wright</td>\n",
       "      <td>2001</td>\n",
       "      <td>HarperFlamingo Canada</td>\n",
       "      <td>http://images.amazon.com/images/P/0002005018.0...</td>\n",
       "      <td>http://images.amazon.com/images/P/0002005018.0...</td>\n",
       "      <td>http://images.amazon.com/images/P/0002005018.0...</td>\n",
       "    </tr>\n",
       "    <tr>\n",
       "      <th>2</th>\n",
       "      <td>0060973129</td>\n",
       "      <td>Decision in Normandy</td>\n",
       "      <td>Carlo D'Este</td>\n",
       "      <td>1991</td>\n",
       "      <td>HarperPerennial</td>\n",
       "      <td>http://images.amazon.com/images/P/0060973129.0...</td>\n",
       "      <td>http://images.amazon.com/images/P/0060973129.0...</td>\n",
       "      <td>http://images.amazon.com/images/P/0060973129.0...</td>\n",
       "    </tr>\n",
       "    <tr>\n",
       "      <th>3</th>\n",
       "      <td>0374157065</td>\n",
       "      <td>Flu: The Story of the Great Influenza Pandemic...</td>\n",
       "      <td>Gina Bari Kolata</td>\n",
       "      <td>1999</td>\n",
       "      <td>Farrar Straus Giroux</td>\n",
       "      <td>http://images.amazon.com/images/P/0374157065.0...</td>\n",
       "      <td>http://images.amazon.com/images/P/0374157065.0...</td>\n",
       "      <td>http://images.amazon.com/images/P/0374157065.0...</td>\n",
       "    </tr>\n",
       "    <tr>\n",
       "      <th>4</th>\n",
       "      <td>0393045218</td>\n",
       "      <td>The Mummies of Urumchi</td>\n",
       "      <td>E. J. W. Barber</td>\n",
       "      <td>1999</td>\n",
       "      <td>W. W. Norton &amp;amp; Company</td>\n",
       "      <td>http://images.amazon.com/images/P/0393045218.0...</td>\n",
       "      <td>http://images.amazon.com/images/P/0393045218.0...</td>\n",
       "      <td>http://images.amazon.com/images/P/0393045218.0...</td>\n",
       "    </tr>\n",
       "  </tbody>\n",
       "</table>\n",
       "</div>"
      ],
      "text/plain": [
       "         ISBN                                         Book-Title  \\\n",
       "0  0195153448                                Classical Mythology   \n",
       "1  0002005018                                       Clara Callan   \n",
       "2  0060973129                               Decision in Normandy   \n",
       "3  0374157065  Flu: The Story of the Great Influenza Pandemic...   \n",
       "4  0393045218                             The Mummies of Urumchi   \n",
       "\n",
       "            Book-Author Year-Of-Publication                   Publisher  \\\n",
       "0    Mark P. O. Morford                2002     Oxford University Press   \n",
       "1  Richard Bruce Wright                2001       HarperFlamingo Canada   \n",
       "2          Carlo D'Este                1991             HarperPerennial   \n",
       "3      Gina Bari Kolata                1999        Farrar Straus Giroux   \n",
       "4       E. J. W. Barber                1999  W. W. Norton &amp; Company   \n",
       "\n",
       "                                         Image-URL-S  \\\n",
       "0  http://images.amazon.com/images/P/0195153448.0...   \n",
       "1  http://images.amazon.com/images/P/0002005018.0...   \n",
       "2  http://images.amazon.com/images/P/0060973129.0...   \n",
       "3  http://images.amazon.com/images/P/0374157065.0...   \n",
       "4  http://images.amazon.com/images/P/0393045218.0...   \n",
       "\n",
       "                                         Image-URL-M  \\\n",
       "0  http://images.amazon.com/images/P/0195153448.0...   \n",
       "1  http://images.amazon.com/images/P/0002005018.0...   \n",
       "2  http://images.amazon.com/images/P/0060973129.0...   \n",
       "3  http://images.amazon.com/images/P/0374157065.0...   \n",
       "4  http://images.amazon.com/images/P/0393045218.0...   \n",
       "\n",
       "                                         Image-URL-L  \n",
       "0  http://images.amazon.com/images/P/0195153448.0...  \n",
       "1  http://images.amazon.com/images/P/0002005018.0...  \n",
       "2  http://images.amazon.com/images/P/0060973129.0...  \n",
       "3  http://images.amazon.com/images/P/0374157065.0...  \n",
       "4  http://images.amazon.com/images/P/0393045218.0...  "
      ]
     },
     "execution_count": 10,
     "metadata": {},
     "output_type": "execute_result"
    }
   ],
   "source": [
    "book_dataset.head()"
   ]
  },
  {
   "cell_type": "markdown",
   "id": "b4c12bc5",
   "metadata": {
    "papermill": {
     "duration": 0.072586,
     "end_time": "2021-10-10T11:00:53.073229",
     "exception": false,
     "start_time": "2021-10-10T11:00:53.000643",
     "status": "completed"
    },
    "tags": []
   },
   "source": [
    "Memberi nama header baru pada kolom Book-Title, Book-Author, Image-URL-S, Image-URL-S,Image-URL-M,Image-URL-L pada book_dataset"
   ]
  },
  {
   "cell_type": "code",
   "execution_count": 11,
   "id": "9dbf6d31",
   "metadata": {
    "execution": {
     "iopub.execute_input": "2021-10-10T11:00:53.217531Z",
     "iopub.status.busy": "2021-10-10T11:00:53.216862Z",
     "iopub.status.idle": "2021-10-10T11:00:53.219280Z",
     "shell.execute_reply": "2021-10-10T11:00:53.219708Z",
     "shell.execute_reply.started": "2021-10-10T10:48:54.120267Z"
    },
    "papermill": {
     "duration": 0.076608,
     "end_time": "2021-10-10T11:00:53.219860",
     "exception": false,
     "start_time": "2021-10-10T11:00:53.143252",
     "status": "completed"
    },
    "tags": []
   },
   "outputs": [],
   "source": [
    "book_dataset = book_dataset.rename(columns={'Book-Title': 'book_title','Book-Author':'book_author','Year-Of-Publication':'year_of_publication','Image-URL-S':'Image_URL_S','Image-URL-M':'Image_URL_M','Image-URL-L':'Image_URL_L'})"
   ]
  },
  {
   "cell_type": "markdown",
   "id": "78b61b03",
   "metadata": {
    "papermill": {
     "duration": 0.069336,
     "end_time": "2021-10-10T11:00:53.357853",
     "exception": false,
     "start_time": "2021-10-10T11:00:53.288517",
     "status": "completed"
    },
    "tags": []
   },
   "source": [
    "Meneliti id buku - buku apa saja yang di-rate 10 oleh pengguna"
   ]
  },
  {
   "cell_type": "code",
   "execution_count": 12,
   "id": "a81624ef",
   "metadata": {
    "execution": {
     "iopub.execute_input": "2021-10-10T11:00:53.502777Z",
     "iopub.status.busy": "2021-10-10T11:00:53.502095Z",
     "iopub.status.idle": "2021-10-10T11:00:53.518849Z",
     "shell.execute_reply": "2021-10-10T11:00:53.518113Z",
     "shell.execute_reply.started": "2021-10-10T10:48:54.129048Z"
    },
    "papermill": {
     "duration": 0.092552,
     "end_time": "2021-10-10T11:00:53.518963",
     "exception": false,
     "start_time": "2021-10-10T11:00:53.426411",
     "status": "completed"
    },
    "tags": []
   },
   "outputs": [],
   "source": [
    "rating_dataset[rating_dataset.rating == max(rating_dataset.rating)]\n",
    "best_booksId = rating_dataset.ISBN[rating_dataset.rating == max(rating_dataset.rating)]\n",
    "best_booksId = list(dict.fromkeys(best_booksId))"
   ]
  },
  {
   "cell_type": "markdown",
   "id": "a22c8fc7",
   "metadata": {
    "papermill": {
     "duration": 0.071371,
     "end_time": "2021-10-10T11:00:53.659078",
     "exception": false,
     "start_time": "2021-10-10T11:00:53.587707",
     "status": "completed"
    },
    "tags": []
   },
   "source": [
    "Meneliti buku - buku apa saja yang di-rate 10 oleh pengguna"
   ]
  },
  {
   "cell_type": "code",
   "execution_count": 13,
   "id": "ff456c0c",
   "metadata": {
    "execution": {
     "iopub.execute_input": "2021-10-10T11:00:54.308689Z",
     "iopub.status.busy": "2021-10-10T11:00:53.876056Z",
     "iopub.status.idle": "2021-10-10T11:00:54.312463Z",
     "shell.execute_reply": "2021-10-10T11:00:54.311983Z",
     "shell.execute_reply.started": "2021-10-10T10:48:54.150245Z"
    },
    "papermill": {
     "duration": 0.584271,
     "end_time": "2021-10-10T11:00:54.312639",
     "exception": false,
     "start_time": "2021-10-10T11:00:53.728368",
     "status": "completed"
    },
    "tags": []
   },
   "outputs": [],
   "source": [
    "best_books = []\n",
    "for i in best_booksId:\n",
    "    books_name = book_dataset.book_title[book_dataset.ISBN == i]\n",
    "    best_books.append(books_name)"
   ]
  },
  {
   "cell_type": "code",
   "execution_count": 14,
   "id": "cf14c098",
   "metadata": {
    "execution": {
     "iopub.execute_input": "2021-10-10T11:00:54.509902Z",
     "iopub.status.busy": "2021-10-10T11:00:54.509010Z",
     "iopub.status.idle": "2021-10-10T11:00:54.512843Z",
     "shell.execute_reply": "2021-10-10T11:00:54.513249Z",
     "shell.execute_reply.started": "2021-10-10T10:48:54.718845Z"
    },
    "papermill": {
     "duration": 0.130968,
     "end_time": "2021-10-10T11:00:54.513378",
     "exception": false,
     "start_time": "2021-10-10T11:00:54.382410",
     "status": "completed"
    },
    "tags": []
   },
   "outputs": [
    {
     "data": {
      "text/plain": [
       "[Series([], Name: book_title, dtype: object),\n",
       " Series([], Name: book_title, dtype: object),\n",
       " Series([], Name: book_title, dtype: object),\n",
       " Series([], Name: book_title, dtype: object),\n",
       " Series([], Name: book_title, dtype: object),\n",
       " Series([], Name: book_title, dtype: object),\n",
       " 5731    The Watsons Go to Birmingham - 1963 (Yearling ...\n",
       " Name: book_title, dtype: object,\n",
       " Series([], Name: book_title, dtype: object),\n",
       " Series([], Name: book_title, dtype: object),\n",
       " Series([], Name: book_title, dtype: object),\n",
       " Series([], Name: book_title, dtype: object),\n",
       " Series([], Name: book_title, dtype: object),\n",
       " Series([], Name: book_title, dtype: object),\n",
       " Series([], Name: book_title, dtype: object),\n",
       " Series([], Name: book_title, dtype: object),\n",
       " Series([], Name: book_title, dtype: object),\n",
       " 8271    Auf Ehre und Gewissen. Roman.\n",
       " Name: book_title, dtype: object,\n",
       " 5732    Im Angesicht des Feindes.\n",
       " Name: book_title, dtype: object,\n",
       " Series([], Name: book_title, dtype: object),\n",
       " Series([], Name: book_title, dtype: object),\n",
       " Series([], Name: book_title, dtype: object),\n",
       " Series([], Name: book_title, dtype: object),\n",
       " Series([], Name: book_title, dtype: object),\n",
       " Series([], Name: book_title, dtype: object),\n",
       " Series([], Name: book_title, dtype: object),\n",
       " Series([], Name: book_title, dtype: object),\n",
       " Series([], Name: book_title, dtype: object),\n",
       " Series([], Name: book_title, dtype: object),\n",
       " Series([], Name: book_title, dtype: object),\n",
       " Series([], Name: book_title, dtype: object),\n",
       " Series([], Name: book_title, dtype: object),\n",
       " Series([], Name: book_title, dtype: object),\n",
       " Series([], Name: book_title, dtype: object),\n",
       " 2884    The King of Torts\n",
       " Name: book_title, dtype: object,\n",
       " Series([], Name: book_title, dtype: object),\n",
       " Series([], Name: book_title, dtype: object),\n",
       " 3739    Politically Correct Bedtime Stories: Modern Ta...\n",
       " Name: book_title, dtype: object,\n",
       " 4349    La Sombra del Viento\n",
       " Name: book_title, dtype: object,\n",
       " Series([], Name: book_title, dtype: object),\n",
       " Series([], Name: book_title, dtype: object),\n",
       " Series([], Name: book_title, dtype: object),\n",
       " 7293    Sons of Entropy  (Buffy the Vampire Slayer: Th...\n",
       " Name: book_title, dtype: object,\n",
       " Series([], Name: book_title, dtype: object),\n",
       " Series([], Name: book_title, dtype: object),\n",
       " Series([], Name: book_title, dtype: object),\n",
       " 5677    Les Heures / The Hours\n",
       " Name: book_title, dtype: object,\n",
       " Series([], Name: book_title, dtype: object),\n",
       " Series([], Name: book_title, dtype: object),\n",
       " 37    To Kill a Mockingbird\n",
       " Name: book_title, dtype: object,\n",
       " Series([], Name: book_title, dtype: object),\n",
       " Series([], Name: book_title, dtype: object),\n",
       " Series([], Name: book_title, dtype: object),\n",
       " 7082    The Terminal Man\n",
       " Name: book_title, dtype: object,\n",
       " Series([], Name: book_title, dtype: object),\n",
       " Series([], Name: book_title, dtype: object),\n",
       " 2251    The Fires of Heaven (The Wheel of Time, Book 5)\n",
       " Name: book_title, dtype: object,\n",
       " Series([], Name: book_title, dtype: object),\n",
       " Series([], Name: book_title, dtype: object),\n",
       " Series([], Name: book_title, dtype: object),\n",
       " Series([], Name: book_title, dtype: object),\n",
       " 670    The Bell Jar : A Novel (Perennial Classics)\n",
       " Name: book_title, dtype: object,\n",
       " 4726    The Idiot Girls' Action Adventure Club\n",
       " Name: book_title, dtype: object,\n",
       " 9921    Go Ask Alice\n",
       " Name: book_title, dtype: object,\n",
       " Series([], Name: book_title, dtype: object),\n",
       " Series([], Name: book_title, dtype: object),\n",
       " Series([], Name: book_title, dtype: object),\n",
       " Series([], Name: book_title, dtype: object),\n",
       " Series([], Name: book_title, dtype: object),\n",
       " Series([], Name: book_title, dtype: object),\n",
       " 6347    Restaurant At the End of the Universe\n",
       " Name: book_title, dtype: object,\n",
       " 1281    Choke\n",
       " Name: book_title, dtype: object,\n",
       " Series([], Name: book_title, dtype: object),\n",
       " Series([], Name: book_title, dtype: object),\n",
       " Series([], Name: book_title, dtype: object),\n",
       " 9333    Beauty: A Retelling of the Story of Beauty and...\n",
       " Name: book_title, dtype: object,\n",
       " Series([], Name: book_title, dtype: object),\n",
       " 2641    Reading Lolita in Tehran: A Memoir in Books\n",
       " Name: book_title, dtype: object,\n",
       " 5088    I Am Legend\n",
       " Name: book_title, dtype: object,\n",
       " Series([], Name: book_title, dtype: object),\n",
       " Series([], Name: book_title, dtype: object),\n",
       " 5649    Holes (Yearling Newbery)\n",
       " Name: book_title, dtype: object,\n",
       " Series([], Name: book_title, dtype: object),\n",
       " 166    Bridget Jones's Diary\n",
       " Name: book_title, dtype: object,\n",
       " Series([], Name: book_title, dtype: object),\n",
       " Series([], Name: book_title, dtype: object),\n",
       " Series([], Name: book_title, dtype: object),\n",
       " Series([], Name: book_title, dtype: object),\n",
       " 485    She's Come Undone (Oprah's Book Club)\n",
       " Name: book_title, dtype: object,\n",
       " Series([], Name: book_title, dtype: object),\n",
       " Series([], Name: book_title, dtype: object),\n",
       " Series([], Name: book_title, dtype: object),\n",
       " 235    Clifford's Sports Day\n",
       " Name: book_title, dtype: object,\n",
       " Series([], Name: book_title, dtype: object),\n",
       " Series([], Name: book_title, dtype: object),\n",
       " 4467    White Teeth: A Novel\n",
       " Name: book_title, dtype: object,\n",
       " Series([], Name: book_title, dtype: object),\n",
       " 231    Girl with a Pearl Earring\n",
       " Name: book_title, dtype: object,\n",
       " Series([], Name: book_title, dtype: object),\n",
       " Series([], Name: book_title, dtype: object),\n",
       " Series([], Name: book_title, dtype: object),\n",
       " Series([], Name: book_title, dtype: object),\n",
       " Series([], Name: book_title, dtype: object),\n",
       " Series([], Name: book_title, dtype: object),\n",
       " Series([], Name: book_title, dtype: object),\n",
       " Series([], Name: book_title, dtype: object),\n",
       " 1988    The Murder Book\n",
       " Name: book_title, dtype: object,\n",
       " Series([], Name: book_title, dtype: object),\n",
       " 5399    The Once and Future King\n",
       " Name: book_title, dtype: object,\n",
       " Series([], Name: book_title, dtype: object),\n",
       " 4433    Saving Faith\n",
       " Name: book_title, dtype: object,\n",
       " Series([], Name: book_title, dtype: object),\n",
       " Series([], Name: book_title, dtype: object),\n",
       " 9541    Doomsday Book\n",
       " Name: book_title, dtype: object,\n",
       " 1216    The Beekeeper's Apprentice\n",
       " Name: book_title, dtype: object,\n",
       " Series([], Name: book_title, dtype: object),\n",
       " Series([], Name: book_title, dtype: object),\n",
       " Series([], Name: book_title, dtype: object),\n",
       " Series([], Name: book_title, dtype: object),\n",
       " Series([], Name: book_title, dtype: object),\n",
       " Series([], Name: book_title, dtype: object),\n",
       " 3623    The Golden Mean: In Which the Extraordinary Co...\n",
       " Name: book_title, dtype: object,\n",
       " Series([], Name: book_title, dtype: object),\n",
       " Series([], Name: book_title, dtype: object),\n",
       " Series([], Name: book_title, dtype: object),\n",
       " Series([], Name: book_title, dtype: object),\n",
       " Series([], Name: book_title, dtype: object),\n",
       " Series([], Name: book_title, dtype: object),\n",
       " 4949    Dilbert Fugitive From The Cubicle Police\n",
       " Name: book_title, dtype: object,\n",
       " Series([], Name: book_title, dtype: object),\n",
       " Series([], Name: book_title, dtype: object),\n",
       " Series([], Name: book_title, dtype: object),\n",
       " Series([], Name: book_title, dtype: object),\n",
       " Series([], Name: book_title, dtype: object),\n",
       " Series([], Name: book_title, dtype: object),\n",
       " Series([], Name: book_title, dtype: object),\n",
       " Series([], Name: book_title, dtype: object),\n",
       " Series([], Name: book_title, dtype: object),\n",
       " Series([], Name: book_title, dtype: object),\n",
       " Series([], Name: book_title, dtype: object),\n",
       " Series([], Name: book_title, dtype: object),\n",
       " Series([], Name: book_title, dtype: object),\n",
       " Series([], Name: book_title, dtype: object),\n",
       " Series([], Name: book_title, dtype: object),\n",
       " Series([], Name: book_title, dtype: object),\n",
       " Series([], Name: book_title, dtype: object),\n",
       " Series([], Name: book_title, dtype: object),\n",
       " 2683    The Visitor (Animorphs, No 2)\n",
       " Name: book_title, dtype: object,\n",
       " 2684    The Encounter (Animorphs , No 3)\n",
       " Name: book_title, dtype: object,\n",
       " 2655    The Message (Animorphs , No 4)\n",
       " Name: book_title, dtype: object,\n",
       " Series([], Name: book_title, dtype: object),\n",
       " 522    The Red Tent (Bestselling Backlist)\n",
       " Name: book_title, dtype: object,\n",
       " 8115    Fischer TaschenbÃ?Â¼cher, Bd.26, SchÃ?Â¶ne neu...\n",
       " Name: book_title, dtype: object,\n",
       " Series([], Name: book_title, dtype: object),\n",
       " Series([], Name: book_title, dtype: object),\n",
       " Series([], Name: book_title, dtype: object),\n",
       " Series([], Name: book_title, dtype: object),\n",
       " 3820    The Clan of the Cave Bear : a novel\n",
       " Name: book_title, dtype: object,\n",
       " Series([], Name: book_title, dtype: object),\n",
       " Series([], Name: book_title, dtype: object),\n",
       " Series([], Name: book_title, dtype: object),\n",
       " Series([], Name: book_title, dtype: object),\n",
       " Series([], Name: book_title, dtype: object),\n",
       " 7356    Ten Big Ones: A Stephanie Plum Novel\n",
       " Name: book_title, dtype: object,\n",
       " 7354    3rd Degree\n",
       " Name: book_title, dtype: object,\n",
       " 788    2nd Chance\n",
       " Name: book_title, dtype: object,\n",
       " 6029    The Conspiracy Club\n",
       " Name: book_title, dtype: object,\n",
       " 8044    Therapy\n",
       " Name: book_title, dtype: object,\n",
       " 3415    Ransom (Steel, Danielle)\n",
       " Name: book_title, dtype: object,\n",
       " Series([], Name: book_title, dtype: object),\n",
       " 219    The King of Torts\n",
       " Name: book_title, dtype: object,\n",
       " 1452    The Last Juror\n",
       " Name: book_title, dtype: object,\n",
       " Series([], Name: book_title, dtype: object),\n",
       " Series([], Name: book_title, dtype: object),\n",
       " Series([], Name: book_title, dtype: object),\n",
       " 7933    The Jester\n",
       " Name: book_title, dtype: object,\n",
       " 8957    Hemlock Bay\n",
       " Name: book_title, dtype: object,\n",
       " Series([], Name: book_title, dtype: object),\n",
       " Series([], Name: book_title, dtype: object),\n",
       " 3307    The Tail of the Tip-Off\n",
       " Name: book_title, dtype: object,\n",
       " Series([], Name: book_title, dtype: object),\n",
       " Series([], Name: book_title, dtype: object),\n",
       " 1679    Before I Say Good-Bye : A Novel\n",
       " Name: book_title, dtype: object,\n",
       " Series([], Name: book_title, dtype: object),\n",
       " 763    Daddy's Little Girl\n",
       " Name: book_title, dtype: object,\n",
       " 250    Chicken Soup for the Woman's Soul (Chicken Sou...\n",
       " Name: book_title, dtype: object,\n",
       " Series([], Name: book_title, dtype: object),\n",
       " Series([], Name: book_title, dtype: object),\n",
       " Series([], Name: book_title, dtype: object),\n",
       " Series([], Name: book_title, dtype: object),\n",
       " 6253    The Hobbit\n",
       " Name: book_title, dtype: object,\n",
       " Series([], Name: book_title, dtype: object),\n",
       " Series([], Name: book_title, dtype: object),\n",
       " Series([], Name: book_title, dtype: object),\n",
       " Series([], Name: book_title, dtype: object),\n",
       " Series([], Name: book_title, dtype: object),\n",
       " Series([], Name: book_title, dtype: object),\n",
       " Series([], Name: book_title, dtype: object),\n",
       " Series([], Name: book_title, dtype: object),\n",
       " Series([], Name: book_title, dtype: object),\n",
       " 6059    Sleep No More\n",
       " Name: book_title, dtype: object,\n",
       " Series([], Name: book_title, dtype: object),\n",
       " Series([], Name: book_title, dtype: object),\n",
       " Series([], Name: book_title, dtype: object),\n",
       " Series([], Name: book_title, dtype: object),\n",
       " 38    Seabiscuit: An American Legend\n",
       " Name: book_title, dtype: object,\n",
       " Series([], Name: book_title, dtype: object),\n",
       " Series([], Name: book_title, dtype: object),\n",
       " Series([], Name: book_title, dtype: object),\n",
       " Series([], Name: book_title, dtype: object),\n",
       " 2667    50 Simple Things You Can Do to Save the Earth\n",
       " Name: book_title, dtype: object,\n",
       " 2355    Murder on the Orient Express (Hercule Poirot M...\n",
       " Name: book_title, dtype: object,\n",
       " Series([], Name: book_title, dtype: object),\n",
       " Series([], Name: book_title, dtype: object),\n",
       " Series([], Name: book_title, dtype: object),\n",
       " 9761    Hatchet\n",
       " Name: book_title, dtype: object,\n",
       " Series([], Name: book_title, dtype: object),\n",
       " Series([], Name: book_title, dtype: object),\n",
       " Series([], Name: book_title, dtype: object),\n",
       " 7690    Without Remorse\n",
       " Name: book_title, dtype: object,\n",
       " 6715    The New American Dictionary of Baby Names\n",
       " Name: book_title, dtype: object,\n",
       " Series([], Name: book_title, dtype: object),\n",
       " Series([], Name: book_title, dtype: object),\n",
       " Series([], Name: book_title, dtype: object),\n",
       " Series([], Name: book_title, dtype: object),\n",
       " Series([], Name: book_title, dtype: object),\n",
       " Series([], Name: book_title, dtype: object),\n",
       " Series([], Name: book_title, dtype: object),\n",
       " 3460    Mama Makes Up Her Mind: And Other Dangers of S...\n",
       " Name: book_title, dtype: object,\n",
       " Series([], Name: book_title, dtype: object),\n",
       " Series([], Name: book_title, dtype: object),\n",
       " Series([], Name: book_title, dtype: object),\n",
       " Series([], Name: book_title, dtype: object),\n",
       " Series([], Name: book_title, dtype: object),\n",
       " Series([], Name: book_title, dtype: object),\n",
       " Series([], Name: book_title, dtype: object),\n",
       " Series([], Name: book_title, dtype: object),\n",
       " Series([], Name: book_title, dtype: object),\n",
       " Series([], Name: book_title, dtype: object),\n",
       " Series([], Name: book_title, dtype: object),\n",
       " 2290    Tuesdays with Morrie: An Old Man, a Young Man,...\n",
       " Name: book_title, dtype: object,\n",
       " Series([], Name: book_title, dtype: object),\n",
       " 2864    ANGELA'S ASHES\n",
       " Name: book_title, dtype: object,\n",
       " Series([], Name: book_title, dtype: object),\n",
       " Series([], Name: book_title, dtype: object),\n",
       " Series([], Name: book_title, dtype: object),\n",
       " Series([], Name: book_title, dtype: object),\n",
       " Series([], Name: book_title, dtype: object),\n",
       " 7997    Last Man Standing\n",
       " Name: book_title, dtype: object,\n",
       " Series([], Name: book_title, dtype: object),\n",
       " Series([], Name: book_title, dtype: object),\n",
       " Series([], Name: book_title, dtype: object),\n",
       " Series([], Name: book_title, dtype: object),\n",
       " Series([], Name: book_title, dtype: object),\n",
       " Series([], Name: book_title, dtype: object),\n",
       " Series([], Name: book_title, dtype: object),\n",
       " Series([], Name: book_title, dtype: object),\n",
       " Series([], Name: book_title, dtype: object),\n",
       " Series([], Name: book_title, dtype: object),\n",
       " Series([], Name: book_title, dtype: object),\n",
       " Series([], Name: book_title, dtype: object),\n",
       " Series([], Name: book_title, dtype: object),\n",
       " Series([], Name: book_title, dtype: object),\n",
       " Series([], Name: book_title, dtype: object),\n",
       " 4430    House of Sand and Fog\n",
       " Name: book_title, dtype: object,\n",
       " Series([], Name: book_title, dtype: object),\n",
       " Series([], Name: book_title, dtype: object),\n",
       " 2143    Harry Potter and the Sorcerer's Stone (Harry P...\n",
       " Name: book_title, dtype: object,\n",
       " 2943    CRY THE BELOVED COUNTRY (Scribner Classic)\n",
       " Name: book_title, dtype: object,\n",
       " Series([], Name: book_title, dtype: object),\n",
       " 3019    The Good Earth (Enriched Classics)\n",
       " Name: book_title, dtype: object,\n",
       " Series([], Name: book_title, dtype: object),\n",
       " 810    The Wasp Factory\n",
       " Name: book_title, dtype: object,\n",
       " Series([], Name: book_title, dtype: object),\n",
       " Series([], Name: book_title, dtype: object),\n",
       " Series([], Name: book_title, dtype: object),\n",
       " Series([], Name: book_title, dtype: object),\n",
       " 6709    The Birth Book : Everything You Need to Know t...\n",
       " Name: book_title, dtype: object,\n",
       " Series([], Name: book_title, dtype: object),\n",
       " Series([], Name: book_title, dtype: object),\n",
       " Series([], Name: book_title, dtype: object),\n",
       " Series([], Name: book_title, dtype: object),\n",
       " Series([], Name: book_title, dtype: object),\n",
       " Series([], Name: book_title, dtype: object),\n",
       " Series([], Name: book_title, dtype: object),\n",
       " 6547    The Probable Future (Ballantine Reader's Circle)\n",
       " Name: book_title, dtype: object,\n",
       " 7717    Night over Water\n",
       " Name: book_title, dtype: object,\n",
       " 52    The Street Lawyer\n",
       " Name: book_title, dtype: object,\n",
       " 6124    War and Peace (Penguin Classics)\n",
       " Name: book_title, dtype: object,\n",
       " Series([], Name: book_title, dtype: object),\n",
       " 6330    Harry Potter and the Prisoner of Azkaban (Book 3)\n",
       " Name: book_title, dtype: object,\n",
       " 6932    Harry Potter and the Goblet of Fire (Book 4)\n",
       " Name: book_title, dtype: object,\n",
       " 5506    Harry Potter and the Order of the Phoenix (Boo...\n",
       " Name: book_title, dtype: object,\n",
       " Series([], Name: book_title, dtype: object),\n",
       " Series([], Name: book_title, dtype: object),\n",
       " Series([], Name: book_title, dtype: object),\n",
       " Series([], Name: book_title, dtype: object),\n",
       " Series([], Name: book_title, dtype: object),\n",
       " 3447    The Temple of My Familiar\n",
       " Name: book_title, dtype: object,\n",
       " Series([], Name: book_title, dtype: object),\n",
       " Series([], Name: book_title, dtype: object)]"
      ]
     },
     "execution_count": 14,
     "metadata": {},
     "output_type": "execute_result"
    }
   ],
   "source": [
    "best_books"
   ]
  },
  {
   "cell_type": "markdown",
   "id": "da35901c",
   "metadata": {
    "papermill": {
     "duration": 0.070584,
     "end_time": "2021-10-10T11:00:54.653822",
     "exception": false,
     "start_time": "2021-10-10T11:00:54.583238",
     "status": "completed"
    },
    "tags": []
   },
   "source": [
    "Meneliti jumlah buku - buku bagus"
   ]
  },
  {
   "cell_type": "code",
   "execution_count": 15,
   "id": "a94882bd",
   "metadata": {
    "execution": {
     "iopub.execute_input": "2021-10-10T11:00:54.810061Z",
     "iopub.status.busy": "2021-10-10T11:00:54.809395Z",
     "iopub.status.idle": "2021-10-10T11:00:54.812184Z",
     "shell.execute_reply": "2021-10-10T11:00:54.812656Z",
     "shell.execute_reply.started": "2021-10-10T10:48:54.807573Z"
    },
    "papermill": {
     "duration": 0.088564,
     "end_time": "2021-10-10T11:00:54.812786",
     "exception": false,
     "start_time": "2021-10-10T11:00:54.724222",
     "status": "completed"
    },
    "tags": []
   },
   "outputs": [
    {
     "data": {
      "text/plain": [
       "300"
      ]
     },
     "execution_count": 15,
     "metadata": {},
     "output_type": "execute_result"
    }
   ],
   "source": [
    "len(best_books)"
   ]
  },
  {
   "cell_type": "markdown",
   "id": "6664ab6a",
   "metadata": {
    "papermill": {
     "duration": 0.071532,
     "end_time": "2021-10-10T11:00:54.956443",
     "exception": false,
     "start_time": "2021-10-10T11:00:54.884911",
     "status": "completed"
    },
    "tags": []
   },
   "source": [
    "## Univariate Data Analys"
   ]
  },
  {
   "cell_type": "markdown",
   "id": "4c06c570",
   "metadata": {
    "papermill": {
     "duration": 0.073891,
     "end_time": "2021-10-10T11:00:55.102331",
     "exception": false,
     "start_time": "2021-10-10T11:00:55.028440",
     "status": "completed"
    },
    "tags": []
   },
   "source": [
    "Meneliti distribusi rating dari rating dataframe dengan Barplot"
   ]
  },
  {
   "cell_type": "code",
   "execution_count": 16,
   "id": "23f3d808",
   "metadata": {
    "execution": {
     "iopub.execute_input": "2021-10-10T11:00:55.249953Z",
     "iopub.status.busy": "2021-10-10T11:00:55.249128Z",
     "iopub.status.idle": "2021-10-10T11:00:55.487985Z",
     "shell.execute_reply": "2021-10-10T11:00:55.487569Z",
     "shell.execute_reply.started": "2021-10-10T10:48:54.823327Z"
    },
    "papermill": {
     "duration": 0.314639,
     "end_time": "2021-10-10T11:00:55.488114",
     "exception": false,
     "start_time": "2021-10-10T11:00:55.173475",
     "status": "completed"
    },
    "tags": []
   },
   "outputs": [
    {
     "data": {
      "image/png": "[encoded data removed]",
      "text/plain": [
       "<Figure size 432x288 with 1 Axes>"
      ]
     },
     "metadata": {
      "needs_background": "light"
     },
     "output_type": "display_data"
    }
   ],
   "source": [
    "count = rating_dataset[\"rating\"].value_counts()\n",
    "count.plot(kind='bar', title=\"Rating\");\n",
    " \n",
    "plt.show()"
   ]
  },
  {
   "cell_type": "markdown",
   "id": "1756c9de",
   "metadata": {
    "papermill": {
     "duration": 0.069506,
     "end_time": "2021-10-10T11:00:55.627134",
     "exception": false,
     "start_time": "2021-10-10T11:00:55.557628",
     "status": "completed"
    },
    "tags": []
   },
   "source": [
    "Meneliti distribusi tahun terbitnya buku dari book dataframe dengan Barplot"
   ]
  },
  {
   "cell_type": "code",
   "execution_count": 17,
   "id": "8148b7a3",
   "metadata": {
    "execution": {
     "iopub.execute_input": "2021-10-10T11:00:55.824468Z",
     "iopub.status.busy": "2021-10-10T11:00:55.804791Z",
     "iopub.status.idle": "2021-10-10T11:00:56.555293Z",
     "shell.execute_reply": "2021-10-10T11:00:56.556013Z",
     "shell.execute_reply.started": "2021-10-10T10:48:55.138863Z"
    },
    "papermill": {
     "duration": 0.853158,
     "end_time": "2021-10-10T11:00:56.556168",
     "exception": false,
     "start_time": "2021-10-10T11:00:55.703010",
     "status": "completed"
    },
    "tags": []
   },
   "outputs": [
    {
     "data": {
      "image/png": "[encoded data removed]",
      "text/plain": [
       "<Figure size 432x288 with 1 Axes>"
      ]
     },
     "metadata": {
      "needs_background": "light"
     },
     "output_type": "display_data"
    }
   ],
   "source": [
    "count = book_dataset[\"year_of_publication\"].value_counts()\n",
    "count.plot(kind='bar', title=\"Year of Publication\");\n",
    " \n",
    "plt.show()"
   ]
  },
  {
   "cell_type": "markdown",
   "id": "e18c6438",
   "metadata": {
    "papermill": {
     "duration": 0.070022,
     "end_time": "2021-10-10T11:00:56.697530",
     "exception": false,
     "start_time": "2021-10-10T11:00:56.627508",
     "status": "completed"
    },
    "tags": []
   },
   "source": [
    "## Multivariate Analysis"
   ]
  },
  {
   "cell_type": "markdown",
   "id": "35894b85",
   "metadata": {
    "papermill": {
     "duration": 0.075481,
     "end_time": "2021-10-10T11:00:56.848940",
     "exception": false,
     "start_time": "2021-10-10T11:00:56.773459",
     "status": "completed"
    },
    "tags": []
   },
   "source": [
    "Melihat pairplot yang ada pada rating dataset"
   ]
  },
  {
   "cell_type": "code",
   "execution_count": 18,
   "id": "343f1036",
   "metadata": {
    "execution": {
     "iopub.execute_input": "2021-10-10T11:00:56.998756Z",
     "iopub.status.busy": "2021-10-10T11:00:56.998016Z",
     "iopub.status.idle": "2021-10-10T11:00:58.699376Z",
     "shell.execute_reply": "2021-10-10T11:00:58.700004Z",
     "shell.execute_reply.started": "2021-10-10T10:48:55.881097Z"
    },
    "papermill": {
     "duration": 1.778421,
     "end_time": "2021-10-10T11:00:58.700164",
     "exception": false,
     "start_time": "2021-10-10T11:00:56.921743",
     "status": "completed"
    },
    "tags": []
   },
   "outputs": [
    {
     "data": {
      "text/plain": [
       "<seaborn.axisgrid.PairGrid at 0x7fea180e7610>"
      ]
     },
     "execution_count": 18,
     "metadata": {},
     "output_type": "execute_result"
    },
    {
     "data": {
      "image/png": "[encoded data removed]",
      "text/plain": [
       "<Figure size 360x360 with 6 Axes>"
      ]
     },
     "metadata": {
      "needs_background": "light"
     },
     "output_type": "display_data"
    }
   ],
   "source": [
    "import seaborn as sns\n",
    "sns.pairplot(rating_dataset, diag_kind = 'kde')"
   ]
  },
  {
   "cell_type": "markdown",
   "id": "715d4453",
   "metadata": {
    "papermill": {
     "duration": 0.07288,
     "end_time": "2021-10-10T11:00:58.847761",
     "exception": false,
     "start_time": "2021-10-10T11:00:58.774881",
     "status": "completed"
    },
    "tags": []
   },
   "source": [
    "___\n",
    "# Content Filtered Recommendation System"
   ]
  },
  {
   "cell_type": "markdown",
   "id": "013b6cc1",
   "metadata": {
    "papermill": {
     "duration": 0.073066,
     "end_time": "2021-10-10T11:00:58.993765",
     "exception": false,
     "start_time": "2021-10-10T11:00:58.920699",
     "status": "completed"
    },
    "tags": []
   },
   "source": [
    "Content Based Filtering adalah sistem rekomendasi yang merekomendasikan item sesuai dengan item yang disukai oleh pengguna di masa lampau.\n",
    "\n",
    "Content Based mempelajari profil dan perilaku dari pengguna yang kemudian dari informasi tersebut dianalisa dan diproses sehingga menghasilkan sistem rekomendasi yang baik. Semakin banyak informasi yang diberikan ke sistem ini, maka sistem rekomendasi berbasis content based akan memiliki akurasi yang lebih baik."
   ]
  },
  {
   "cell_type": "markdown",
   "id": "45b39005",
   "metadata": {
    "papermill": {
     "duration": 0.075611,
     "end_time": "2021-10-10T11:00:59.144476",
     "exception": false,
     "start_time": "2021-10-10T11:00:59.068865",
     "status": "completed"
    },
    "tags": []
   },
   "source": [
    "## Data Preparation"
   ]
  },
  {
   "cell_type": "markdown",
   "id": "9feb9d39",
   "metadata": {
    "papermill": {
     "duration": 0.074752,
     "end_time": "2021-10-10T11:00:59.296138",
     "exception": false,
     "start_time": "2021-10-10T11:00:59.221386",
     "status": "completed"
    },
    "tags": []
   },
   "source": [
    "Di code bawah ini saya men-drop seluruh row yang memiliki nilai NaN"
   ]
  },
  {
   "cell_type": "code",
   "execution_count": 19,
   "id": "b1e46f54",
   "metadata": {
    "execution": {
     "iopub.execute_input": "2021-10-10T11:00:59.457587Z",
     "iopub.status.busy": "2021-10-10T11:00:59.456714Z",
     "iopub.status.idle": "2021-10-10T11:00:59.463013Z",
     "shell.execute_reply": "2021-10-10T11:00:59.463368Z",
     "shell.execute_reply.started": "2021-10-10T10:48:57.587390Z"
    },
    "papermill": {
     "duration": 0.093661,
     "end_time": "2021-10-10T11:00:59.463514",
     "exception": false,
     "start_time": "2021-10-10T11:00:59.369853",
     "status": "completed"
    },
    "tags": []
   },
   "outputs": [],
   "source": [
    "book_dataset = book_dataset.dropna()\n",
    "rating_dataset = rating_dataset.dropna()"
   ]
  },
  {
   "cell_type": "markdown",
   "id": "73e1b5a7",
   "metadata": {
    "papermill": {
     "duration": 0.076523,
     "end_time": "2021-10-10T11:00:59.612709",
     "exception": false,
     "start_time": "2021-10-10T11:00:59.536186",
     "status": "completed"
    },
    "tags": []
   },
   "source": [
    "Pada cell code di bawah ini, saya melakukan drop atau pembuangan pada row - row yang merupakan duplikasi dari row - row yang lain, sehingga dataset kita tetap memiliki integritas dan tidak berulang"
   ]
  },
  {
   "cell_type": "code",
   "execution_count": 20,
   "id": "332b0512",
   "metadata": {
    "execution": {
     "iopub.execute_input": "2021-10-10T11:00:59.771277Z",
     "iopub.status.busy": "2021-10-10T11:00:59.770678Z",
     "iopub.status.idle": "2021-10-10T11:00:59.795791Z",
     "shell.execute_reply": "2021-10-10T11:00:59.796171Z",
     "shell.execute_reply.started": "2021-10-10T10:48:57.607882Z"
    },
    "papermill": {
     "duration": 0.108524,
     "end_time": "2021-10-10T11:00:59.796318",
     "exception": false,
     "start_time": "2021-10-10T11:00:59.687794",
     "status": "completed"
    },
    "tags": []
   },
   "outputs": [],
   "source": [
    "rating_dataset = rating_dataset.drop_duplicates()\n",
    "book_dataset = book_dataset.drop_duplicates()"
   ]
  },
  {
   "cell_type": "markdown",
   "id": "40cd42aa",
   "metadata": {
    "papermill": {
     "duration": 0.075752,
     "end_time": "2021-10-10T11:00:59.949062",
     "exception": false,
     "start_time": "2021-10-10T11:00:59.873310",
     "status": "completed"
    },
    "tags": []
   },
   "source": [
    "Meneliti deskripsi dari dataset book"
   ]
  },
  {
   "cell_type": "code",
   "execution_count": 21,
   "id": "787417d1",
   "metadata": {
    "execution": {
     "iopub.execute_input": "2021-10-10T11:01:00.111141Z",
     "iopub.status.busy": "2021-10-10T11:01:00.110489Z",
     "iopub.status.idle": "2021-10-10T11:01:00.113254Z",
     "shell.execute_reply": "2021-10-10T11:01:00.113692Z",
     "shell.execute_reply.started": "2021-10-10T10:48:57.637317Z"
    },
    "papermill": {
     "duration": 0.088957,
     "end_time": "2021-10-10T11:01:00.113831",
     "exception": false,
     "start_time": "2021-10-10T11:01:00.024874",
     "status": "completed"
    },
    "tags": []
   },
   "outputs": [
    {
     "data": {
      "text/plain": [
       "(10000, 8)"
      ]
     },
     "execution_count": 21,
     "metadata": {},
     "output_type": "execute_result"
    }
   ],
   "source": [
    "book_dataset.shape"
   ]
  },
  {
   "cell_type": "markdown",
   "id": "69763615",
   "metadata": {
    "papermill": {
     "duration": 0.129697,
     "end_time": "2021-10-10T11:01:00.328771",
     "exception": false,
     "start_time": "2021-10-10T11:01:00.199074",
     "status": "completed"
    },
    "tags": []
   },
   "source": [
    "Meneliti deskripsi dari dataset rating"
   ]
  },
  {
   "cell_type": "code",
   "execution_count": 22,
   "id": "7b9ac499",
   "metadata": {
    "execution": {
     "iopub.execute_input": "2021-10-10T11:01:00.574948Z",
     "iopub.status.busy": "2021-10-10T11:01:00.574177Z",
     "iopub.status.idle": "2021-10-10T11:01:00.578416Z",
     "shell.execute_reply": "2021-10-10T11:01:00.579118Z",
     "shell.execute_reply.started": "2021-10-10T10:48:57.645485Z"
    },
    "papermill": {
     "duration": 0.13029,
     "end_time": "2021-10-10T11:01:00.579308",
     "exception": false,
     "start_time": "2021-10-10T11:01:00.449018",
     "status": "completed"
    },
    "tags": []
   },
   "outputs": [
    {
     "data": {
      "text/plain": [
       "(5000, 3)"
      ]
     },
     "execution_count": 22,
     "metadata": {},
     "output_type": "execute_result"
    }
   ],
   "source": [
    "rating_dataset.shape"
   ]
  },
  {
   "cell_type": "markdown",
   "id": "07f18de0",
   "metadata": {
    "papermill": {
     "duration": 0.109974,
     "end_time": "2021-10-10T11:01:00.829182",
     "exception": false,
     "start_time": "2021-10-10T11:01:00.719208",
     "status": "completed"
    },
    "tags": []
   },
   "source": [
    "Melihat 5 row pertama dari dataset book"
   ]
  },
  {
   "cell_type": "code",
   "execution_count": 23,
   "id": "8cd985ac",
   "metadata": {
    "execution": {
     "iopub.execute_input": "2021-10-10T11:01:00.995314Z",
     "iopub.status.busy": "2021-10-10T11:01:00.994626Z",
     "iopub.status.idle": "2021-10-10T11:01:00.997627Z",
     "shell.execute_reply": "2021-10-10T11:01:00.998048Z",
     "shell.execute_reply.started": "2021-10-10T10:48:57.654827Z"
    },
    "papermill": {
     "duration": 0.093432,
     "end_time": "2021-10-10T11:01:00.998184",
     "exception": false,
     "start_time": "2021-10-10T11:01:00.904752",
     "status": "completed"
    },
    "tags": []
   },
   "outputs": [
    {
     "data": {
      "text/html": [
       "<div>\n",
       "<style scoped>\n",
       "    .dataframe tbody tr th:only-of-type {\n",
       "        vertical-align: middle;\n",
       "    }\n",
       "\n",
       "    .dataframe tbody tr th {\n",
       "        vertical-align: top;\n",
       "    }\n",
       "\n",
       "    .dataframe thead th {\n",
       "        text-align: right;\n",
       "    }\n",
       "</style>\n",
       "<table border=\"1\" class=\"dataframe\">\n",
       "  <thead>\n",
       "    <tr style=\"text-align: right;\">\n",
       "      <th></th>\n",
       "      <th>ISBN</th>\n",
       "      <th>book_title</th>\n",
       "      <th>book_author</th>\n",
       "      <th>year_of_publication</th>\n",
       "      <th>Publisher</th>\n",
       "      <th>Image_URL_S</th>\n",
       "      <th>Image_URL_M</th>\n",
       "      <th>Image_URL_L</th>\n",
       "    </tr>\n",
       "  </thead>\n",
       "  <tbody>\n",
       "    <tr>\n",
       "      <th>0</th>\n",
       "      <td>0195153448</td>\n",
       "      <td>Classical Mythology</td>\n",
       "      <td>Mark P. O. Morford</td>\n",
       "      <td>2002</td>\n",
       "      <td>Oxford University Press</td>\n",
       "      <td>http://images.amazon.com/images/P/0195153448.0...</td>\n",
       "      <td>http://images.amazon.com/images/P/0195153448.0...</td>\n",
       "      <td>http://images.amazon.com/images/P/0195153448.0...</td>\n",
       "    </tr>\n",
       "    <tr>\n",
       "      <th>1</th>\n",
       "      <td>0002005018</td>\n",
       "      <td>Clara Callan</td>\n",
       "      <td>Richard Bruce Wright</td>\n",
       "      <td>2001</td>\n",
       "      <td>HarperFlamingo Canada</td>\n",
       "      <td>http://images.amazon.com/images/P/0002005018.0...</td>\n",
       "      <td>http://images.amazon.com/images/P/0002005018.0...</td>\n",
       "      <td>http://images.amazon.com/images/P/0002005018.0...</td>\n",
       "    </tr>\n",
       "    <tr>\n",
       "      <th>2</th>\n",
       "      <td>0060973129</td>\n",
       "      <td>Decision in Normandy</td>\n",
       "      <td>Carlo D'Este</td>\n",
       "      <td>1991</td>\n",
       "      <td>HarperPerennial</td>\n",
       "      <td>http://images.amazon.com/images/P/0060973129.0...</td>\n",
       "      <td>http://images.amazon.com/images/P/0060973129.0...</td>\n",
       "      <td>http://images.amazon.com/images/P/0060973129.0...</td>\n",
       "    </tr>\n",
       "    <tr>\n",
       "      <th>3</th>\n",
       "      <td>0374157065</td>\n",
       "      <td>Flu: The Story of the Great Influenza Pandemic...</td>\n",
       "      <td>Gina Bari Kolata</td>\n",
       "      <td>1999</td>\n",
       "      <td>Farrar Straus Giroux</td>\n",
       "      <td>http://images.amazon.com/images/P/0374157065.0...</td>\n",
       "      <td>http://images.amazon.com/images/P/0374157065.0...</td>\n",
       "      <td>http://images.amazon.com/images/P/0374157065.0...</td>\n",
       "    </tr>\n",
       "    <tr>\n",
       "      <th>4</th>\n",
       "      <td>0393045218</td>\n",
       "      <td>The Mummies of Urumchi</td>\n",
       "      <td>E. J. W. Barber</td>\n",
       "      <td>1999</td>\n",
       "      <td>W. W. Norton &amp;amp; Company</td>\n",
       "      <td>http://images.amazon.com/images/P/0393045218.0...</td>\n",
       "      <td>http://images.amazon.com/images/P/0393045218.0...</td>\n",
       "      <td>http://images.amazon.com/images/P/0393045218.0...</td>\n",
       "    </tr>\n",
       "  </tbody>\n",
       "</table>\n",
       "</div>"
      ],
      "text/plain": [
       "         ISBN                                         book_title  \\\n",
       "0  0195153448                                Classical Mythology   \n",
       "1  0002005018                                       Clara Callan   \n",
       "2  0060973129                               Decision in Normandy   \n",
       "3  0374157065  Flu: The Story of the Great Influenza Pandemic...   \n",
       "4  0393045218                             The Mummies of Urumchi   \n",
       "\n",
       "            book_author year_of_publication                   Publisher  \\\n",
       "0    Mark P. O. Morford                2002     Oxford University Press   \n",
       "1  Richard Bruce Wright                2001       HarperFlamingo Canada   \n",
       "2          Carlo D'Este                1991             HarperPerennial   \n",
       "3      Gina Bari Kolata                1999        Farrar Straus Giroux   \n",
       "4       E. J. W. Barber                1999  W. W. Norton &amp; Company   \n",
       "\n",
       "                                         Image_URL_S  \\\n",
       "0  http://images.amazon.com/images/P/0195153448.0...   \n",
       "1  http://images.amazon.com/images/P/0002005018.0...   \n",
       "2  http://images.amazon.com/images/P/0060973129.0...   \n",
       "3  http://images.amazon.com/images/P/0374157065.0...   \n",
       "4  http://images.amazon.com/images/P/0393045218.0...   \n",
       "\n",
       "                                         Image_URL_M  \\\n",
       "0  http://images.amazon.com/images/P/0195153448.0...   \n",
       "1  http://images.amazon.com/images/P/0002005018.0...   \n",
       "2  http://images.amazon.com/images/P/0060973129.0...   \n",
       "3  http://images.amazon.com/images/P/0374157065.0...   \n",
       "4  http://images.amazon.com/images/P/0393045218.0...   \n",
       "\n",
       "                                         Image_URL_L  \n",
       "0  http://images.amazon.com/images/P/0195153448.0...  \n",
       "1  http://images.amazon.com/images/P/0002005018.0...  \n",
       "2  http://images.amazon.com/images/P/0060973129.0...  \n",
       "3  http://images.amazon.com/images/P/0374157065.0...  \n",
       "4  http://images.amazon.com/images/P/0393045218.0...  "
      ]
     },
     "execution_count": 23,
     "metadata": {},
     "output_type": "execute_result"
    }
   ],
   "source": [
    "book_dataset.head()"
   ]
  },
  {
   "cell_type": "markdown",
   "id": "b2c10314",
   "metadata": {
    "papermill": {
     "duration": 0.074889,
     "end_time": "2021-10-10T11:01:01.148269",
     "exception": false,
     "start_time": "2021-10-10T11:01:01.073380",
     "status": "completed"
    },
    "tags": []
   },
   "source": [
    "Untuk selanjutnya, kita perlu mengubah dataframe dari buku menjadi sebuah list"
   ]
  },
  {
   "cell_type": "code",
   "execution_count": 24,
   "id": "54bd836c",
   "metadata": {
    "execution": {
     "iopub.execute_input": "2021-10-10T11:01:01.307531Z",
     "iopub.status.busy": "2021-10-10T11:01:01.306981Z",
     "iopub.status.idle": "2021-10-10T11:01:01.310507Z",
     "shell.execute_reply": "2021-10-10T11:01:01.310954Z",
     "shell.execute_reply.started": "2021-10-10T10:48:57.674471Z"
    },
    "papermill": {
     "duration": 0.086524,
     "end_time": "2021-10-10T11:01:01.311088",
     "exception": false,
     "start_time": "2021-10-10T11:01:01.224564",
     "status": "completed"
    },
    "tags": []
   },
   "outputs": [],
   "source": [
    "book_ISBN = book_dataset['ISBN'].tolist()\n",
    "\n",
    "book_title = book_dataset['book_title'].tolist()\n",
    "\n",
    "book_author = book_dataset['book_author'].tolist()\n",
    "\n",
    "book_year_of_publication = book_dataset['year_of_publication'].tolist()"
   ]
  },
  {
   "cell_type": "markdown",
   "id": "333de15d",
   "metadata": {
    "papermill": {
     "duration": 0.085207,
     "end_time": "2021-10-10T11:01:01.474969",
     "exception": false,
     "start_time": "2021-10-10T11:01:01.389762",
     "status": "completed"
    },
    "tags": []
   },
   "source": [
    "Setelah kita membuat list, kita perlu membuat dictionary yang digunakan untuk memnentukan pasangan key-value pada book_ISBN, book_title, book_author, dan book_year_of_publication."
   ]
  },
  {
   "cell_type": "code",
   "execution_count": 25,
   "id": "b93aab9e",
   "metadata": {
    "execution": {
     "iopub.execute_input": "2021-10-10T11:01:01.669510Z",
     "iopub.status.busy": "2021-10-10T11:01:01.668488Z",
     "iopub.status.idle": "2021-10-10T11:01:01.673403Z",
     "shell.execute_reply": "2021-10-10T11:01:01.672934Z",
     "shell.execute_reply.started": "2021-10-10T10:48:57.682490Z"
    },
    "papermill": {
     "duration": 0.113371,
     "end_time": "2021-10-10T11:01:01.673523",
     "exception": false,
     "start_time": "2021-10-10T11:01:01.560152",
     "status": "completed"
    },
    "tags": []
   },
   "outputs": [
    {
     "data": {
      "text/html": [
       "<div>\n",
       "<style scoped>\n",
       "    .dataframe tbody tr th:only-of-type {\n",
       "        vertical-align: middle;\n",
       "    }\n",
       "\n",
       "    .dataframe tbody tr th {\n",
       "        vertical-align: top;\n",
       "    }\n",
       "\n",
       "    .dataframe thead th {\n",
       "        text-align: right;\n",
       "    }\n",
       "</style>\n",
       "<table border=\"1\" class=\"dataframe\">\n",
       "  <thead>\n",
       "    <tr style=\"text-align: right;\">\n",
       "      <th></th>\n",
       "      <th>book_ISBN</th>\n",
       "      <th>book_title</th>\n",
       "      <th>book_author</th>\n",
       "      <th>book_year_of_publication</th>\n",
       "    </tr>\n",
       "  </thead>\n",
       "  <tbody>\n",
       "    <tr>\n",
       "      <th>0</th>\n",
       "      <td>0195153448</td>\n",
       "      <td>Classical Mythology</td>\n",
       "      <td>Mark P. O. Morford</td>\n",
       "      <td>2002</td>\n",
       "    </tr>\n",
       "    <tr>\n",
       "      <th>1</th>\n",
       "      <td>0002005018</td>\n",
       "      <td>Clara Callan</td>\n",
       "      <td>Richard Bruce Wright</td>\n",
       "      <td>2001</td>\n",
       "    </tr>\n",
       "    <tr>\n",
       "      <th>2</th>\n",
       "      <td>0060973129</td>\n",
       "      <td>Decision in Normandy</td>\n",
       "      <td>Carlo D'Este</td>\n",
       "      <td>1991</td>\n",
       "    </tr>\n",
       "    <tr>\n",
       "      <th>3</th>\n",
       "      <td>0374157065</td>\n",
       "      <td>Flu: The Story of the Great Influenza Pandemic...</td>\n",
       "      <td>Gina Bari Kolata</td>\n",
       "      <td>1999</td>\n",
       "    </tr>\n",
       "    <tr>\n",
       "      <th>4</th>\n",
       "      <td>0393045218</td>\n",
       "      <td>The Mummies of Urumchi</td>\n",
       "      <td>E. J. W. Barber</td>\n",
       "      <td>1999</td>\n",
       "    </tr>\n",
       "    <tr>\n",
       "      <th>...</th>\n",
       "      <td>...</td>\n",
       "      <td>...</td>\n",
       "      <td>...</td>\n",
       "      <td>...</td>\n",
       "    </tr>\n",
       "    <tr>\n",
       "      <th>9995</th>\n",
       "      <td>0380730774</td>\n",
       "      <td>Read This and Tell Me What It Says : Stories (...</td>\n",
       "      <td>A. Manette Ansay</td>\n",
       "      <td>1998</td>\n",
       "    </tr>\n",
       "    <tr>\n",
       "      <th>9996</th>\n",
       "      <td>0862418879</td>\n",
       "      <td>The Star Rover</td>\n",
       "      <td>Jack London</td>\n",
       "      <td>2000</td>\n",
       "    </tr>\n",
       "    <tr>\n",
       "      <th>9997</th>\n",
       "      <td>340414645X</td>\n",
       "      <td>Die Keltennadel.</td>\n",
       "      <td>Patrick Dunne</td>\n",
       "      <td>2001</td>\n",
       "    </tr>\n",
       "    <tr>\n",
       "      <th>9998</th>\n",
       "      <td>3442730988</td>\n",
       "      <td>Tod in der Datscha.</td>\n",
       "      <td>Anna Malyschewa</td>\n",
       "      <td>2003</td>\n",
       "    </tr>\n",
       "    <tr>\n",
       "      <th>9999</th>\n",
       "      <td>3404144783</td>\n",
       "      <td>Dunkel.</td>\n",
       "      <td>Wolfgang Hohlbein</td>\n",
       "      <td>2001</td>\n",
       "    </tr>\n",
       "  </tbody>\n",
       "</table>\n",
       "<p>10000 rows × 4 columns</p>\n",
       "</div>"
      ],
      "text/plain": [
       "       book_ISBN                                         book_title  \\\n",
       "0     0195153448                                Classical Mythology   \n",
       "1     0002005018                                       Clara Callan   \n",
       "2     0060973129                               Decision in Normandy   \n",
       "3     0374157065  Flu: The Story of the Great Influenza Pandemic...   \n",
       "4     0393045218                             The Mummies of Urumchi   \n",
       "...          ...                                                ...   \n",
       "9995  0380730774  Read This and Tell Me What It Says : Stories (...   \n",
       "9996  0862418879                                     The Star Rover   \n",
       "9997  340414645X                                   Die Keltennadel.   \n",
       "9998  3442730988                                Tod in der Datscha.   \n",
       "9999  3404144783                                            Dunkel.   \n",
       "\n",
       "               book_author  book_year_of_publication  \n",
       "0       Mark P. O. Morford                      2002  \n",
       "1     Richard Bruce Wright                      2001  \n",
       "2             Carlo D'Este                      1991  \n",
       "3         Gina Bari Kolata                      1999  \n",
       "4          E. J. W. Barber                      1999  \n",
       "...                    ...                       ...  \n",
       "9995      A. Manette Ansay                      1998  \n",
       "9996           Jack London                      2000  \n",
       "9997         Patrick Dunne                      2001  \n",
       "9998       Anna Malyschewa                      2003  \n",
       "9999     Wolfgang Hohlbein                      2001  \n",
       "\n",
       "[10000 rows x 4 columns]"
      ]
     },
     "execution_count": 25,
     "metadata": {},
     "output_type": "execute_result"
    }
   ],
   "source": [
    "book = pd.DataFrame({\n",
    "    'book_ISBN': book_ISBN,\n",
    "    'book_title': book_title,\n",
    "    'book_author': book_author,\n",
    "    'book_year_of_publication': book_year_of_publication\n",
    "})\n",
    "book"
   ]
  },
  {
   "cell_type": "markdown",
   "id": "97337cf0",
   "metadata": {
    "papermill": {
     "duration": 0.084951,
     "end_time": "2021-10-10T11:01:01.843286",
     "exception": false,
     "start_time": "2021-10-10T11:01:01.758335",
     "status": "completed"
    },
    "tags": []
   },
   "source": [
    "## Modeling"
   ]
  },
  {
   "cell_type": "markdown",
   "id": "db87178f",
   "metadata": {
    "papermill": {
     "duration": 0.087838,
     "end_time": "2021-10-10T11:01:02.019333",
     "exception": false,
     "start_time": "2021-10-10T11:01:01.931495",
     "status": "completed"
    },
    "tags": []
   },
   "source": [
    "Pada content Based Filtering, kita akan menggunakan TF-IDF Vectorizer untuk membangun sistem rekomendasi berdasarkan penulis buku.\n",
    "\n",
    "TF-IDF yang merupakan kepanjangan dari Term Frequency-Inverse Document Frequency memiliki fungsi untuk mengukur seberapa pentingnya suatu kata terhadap kata - kata lain dalam dokumen.\n",
    "Kita umumnya menghitung skor untuk setiap kata untuk menandakan pentingnya dalam dokumen dan corpus. Metode sering digunakan dalam Information Retrieval dan Text Mining."
   ]
  },
  {
   "cell_type": "markdown",
   "id": "58171544",
   "metadata": {
    "papermill": {
     "duration": 0.07996,
     "end_time": "2021-10-10T11:01:02.181198",
     "exception": false,
     "start_time": "2021-10-10T11:01:02.101238",
     "status": "completed"
    },
    "tags": []
   },
   "source": [
    "Pada cell code di bawah ini kita akan mengambil kata - kata penting dalam kolom book_author"
   ]
  },
  {
   "cell_type": "code",
   "execution_count": 26,
   "id": "3a23877e",
   "metadata": {
    "execution": {
     "iopub.execute_input": "2021-10-10T11:01:02.348989Z",
     "iopub.status.busy": "2021-10-10T11:01:02.348335Z",
     "iopub.status.idle": "2021-10-10T11:01:02.554440Z",
     "shell.execute_reply": "2021-10-10T11:01:02.554947Z",
     "shell.execute_reply.started": "2021-10-10T10:48:57.712586Z"
    },
    "papermill": {
     "duration": 0.295489,
     "end_time": "2021-10-10T11:01:02.555095",
     "exception": false,
     "start_time": "2021-10-10T11:01:02.259606",
     "status": "completed"
    },
    "tags": []
   },
   "outputs": [
    {
     "data": {
      "text/plain": [
       "['aaron',\n",
       " 'aarsen',\n",
       " 'abbey',\n",
       " 'abbott',\n",
       " 'abby',\n",
       " 'abelar',\n",
       " 'abraham',\n",
       " 'abrahams',\n",
       " 'abzug',\n",
       " 'achebe',\n",
       " 'ackerman',\n",
       " 'ackroyd',\n",
       " 'ad',\n",
       " 'adam',\n",
       " 'adamo',\n",
       " 'adams',\n",
       " 'adamson',\n",
       " 'addis',\n",
       " 'adele',\n",
       " 'adeline',\n",
       " 'adie',\n",
       " 'adkins',\n",
       " 'adler',\n",
       " 'adrian',\n",
       " 'adriana',\n",
       " 'adrienne',\n",
       " 'africa',\n",
       " 'agatha',\n",
       " 'agnes',\n",
       " 'aguiar',\n",
       " 'agustã',\n",
       " 'agut',\n",
       " 'ahdaf',\n",
       " 'ahlberg',\n",
       " 'ahne',\n",
       " 'aidan',\n",
       " 'aiden',\n",
       " 'aiken',\n",
       " 'aileen',\n",
       " 'aimee',\n",
       " 'ainslie',\n",
       " 'akiba',\n",
       " 'al',\n",
       " 'alain',\n",
       " 'alan',\n",
       " 'alatas',\n",
       " 'alba',\n",
       " 'albanese',\n",
       " 'albano',\n",
       " 'albert',\n",
       " 'alberts',\n",
       " 'albom',\n",
       " 'albright',\n",
       " 'alcock',\n",
       " 'alcorn',\n",
       " 'alcott',\n",
       " 'aldiss',\n",
       " 'aldous',\n",
       " 'aldrich',\n",
       " 'aldrin',\n",
       " 'alec',\n",
       " 'aleister',\n",
       " 'alejandro',\n",
       " 'alejo',\n",
       " 'aleksandr',\n",
       " 'aleramo',\n",
       " 'alers',\n",
       " 'alesia',\n",
       " 'alessandra',\n",
       " 'alessandro',\n",
       " 'alex',\n",
       " 'alexa',\n",
       " 'alexander',\n",
       " 'alexandra',\n",
       " 'alexandre',\n",
       " 'alfie',\n",
       " 'alfonsi',\n",
       " 'alford',\n",
       " 'alfred',\n",
       " 'ali',\n",
       " 'alice',\n",
       " 'alicia',\n",
       " 'alien',\n",
       " 'alighieri',\n",
       " 'alisa',\n",
       " 'alison',\n",
       " 'alistair',\n",
       " 'alix',\n",
       " 'aljean',\n",
       " 'allan',\n",
       " 'allen',\n",
       " 'allenbaugh',\n",
       " 'allende',\n",
       " 'allingham',\n",
       " 'allison',\n",
       " 'allistair',\n",
       " 'allston',\n",
       " 'alma',\n",
       " 'almond',\n",
       " 'almudena',\n",
       " 'alonso',\n",
       " 'alpers',\n",
       " 'alsager',\n",
       " 'alten',\n",
       " 'alter',\n",
       " 'alton',\n",
       " 'alvarez',\n",
       " 'alvin',\n",
       " 'amado',\n",
       " 'amanda',\n",
       " 'amber',\n",
       " 'ambrose',\n",
       " 'ambrosio',\n",
       " 'amelie',\n",
       " 'american',\n",
       " 'ames',\n",
       " 'amin',\n",
       " 'amis',\n",
       " 'amit',\n",
       " 'ammaniti',\n",
       " 'amoroso',\n",
       " 'amory',\n",
       " 'amos',\n",
       " 'amour',\n",
       " 'amp',\n",
       " 'amy',\n",
       " 'an',\n",
       " 'ana',\n",
       " 'anahis',\n",
       " 'anais',\n",
       " 'anand',\n",
       " 'anastas',\n",
       " 'anatoli',\n",
       " 'anatolian',\n",
       " 'anaya',\n",
       " 'anchee',\n",
       " 'ancona',\n",
       " 'and',\n",
       " 'andahazi',\n",
       " 'andersen',\n",
       " 'anderson',\n",
       " 'andre',\n",
       " 'andrea',\n",
       " 'andreas',\n",
       " 'andrei',\n",
       " 'andrew',\n",
       " 'andrews',\n",
       " 'andreã',\n",
       " 'andy',\n",
       " 'angela',\n",
       " 'angelis',\n",
       " 'angell',\n",
       " 'angelo',\n",
       " 'angelou',\n",
       " 'angier',\n",
       " 'angle',\n",
       " 'angot',\n",
       " 'anhua',\n",
       " 'ani',\n",
       " 'anim',\n",
       " 'anita',\n",
       " 'ann',\n",
       " 'anna',\n",
       " 'annaeus',\n",
       " 'anne',\n",
       " 'annegrit',\n",
       " 'annette',\n",
       " 'annie',\n",
       " 'anonimo',\n",
       " 'anonymous',\n",
       " 'anouchka',\n",
       " 'ansay',\n",
       " 'ansel',\n",
       " 'anshaw',\n",
       " 'anson',\n",
       " 'anthony',\n",
       " 'anthropology',\n",
       " 'antoine',\n",
       " 'anton',\n",
       " 'antoni',\n",
       " 'antonio',\n",
       " 'antony',\n",
       " 'antonya',\n",
       " 'antwone',\n",
       " 'anurag',\n",
       " 'aola',\n",
       " 'aoumiel',\n",
       " 'apkarian',\n",
       " 'apolo',\n",
       " 'appel',\n",
       " 'applegate',\n",
       " 'appleton',\n",
       " 'april',\n",
       " 'arabella',\n",
       " 'aralica',\n",
       " 'aramburu',\n",
       " 'arana',\n",
       " 'archaeology',\n",
       " 'archer',\n",
       " 'arcy',\n",
       " 'ardagh',\n",
       " 'ardinger',\n",
       " 'arens',\n",
       " 'arensen',\n",
       " 'ariella',\n",
       " 'arlene',\n",
       " 'arman',\n",
       " 'armas',\n",
       " 'armistead',\n",
       " 'armstrong',\n",
       " 'arnel',\n",
       " 'arnette',\n",
       " 'arnim',\n",
       " 'arno',\n",
       " 'arnold',\n",
       " 'arnulf',\n",
       " 'arrabal',\n",
       " 'arriaga',\n",
       " 'arsan',\n",
       " 'arthur',\n",
       " 'arto',\n",
       " 'arturo',\n",
       " 'arundhati',\n",
       " 'arvin',\n",
       " 'ascarrunz',\n",
       " 'ash',\n",
       " 'ashfield',\n",
       " 'ashland',\n",
       " 'ashley',\n",
       " 'asimov',\n",
       " 'asprin',\n",
       " 'association',\n",
       " 'assorted',\n",
       " 'astley',\n",
       " 'astrid',\n",
       " 'atcott',\n",
       " 'ath',\n",
       " 'atkins',\n",
       " 'atkinson',\n",
       " 'atrice',\n",
       " 'attanasio',\n",
       " 'atul',\n",
       " 'atwater',\n",
       " 'atwood',\n",
       " 'aubert',\n",
       " 'audrey',\n",
       " 'auel',\n",
       " 'august',\n",
       " 'augusten',\n",
       " 'augustine',\n",
       " 'augusto',\n",
       " 'aulaire',\n",
       " 'aurelia',\n",
       " 'austen',\n",
       " 'auster',\n",
       " 'austin',\n",
       " 'authors',\n",
       " 'avery',\n",
       " 'avi',\n",
       " 'awlinson',\n",
       " 'axford',\n",
       " 'ayn',\n",
       " 'ayto',\n",
       " 'az',\n",
       " 'azar',\n",
       " 'azerrad',\n",
       " 'azuela',\n",
       " 'babel',\n",
       " 'babette',\n",
       " 'babson',\n",
       " 'bach',\n",
       " 'bachman',\n",
       " 'backer',\n",
       " 'baden',\n",
       " 'baetz',\n",
       " 'baez',\n",
       " 'bagdon',\n",
       " 'baggott',\n",
       " 'baglio',\n",
       " 'bagshawe',\n",
       " 'baigent',\n",
       " 'bail',\n",
       " 'bailey',\n",
       " 'bainbridge',\n",
       " 'baker',\n",
       " 'bakis',\n",
       " 'bakker',\n",
       " 'baldacci',\n",
       " 'balke',\n",
       " 'ballantyne',\n",
       " 'balliett',\n",
       " 'balzac',\n",
       " 'ban',\n",
       " 'banana',\n",
       " 'banbury',\n",
       " 'banerjee',\n",
       " 'bank',\n",
       " 'banks',\n",
       " 'bannon',\n",
       " 'bantock',\n",
       " 'bao',\n",
       " 'baratz',\n",
       " 'barb',\n",
       " 'barbara',\n",
       " 'barber',\n",
       " 'barca',\n",
       " 'barcelo',\n",
       " 'barclay',\n",
       " 'barden',\n",
       " 'bari',\n",
       " 'baricco',\n",
       " 'barjavel',\n",
       " 'barker',\n",
       " 'barks',\n",
       " 'barley',\n",
       " 'barlow',\n",
       " 'barnard',\n",
       " 'barnes',\n",
       " 'barone',\n",
       " 'barr',\n",
       " 'barrett',\n",
       " 'barrie',\n",
       " 'barris',\n",
       " 'barron',\n",
       " 'barrow',\n",
       " 'barry',\n",
       " 'barrymore',\n",
       " 'bartholomew',\n",
       " 'bartoletti',\n",
       " 'bascom',\n",
       " 'bashevis',\n",
       " 'bateman',\n",
       " 'bates',\n",
       " 'bathurst',\n",
       " 'battle',\n",
       " 'batz',\n",
       " 'bauby',\n",
       " 'baudelaire',\n",
       " 'baudino',\n",
       " 'baudrillard',\n",
       " 'bauer',\n",
       " 'bausch',\n",
       " 'baxt',\n",
       " 'baxter',\n",
       " 'bayley',\n",
       " 'bayly',\n",
       " 'beach',\n",
       " 'beagle',\n",
       " 'beale',\n",
       " 'beam',\n",
       " 'beamer',\n",
       " 'bear',\n",
       " 'beard',\n",
       " 'beasant',\n",
       " 'beatles',\n",
       " 'beaton',\n",
       " 'beatrice',\n",
       " 'beattie',\n",
       " 'beauman',\n",
       " 'beaumont',\n",
       " 'bebe',\n",
       " 'bebris',\n",
       " 'beck',\n",
       " 'becker',\n",
       " 'bedier',\n",
       " 'beer',\n",
       " 'begley',\n",
       " 'behrend',\n",
       " 'beigbeder',\n",
       " 'bejar',\n",
       " 'bel',\n",
       " 'belinda',\n",
       " 'bell',\n",
       " 'bella',\n",
       " 'bellacera',\n",
       " 'bellairs',\n",
       " 'belle',\n",
       " 'belli',\n",
       " 'bello',\n",
       " 'bellow',\n",
       " 'belva',\n",
       " 'belz',\n",
       " 'belzer',\n",
       " 'beman',\n",
       " 'ben',\n",
       " 'benacquista',\n",
       " 'benard',\n",
       " 'benchley',\n",
       " 'bender',\n",
       " 'benedetti',\n",
       " 'benedict',\n",
       " 'benjamin',\n",
       " 'bennett',\n",
       " 'benni',\n",
       " 'benning',\n",
       " 'bennis',\n",
       " 'benshea',\n",
       " 'benton',\n",
       " 'berendt',\n",
       " 'berenstain',\n",
       " 'beres',\n",
       " 'berg',\n",
       " 'bergen',\n",
       " 'berger',\n",
       " 'bergerac',\n",
       " 'bergin',\n",
       " 'bergmann',\n",
       " 'bergonzoni',\n",
       " 'bergren',\n",
       " 'berhard',\n",
       " 'berke',\n",
       " 'berkeley',\n",
       " 'berliner',\n",
       " 'berling',\n",
       " 'berlinski',\n",
       " 'bernall',\n",
       " 'bernard',\n",
       " 'bernhard',\n",
       " 'bernhardt',\n",
       " 'bernie',\n",
       " 'bernieres',\n",
       " 'bernstein',\n",
       " 'bernstien',\n",
       " 'bernyce',\n",
       " 'berra',\n",
       " 'berrenson',\n",
       " 'berriault',\n",
       " 'berry',\n",
       " 'bert',\n",
       " 'berton',\n",
       " 'bertram',\n",
       " 'bertrice',\n",
       " 'beryl',\n",
       " 'bester',\n",
       " 'beth',\n",
       " 'bethards',\n",
       " 'betina',\n",
       " 'betsy',\n",
       " 'bett',\n",
       " 'bettany',\n",
       " 'bette',\n",
       " 'better',\n",
       " 'bettin',\n",
       " 'bettine',\n",
       " 'betty',\n",
       " 'bettyclare',\n",
       " 'bevarly',\n",
       " 'beverley',\n",
       " 'beverly',\n",
       " 'bhaktivedanta',\n",
       " 'bianchin',\n",
       " 'bichler',\n",
       " 'biederman',\n",
       " 'bieg',\n",
       " 'biehl',\n",
       " 'bierce',\n",
       " 'biermann',\n",
       " 'bigelow',\n",
       " 'bill',\n",
       " 'billie',\n",
       " 'billington',\n",
       " 'billy',\n",
       " 'binchy',\n",
       " 'bing',\n",
       " 'bingham',\n",
       " 'binnie',\n",
       " 'bird',\n",
       " 'birgit',\n",
       " 'birmingham',\n",
       " 'bischoff',\n",
       " 'bishop',\n",
       " 'bj',\n",
       " 'black',\n",
       " 'blackaby',\n",
       " 'blackman',\n",
       " 'blackmarr',\n",
       " 'blackstock',\n",
       " 'blackwood',\n",
       " 'blair',\n",
       " 'blake',\n",
       " 'blanc',\n",
       " 'blanchard',\n",
       " 'blanche',\n",
       " 'bledsoe',\n",
       " 'blexley',\n",
       " 'blish',\n",
       " 'bliss',\n",
       " 'blissett',\n",
       " 'bloch',\n",
       " 'block',\n",
       " 'blockson',\n",
       " 'blofeld',\n",
       " 'blount',\n",
       " 'blow',\n",
       " 'blu',\n",
       " 'blue',\n",
       " 'bluh',\n",
       " 'blum',\n",
       " 'blume',\n",
       " 'blundell',\n",
       " 'blunt',\n",
       " 'bly',\n",
       " 'blyton',\n",
       " 'bo',\n",
       " 'bob',\n",
       " 'bobbie',\n",
       " 'bobin',\n",
       " 'bobrick',\n",
       " 'bobrowski',\n",
       " 'bochco',\n",
       " 'bodie',\n",
       " 'boese',\n",
       " 'boeshaar',\n",
       " 'bohjalian',\n",
       " 'bohringer',\n",
       " 'boie',\n",
       " 'boldman',\n",
       " 'bolger',\n",
       " 'bolitho',\n",
       " 'boll',\n",
       " 'bolles',\n",
       " 'bolton',\n",
       " 'bombeck',\n",
       " 'bond',\n",
       " 'bondeson',\n",
       " 'bonnefoy',\n",
       " 'bonner',\n",
       " 'bonnie',\n",
       " 'booher',\n",
       " 'booker',\n",
       " 'books',\n",
       " 'boom',\n",
       " 'booss',\n",
       " 'borchardt',\n",
       " 'borges',\n",
       " 'boris',\n",
       " 'borneman',\n",
       " 'borris',\n",
       " 'borthwick',\n",
       " 'boston',\n",
       " 'boswell',\n",
       " 'boteach',\n",
       " 'botho',\n",
       " 'botton',\n",
       " 'boukreev',\n",
       " 'boulton',\n",
       " 'bourdain',\n",
       " 'bouton',\n",
       " 'bova',\n",
       " 'bovard',\n",
       " 'bovee',\n",
       " 'bowden',\n",
       " 'bowen',\n",
       " 'bowering',\n",
       " 'bowes',\n",
       " 'bowie',\n",
       " 'bowles',\n",
       " 'bowman',\n",
       " 'boyd',\n",
       " 'boyer',\n",
       " 'boylan',\n",
       " 'boyle',\n",
       " 'boynton',\n",
       " 'braam',\n",
       " 'brad',\n",
       " 'bradbury',\n",
       " 'bradby',\n",
       " 'bradford',\n",
       " 'bradley',\n",
       " 'brady',\n",
       " 'bragg',\n",
       " 'bram',\n",
       " 'brancati',\n",
       " 'brand',\n",
       " 'brande',\n",
       " 'brandewyne',\n",
       " 'brandon',\n",
       " 'brandt',\n",
       " 'brant',\n",
       " 'brashares',\n",
       " 'brashear',\n",
       " 'brassey',\n",
       " 'brate',\n",
       " 'braun',\n",
       " 'brave',\n",
       " 'braver',\n",
       " 'bray',\n",
       " 'braynard',\n",
       " 'brazelton',\n",
       " 'breathed',\n",
       " 'breathnach',\n",
       " 'breena',\n",
       " 'brehony',\n",
       " 'breinholst',\n",
       " 'brem',\n",
       " 'brenda',\n",
       " 'brennan',\n",
       " 'breslin',\n",
       " 'bret',\n",
       " 'breton',\n",
       " 'brett',\n",
       " 'bretton',\n",
       " 'brewster',\n",
       " 'brez',\n",
       " 'brian',\n",
       " 'bricklin',\n",
       " 'bridwell',\n",
       " 'brien',\n",
       " 'brightfield',\n",
       " 'brigitte',\n",
       " 'brin',\n",
       " 'brindle',\n",
       " 'brindley',\n",
       " 'brink',\n",
       " 'british',\n",
       " 'brittain',\n",
       " 'britton',\n",
       " 'brizzi',\n",
       " 'broadrick',\n",
       " 'brockmann',\n",
       " 'brod',\n",
       " 'broder',\n",
       " 'bronski',\n",
       " 'bronte',\n",
       " 'bronwyn',\n",
       " 'brooke',\n",
       " 'brookner',\n",
       " 'brooks',\n",
       " 'brother',\n",
       " 'brothers',\n",
       " 'brouwer',\n",
       " 'brower',\n",
       " 'brown',\n",
       " 'browne',\n",
       " 'browning',\n",
       " 'brownmiller',\n",
       " 'broyard',\n",
       " 'bruce',\n",
       " 'brumberg',\n",
       " 'brunhoff',\n",
       " 'bruno',\n",
       " 'brussig',\n",
       " 'bryan',\n",
       " 'bryant',\n",
       " 'bryce',\n",
       " 'bryn',\n",
       " 'bryson',\n",
       " 'bstan',\n",
       " 'buarque',\n",
       " 'buber',\n",
       " 'bucay',\n",
       " 'buchanan',\n",
       " 'buck',\n",
       " 'buckey',\n",
       " 'buckland',\n",
       " 'buckley',\n",
       " 'bucklin',\n",
       " 'buechner',\n",
       " 'buerge',\n",
       " 'buff',\n",
       " 'buffett',\n",
       " 'buford',\n",
       " 'bugliosi',\n",
       " 'bujold',\n",
       " 'bukowski',\n",
       " 'bulgakov',\n",
       " 'bull',\n",
       " 'bullard',\n",
       " 'bullock',\n",
       " 'bulychev',\n",
       " 'bundles',\n",
       " 'bunker',\n",
       " 'bunkie',\n",
       " 'bunson',\n",
       " 'burana',\n",
       " 'burdekin',\n",
       " 'buresh',\n",
       " 'burgess',\n",
       " 'burgett',\n",
       " 'burka',\n",
       " 'burkart',\n",
       " 'burke',\n",
       " 'burkett',\n",
       " 'burnett',\n",
       " 'burns',\n",
       " 'burroughs',\n",
       " 'burstein',\n",
       " 'burt',\n",
       " 'burton',\n",
       " 'busbee',\n",
       " 'buscaglia',\n",
       " 'busch',\n",
       " 'bushnell',\n",
       " 'buske',\n",
       " 'buss',\n",
       " 'butcher',\n",
       " 'butler',\n",
       " 'butterworth',\n",
       " 'buxton',\n",
       " 'buzan',\n",
       " 'buzimski',\n",
       " 'buzz',\n",
       " 'by',\n",
       " 'byars',\n",
       " 'byatt',\n",
       " 'byerrum',\n",
       " 'byron',\n",
       " 'bã',\n",
       " 'cable',\n",
       " 'cabot',\n",
       " 'cabrera',\n",
       " 'cacek',\n",
       " 'caduto',\n",
       " 'caeia',\n",
       " 'caela',\n",
       " 'cafi',\n",
       " 'cahill',\n",
       " 'caignon',\n",
       " 'cain',\n",
       " 'caiseal',\n",
       " 'cait',\n",
       " 'caitlin',\n",
       " 'calasso',\n",
       " 'calcutt',\n",
       " 'calder',\n",
       " 'calderã³n',\n",
       " 'caldwell',\n",
       " 'caleb',\n",
       " 'callery',\n",
       " 'callwood',\n",
       " 'calvin',\n",
       " 'calvino',\n",
       " 'camara',\n",
       " 'cameron',\n",
       " 'camilla',\n",
       " 'camille',\n",
       " 'camilleri',\n",
       " 'camilo',\n",
       " 'camp',\n",
       " 'campbell',\n",
       " 'campos',\n",
       " 'camus',\n",
       " 'cana',\n",
       " 'candace',\n",
       " 'candice',\n",
       " 'canfield',\n",
       " 'canham',\n",
       " 'cannell',\n",
       " 'cantwell',\n",
       " 'capote',\n",
       " 'capra',\n",
       " 'captain',\n",
       " 'capus',\n",
       " 'capuzzo',\n",
       " 'capã³',\n",
       " 'cara',\n",
       " 'caras',\n",
       " 'carcaterra',\n",
       " 'card',\n",
       " 'care',\n",
       " 'caren',\n",
       " 'carey',\n",
       " 'carl',\n",
       " 'carle',\n",
       " 'carlene',\n",
       " 'carlin',\n",
       " 'carlisle',\n",
       " 'carlo',\n",
       " 'carlos',\n",
       " 'carlson',\n",
       " 'carlton',\n",
       " 'carly',\n",
       " 'carlysle',\n",
       " 'carme',\n",
       " 'carmen',\n",
       " 'carmichael',\n",
       " 'carnegie',\n",
       " 'carnes',\n",
       " 'carol',\n",
       " 'carole',\n",
       " 'carolee',\n",
       " 'caroline',\n",
       " 'carolly',\n",
       " 'carolyn',\n",
       " 'carolyne',\n",
       " 'carpenter',\n",
       " 'carpentier',\n",
       " 'carr',\n",
       " 'carre',\n",
       " 'carrie',\n",
       " 'carroll',\n",
       " 'carrã',\n",
       " 'carson',\n",
       " 'carter',\n",
       " 'carus',\n",
       " 'carvalho',\n",
       " 'carver',\n",
       " 'cary',\n",
       " 'case',\n",
       " 'casey',\n",
       " 'cash',\n",
       " 'cashwell',\n",
       " 'casper',\n",
       " 'cassandra',\n",
       " 'cassie',\n",
       " 'cast',\n",
       " 'castaneda',\n",
       " 'castedo',\n",
       " 'castillo',\n",
       " 'castle',\n",
       " 'catalano',\n",
       " 'catalã',\n",
       " 'catharina',\n",
       " 'cather',\n",
       " 'catherine',\n",
       " 'cathi',\n",
       " 'cathie',\n",
       " 'cathleen',\n",
       " 'catholic',\n",
       " 'cathy',\n",
       " 'catling',\n",
       " 'catton',\n",
       " 'caudwell',\n",
       " 'cauti',\n",
       " 'cauwelaert',\n",
       " 'cdr',\n",
       " 'cecchio',\n",
       " 'cecil',\n",
       " 'cees',\n",
       " 'ceil',\n",
       " 'cela',\n",
       " 'celeste',\n",
       " 'celia',\n",
       " 'cercas',\n",
       " 'ceren',\n",
       " 'cervantes',\n",
       " 'cesare',\n",
       " 'cesco',\n",
       " 'cha',\n",
       " 'chabon',\n",
       " 'chaim',\n",
       " 'chalker',\n",
       " 'chamberlain',\n",
       " 'chambers',\n",
       " 'chandler',\n",
       " 'chandra',\n",
       " 'chang',\n",
       " 'chao',\n",
       " 'chapman',\n",
       " 'chappell',\n",
       " 'charlaine',\n",
       " 'charles',\n",
       " 'charlotte',\n",
       " 'charrette',\n",
       " 'chartrand',\n",
       " 'chase',\n",
       " 'chatani',\n",
       " 'chatwin',\n",
       " 'chaucer',\n",
       " 'chaudhuri',\n",
       " 'chauncey',\n",
       " 'chbosky',\n",
       " 'chelsea',\n",
       " 'cheng',\n",
       " 'cherie',\n",
       " 'cherrie',\n",
       " 'cherryh',\n",
       " 'cheryl',\n",
       " 'chesterton',\n",
       " 'chet',\n",
       " 'chevalier',\n",
       " 'chew',\n",
       " 'chiaverini',\n",
       " 'chichester',\n",
       " 'chico',\n",
       " 'child',\n",
       " 'childress',\n",
       " 'childs',\n",
       " 'chin',\n",
       " 'china',\n",
       " 'chinua',\n",
       " 'chip',\n",
       " 'chipman',\n",
       " 'chitra',\n",
       " 'chodron',\n",
       " 'cholfin',\n",
       " 'chopin',\n",
       " 'chopra',\n",
       " 'chris',\n",
       " 'christa',\n",
       " 'christelow',\n",
       " 'christenberry',\n",
       " 'christian',\n",
       " 'christiane',\n",
       " 'christie',\n",
       " 'christina',\n",
       " 'christine',\n",
       " 'christof',\n",
       " 'christofferson',\n",
       " 'christoph',\n",
       " 'christophe',\n",
       " 'christopher',\n",
       " 'christy',\n",
       " 'chrstine',\n",
       " 'chu',\n",
       " 'chuck',\n",
       " 'chuen',\n",
       " 'chun',\n",
       " 'chunder',\n",
       " 'chunovic',\n",
       " 'church',\n",
       " 'churchill',\n",
       " 'chute',\n",
       " 'ciencin',\n",
       " 'cieza',\n",
       " 'cinammon',\n",
       " 'cindy',\n",
       " 'ciresi',\n",
       " 'cirker',\n",
       " 'cisneros',\n",
       " 'civil',\n",
       " 'cker',\n",
       " 'claiborne',\n",
       " 'clairday',\n",
       " 'claire',\n",
       " 'clancy',\n",
       " 'clara',\n",
       " 'clare',\n",
       " 'clarissa',\n",
       " 'clark',\n",
       " 'clarke',\n",
       " 'claude',\n",
       " 'claudia',\n",
       " 'claudio',\n",
       " 'clav',\n",
       " 'clavell',\n",
       " 'clay',\n",
       " 'claybourne',\n",
       " 'clayton',\n",
       " 'cleage',\n",
       " 'cleary',\n",
       " 'cleaver',\n",
       " 'clegg',\n",
       " 'clement',\n",
       " 'clements',\n",
       " 'cleveland',\n",
       " 'clews',\n",
       " 'clifford',\n",
       " 'clifton',\n",
       " 'clive',\n",
       " 'cloutier',\n",
       " 'clover',\n",
       " 'clowes',\n",
       " 'clyde',\n",
       " 'clã',\n",
       " 'co',\n",
       " 'coady',\n",
       " 'cobb',\n",
       " 'coben',\n",
       " 'cochran',\n",
       " 'cocquyt',\n",
       " 'coddington',\n",
       " 'codell',\n",
       " 'codrescu',\n",
       " 'coelho',\n",
       " 'coen',\n",
       " 'coerr',\n",
       " 'coetzee',\n",
       " 'coffman',\n",
       " 'cohen',\n",
       " 'cohn',\n",
       " 'cokie',\n",
       " 'colapinto',\n",
       " 'cole',\n",
       " 'coleman',\n",
       " 'coleridge',\n",
       " 'coles',\n",
       " 'colette',\n",
       " 'colfer',\n",
       " 'colgan',\n",
       " 'colin',\n",
       " 'coll',\n",
       " 'collange',\n",
       " 'collard',\n",
       " 'collectif',\n",
       " 'colleen',\n",
       " 'college',\n",
       " 'collier',\n",
       " 'collin',\n",
       " 'colling',\n",
       " 'collins',\n",
       " 'collodi',\n",
       " 'colm',\n",
       " 'colombo',\n",
       " 'colum',\n",
       " 'company',\n",
       " 'compton',\n",
       " 'conan',\n",
       " 'conant',\n",
       " 'conari',\n",
       " ...]"
      ]
     },
     "execution_count": 26,
     "metadata": {},
     "output_type": "execute_result"
    }
   ],
   "source": [
    "from sklearn.feature_extraction.text import TfidfVectorizer\n",
    " \n",
    "tf = TfidfVectorizer()\n",
    " \n",
    "tf.fit(book['book_author']) \n",
    " \n",
    "tf.get_feature_names() "
   ]
  },
  {
   "cell_type": "markdown",
   "id": "95ed0c0f",
   "metadata": {
    "papermill": {
     "duration": 0.081245,
     "end_time": "2021-10-10T11:01:02.716818",
     "exception": false,
     "start_time": "2021-10-10T11:01:02.635573",
     "status": "completed"
    },
    "tags": []
   },
   "source": [
    "Kemudian kita akan lakukan fit dan transformasi ke dalam matriks, pada code di bawah ini, matriks tersebut adalah tfidf_matrix"
   ]
  },
  {
   "cell_type": "code",
   "execution_count": 27,
   "id": "56cd9851",
   "metadata": {
    "execution": {
     "iopub.execute_input": "2021-10-10T11:01:02.924529Z",
     "iopub.status.busy": "2021-10-10T11:01:02.909295Z",
     "iopub.status.idle": "2021-10-10T11:01:02.958556Z",
     "shell.execute_reply": "2021-10-10T11:01:02.958070Z",
     "shell.execute_reply.started": "2021-10-10T10:48:57.905880Z"
    },
    "papermill": {
     "duration": 0.160582,
     "end_time": "2021-10-10T11:01:02.958690",
     "exception": false,
     "start_time": "2021-10-10T11:01:02.798108",
     "status": "completed"
    },
    "tags": []
   },
   "outputs": [
    {
     "data": {
      "text/plain": [
       "(10000, 5575)"
      ]
     },
     "execution_count": 27,
     "metadata": {},
     "output_type": "execute_result"
    }
   ],
   "source": [
    "tfidf_matrix = tf.fit_transform(book['book_author']) \n",
    " \n",
    "tfidf_matrix.shape "
   ]
  },
  {
   "cell_type": "markdown",
   "id": "21b9ac55",
   "metadata": {
    "papermill": {
     "duration": 0.077933,
     "end_time": "2021-10-10T11:01:03.118359",
     "exception": false,
     "start_time": "2021-10-10T11:01:03.040426",
     "status": "completed"
    },
    "tags": []
   },
   "source": [
    "Pada tfidf_matrix terdapat 10000 ukuran data dan 5575 nama penulis buku\n"
   ]
  },
  {
   "cell_type": "markdown",
   "id": "b1114ca8",
   "metadata": {
    "papermill": {
     "duration": 0.080458,
     "end_time": "2021-10-10T11:01:03.278707",
     "exception": false,
     "start_time": "2021-10-10T11:01:03.198249",
     "status": "completed"
    },
    "tags": []
   },
   "source": [
    ".todense(), atribut ini dipakai untuk mengubah tfidf_matrix yang awalnya vektor menjadi matriks"
   ]
  },
  {
   "cell_type": "code",
   "execution_count": 28,
   "id": "73c3f94c",
   "metadata": {
    "execution": {
     "iopub.execute_input": "2021-10-10T11:01:03.450458Z",
     "iopub.status.busy": "2021-10-10T11:01:03.449583Z",
     "iopub.status.idle": "2021-10-10T11:01:03.542704Z",
     "shell.execute_reply": "2021-10-10T11:01:03.543212Z",
     "shell.execute_reply.started": "2021-10-10T10:48:57.985000Z"
    },
    "papermill": {
     "duration": 0.181589,
     "end_time": "2021-10-10T11:01:03.543382",
     "exception": false,
     "start_time": "2021-10-10T11:01:03.361793",
     "status": "completed"
    },
    "tags": []
   },
   "outputs": [
    {
     "data": {
      "text/plain": [
       "matrix([[0., 0., 0., ..., 0., 0., 0.],\n",
       "        [0., 0., 0., ..., 0., 0., 0.],\n",
       "        [0., 0., 0., ..., 0., 0., 0.],\n",
       "        ...,\n",
       "        [0., 0., 0., ..., 0., 0., 0.],\n",
       "        [0., 0., 0., ..., 0., 0., 0.],\n",
       "        [0., 0., 0., ..., 0., 0., 0.]])"
      ]
     },
     "execution_count": 28,
     "metadata": {},
     "output_type": "execute_result"
    }
   ],
   "source": [
    "tfidf_matrix.todense()"
   ]
  },
  {
   "cell_type": "markdown",
   "id": "839685eb",
   "metadata": {
    "papermill": {
     "duration": 0.079531,
     "end_time": "2021-10-10T11:01:03.712271",
     "exception": false,
     "start_time": "2021-10-10T11:01:03.632740",
     "status": "completed"
    },
    "tags": []
   },
   "source": [
    "Dataframe di bawah ini digunakan untuk melihat matriks dari judul buku dengan penulis - penulis buku"
   ]
  },
  {
   "cell_type": "code",
   "execution_count": 29,
   "id": "34924788",
   "metadata": {
    "execution": {
     "iopub.execute_input": "2021-10-10T11:01:03.874326Z",
     "iopub.status.busy": "2021-10-10T11:01:03.873445Z",
     "iopub.status.idle": "2021-10-10T11:01:04.054191Z",
     "shell.execute_reply": "2021-10-10T11:01:04.054672Z",
     "shell.execute_reply.started": "2021-10-10T10:48:58.080364Z"
    },
    "papermill": {
     "duration": 0.263668,
     "end_time": "2021-10-10T11:01:04.054829",
     "exception": false,
     "start_time": "2021-10-10T11:01:03.791161",
     "status": "completed"
    },
    "tags": []
   },
   "outputs": [
    {
     "data": {
      "text/html": [
       "<div>\n",
       "<style scoped>\n",
       "    .dataframe tbody tr th:only-of-type {\n",
       "        vertical-align: middle;\n",
       "    }\n",
       "\n",
       "    .dataframe tbody tr th {\n",
       "        vertical-align: top;\n",
       "    }\n",
       "\n",
       "    .dataframe thead th {\n",
       "        text-align: right;\n",
       "    }\n",
       "</style>\n",
       "<table border=\"1\" class=\"dataframe\">\n",
       "  <thead>\n",
       "    <tr style=\"text-align: right;\">\n",
       "      <th></th>\n",
       "      <th>tamora</th>\n",
       "      <th>roxanne</th>\n",
       "      <th>aileen</th>\n",
       "      <th>merlin</th>\n",
       "      <th>ende</th>\n",
       "      <th>slick</th>\n",
       "      <th>ribarich</th>\n",
       "      <th>coll</th>\n",
       "      <th>updike</th>\n",
       "      <th>augusten</th>\n",
       "    </tr>\n",
       "    <tr>\n",
       "      <th>book_title</th>\n",
       "      <th></th>\n",
       "      <th></th>\n",
       "      <th></th>\n",
       "      <th></th>\n",
       "      <th></th>\n",
       "      <th></th>\n",
       "      <th></th>\n",
       "      <th></th>\n",
       "      <th></th>\n",
       "      <th></th>\n",
       "    </tr>\n",
       "  </thead>\n",
       "  <tbody>\n",
       "    <tr>\n",
       "      <th>Texas</th>\n",
       "      <td>0.0</td>\n",
       "      <td>0.0</td>\n",
       "      <td>0.0</td>\n",
       "      <td>0.0</td>\n",
       "      <td>0.0</td>\n",
       "      <td>0.0</td>\n",
       "      <td>0.0</td>\n",
       "      <td>0.0</td>\n",
       "      <td>0.0</td>\n",
       "      <td>0.0</td>\n",
       "    </tr>\n",
       "    <tr>\n",
       "      <th>Whispers</th>\n",
       "      <td>0.0</td>\n",
       "      <td>0.0</td>\n",
       "      <td>0.0</td>\n",
       "      <td>0.0</td>\n",
       "      <td>0.0</td>\n",
       "      <td>0.0</td>\n",
       "      <td>0.0</td>\n",
       "      <td>0.0</td>\n",
       "      <td>0.0</td>\n",
       "      <td>0.0</td>\n",
       "    </tr>\n",
       "    <tr>\n",
       "      <th>Mi Planta de Naranja-Lima</th>\n",
       "      <td>0.0</td>\n",
       "      <td>0.0</td>\n",
       "      <td>0.0</td>\n",
       "      <td>0.0</td>\n",
       "      <td>0.0</td>\n",
       "      <td>0.0</td>\n",
       "      <td>0.0</td>\n",
       "      <td>0.0</td>\n",
       "      <td>0.0</td>\n",
       "      <td>0.0</td>\n",
       "    </tr>\n",
       "    <tr>\n",
       "      <th>Princess of Thieves</th>\n",
       "      <td>0.0</td>\n",
       "      <td>0.0</td>\n",
       "      <td>0.0</td>\n",
       "      <td>0.0</td>\n",
       "      <td>0.0</td>\n",
       "      <td>0.0</td>\n",
       "      <td>0.0</td>\n",
       "      <td>0.0</td>\n",
       "      <td>0.0</td>\n",
       "      <td>0.0</td>\n",
       "    </tr>\n",
       "    <tr>\n",
       "      <th>The Bette Davis Murder Case</th>\n",
       "      <td>0.0</td>\n",
       "      <td>0.0</td>\n",
       "      <td>0.0</td>\n",
       "      <td>0.0</td>\n",
       "      <td>0.0</td>\n",
       "      <td>0.0</td>\n",
       "      <td>0.0</td>\n",
       "      <td>0.0</td>\n",
       "      <td>0.0</td>\n",
       "      <td>0.0</td>\n",
       "    </tr>\n",
       "    <tr>\n",
       "      <th>Soldier</th>\n",
       "      <td>0.0</td>\n",
       "      <td>0.0</td>\n",
       "      <td>0.0</td>\n",
       "      <td>0.0</td>\n",
       "      <td>0.0</td>\n",
       "      <td>0.0</td>\n",
       "      <td>0.0</td>\n",
       "      <td>0.0</td>\n",
       "      <td>0.0</td>\n",
       "      <td>0.0</td>\n",
       "    </tr>\n",
       "    <tr>\n",
       "      <th>WILD HONEY</th>\n",
       "      <td>0.0</td>\n",
       "      <td>0.0</td>\n",
       "      <td>0.0</td>\n",
       "      <td>0.0</td>\n",
       "      <td>0.0</td>\n",
       "      <td>0.0</td>\n",
       "      <td>0.0</td>\n",
       "      <td>0.0</td>\n",
       "      <td>0.0</td>\n",
       "      <td>0.0</td>\n",
       "    </tr>\n",
       "    <tr>\n",
       "      <th>Hound of the Baskervilles (Aladdin Classics)</th>\n",
       "      <td>0.0</td>\n",
       "      <td>0.0</td>\n",
       "      <td>0.0</td>\n",
       "      <td>0.0</td>\n",
       "      <td>0.0</td>\n",
       "      <td>0.0</td>\n",
       "      <td>0.0</td>\n",
       "      <td>0.0</td>\n",
       "      <td>0.0</td>\n",
       "      <td>0.0</td>\n",
       "    </tr>\n",
       "    <tr>\n",
       "      <th>Math Curse</th>\n",
       "      <td>0.0</td>\n",
       "      <td>0.0</td>\n",
       "      <td>0.0</td>\n",
       "      <td>0.0</td>\n",
       "      <td>0.0</td>\n",
       "      <td>0.0</td>\n",
       "      <td>0.0</td>\n",
       "      <td>0.0</td>\n",
       "      <td>0.0</td>\n",
       "      <td>0.0</td>\n",
       "    </tr>\n",
       "    <tr>\n",
       "      <th>The WILD CAT CRIME NANCY DREW DIGEST 141</th>\n",
       "      <td>0.0</td>\n",
       "      <td>0.0</td>\n",
       "      <td>0.0</td>\n",
       "      <td>0.0</td>\n",
       "      <td>0.0</td>\n",
       "      <td>0.0</td>\n",
       "      <td>0.0</td>\n",
       "      <td>0.0</td>\n",
       "      <td>0.0</td>\n",
       "      <td>0.0</td>\n",
       "    </tr>\n",
       "  </tbody>\n",
       "</table>\n",
       "</div>"
      ],
      "text/plain": [
       "                                              tamora  roxanne  aileen  merlin  \\\n",
       "book_title                                                                      \n",
       "Texas                                            0.0      0.0     0.0     0.0   \n",
       "Whispers                                         0.0      0.0     0.0     0.0   \n",
       "Mi Planta de Naranja-Lima                        0.0      0.0     0.0     0.0   \n",
       "Princess of Thieves                              0.0      0.0     0.0     0.0   \n",
       "The Bette Davis Murder Case                      0.0      0.0     0.0     0.0   \n",
       "Soldier                                          0.0      0.0     0.0     0.0   \n",
       "WILD HONEY                                       0.0      0.0     0.0     0.0   \n",
       "Hound of the Baskervilles (Aladdin Classics)     0.0      0.0     0.0     0.0   \n",
       "Math Curse                                       0.0      0.0     0.0     0.0   \n",
       "The WILD CAT CRIME NANCY DREW DIGEST 141         0.0      0.0     0.0     0.0   \n",
       "\n",
       "                                              ende  slick  ribarich  coll  \\\n",
       "book_title                                                                  \n",
       "Texas                                          0.0    0.0       0.0   0.0   \n",
       "Whispers                                       0.0    0.0       0.0   0.0   \n",
       "Mi Planta de Naranja-Lima                      0.0    0.0       0.0   0.0   \n",
       "Princess of Thieves                            0.0    0.0       0.0   0.0   \n",
       "The Bette Davis Murder Case                    0.0    0.0       0.0   0.0   \n",
       "Soldier                                        0.0    0.0       0.0   0.0   \n",
       "WILD HONEY                                     0.0    0.0       0.0   0.0   \n",
       "Hound of the Baskervilles (Aladdin Classics)   0.0    0.0       0.0   0.0   \n",
       "Math Curse                                     0.0    0.0       0.0   0.0   \n",
       "The WILD CAT CRIME NANCY DREW DIGEST 141       0.0    0.0       0.0   0.0   \n",
       "\n",
       "                                              updike  augusten  \n",
       "book_title                                                      \n",
       "Texas                                            0.0       0.0  \n",
       "Whispers                                         0.0       0.0  \n",
       "Mi Planta de Naranja-Lima                        0.0       0.0  \n",
       "Princess of Thieves                              0.0       0.0  \n",
       "The Bette Davis Murder Case                      0.0       0.0  \n",
       "Soldier                                          0.0       0.0  \n",
       "WILD HONEY                                       0.0       0.0  \n",
       "Hound of the Baskervilles (Aladdin Classics)     0.0       0.0  \n",
       "Math Curse                                       0.0       0.0  \n",
       "The WILD CAT CRIME NANCY DREW DIGEST 141         0.0       0.0  "
      ]
     },
     "execution_count": 29,
     "metadata": {},
     "output_type": "execute_result"
    }
   ],
   "source": [
    "pd.DataFrame(\n",
    "    tfidf_matrix.todense(), \n",
    "    columns=tf.get_feature_names(),\n",
    "    index=book.book_title\n",
    ").sample(10, axis=1,replace=True).sample(10, axis=0)"
   ]
  },
  {
   "cell_type": "markdown",
   "id": "94d0c6c9",
   "metadata": {
    "papermill": {
     "duration": 0.077563,
     "end_time": "2021-10-10T11:01:04.217473",
     "exception": false,
     "start_time": "2021-10-10T11:01:04.139910",
     "status": "completed"
    },
    "tags": []
   },
   "source": [
    "Dalam sistem rekomendasi, kita perlu mencari cara supaya item yang kita rekomendasikan tidak terlalu jauh dari data pusat, oleh karena itu kita butuh derajat kesamaan pada item, dalam proyek ini, buku dengan derajat kesamaan antar buku dengan cosine similarity"
   ]
  },
  {
   "cell_type": "code",
   "execution_count": 30,
   "id": "1956f97b",
   "metadata": {
    "execution": {
     "iopub.execute_input": "2021-10-10T11:01:04.377123Z",
     "iopub.status.busy": "2021-10-10T11:01:04.376244Z",
     "iopub.status.idle": "2021-10-10T11:01:04.945628Z",
     "shell.execute_reply": "2021-10-10T11:01:04.946116Z",
     "shell.execute_reply.started": "2021-10-10T10:48:58.256775Z"
    },
    "papermill": {
     "duration": 0.651163,
     "end_time": "2021-10-10T11:01:04.946300",
     "exception": false,
     "start_time": "2021-10-10T11:01:04.295137",
     "status": "completed"
    },
    "tags": []
   },
   "outputs": [
    {
     "data": {
      "text/plain": [
       "array([[1., 0., 0., ..., 0., 0., 0.],\n",
       "       [0., 1., 0., ..., 0., 0., 0.],\n",
       "       [0., 0., 1., ..., 0., 0., 0.],\n",
       "       ...,\n",
       "       [0., 0., 0., ..., 1., 0., 0.],\n",
       "       [0., 0., 0., ..., 0., 1., 0.],\n",
       "       [0., 0., 0., ..., 0., 0., 1.]])"
      ]
     },
     "execution_count": 30,
     "metadata": {},
     "output_type": "execute_result"
    }
   ],
   "source": [
    "from sklearn.metrics.pairwise import cosine_similarity\n",
    " \n",
    "cosine_sim = cosine_similarity(tfidf_matrix) \n",
    "cosine_sim"
   ]
  },
  {
   "cell_type": "markdown",
   "id": "f3d39b4a",
   "metadata": {
    "papermill": {
     "duration": 0.082434,
     "end_time": "2021-10-10T11:01:05.114291",
     "exception": false,
     "start_time": "2021-10-10T11:01:05.031857",
     "status": "completed"
    },
    "tags": []
   },
   "source": [
    "Pada code di bawah ini kita akan membuat dataframe cosine_sim_df dengan baris dan kolomnya adalah judul dari buku"
   ]
  },
  {
   "cell_type": "code",
   "execution_count": 31,
   "id": "23b93fa9",
   "metadata": {
    "execution": {
     "iopub.execute_input": "2021-10-10T11:01:05.281625Z",
     "iopub.status.busy": "2021-10-10T11:01:05.280047Z",
     "iopub.status.idle": "2021-10-10T11:01:05.282354Z",
     "shell.execute_reply": "2021-10-10T11:01:05.282845Z",
     "shell.execute_reply.started": "2021-10-10T10:48:58.821263Z"
    },
    "papermill": {
     "duration": 0.087478,
     "end_time": "2021-10-10T11:01:05.282991",
     "exception": false,
     "start_time": "2021-10-10T11:01:05.195513",
     "status": "completed"
    },
    "tags": []
   },
   "outputs": [],
   "source": [
    "cosine_sim_df = pd.DataFrame(cosine_sim, index=book['book_title'], columns=book['book_title'])"
   ]
  },
  {
   "cell_type": "markdown",
   "id": "9ab52fd8",
   "metadata": {
    "papermill": {
     "duration": 0.078474,
     "end_time": "2021-10-10T11:01:05.440079",
     "exception": false,
     "start_time": "2021-10-10T11:01:05.361605",
     "status": "completed"
    },
    "tags": []
   },
   "source": [
    "Di bawah ini adalah fungsi untuk mendapatkan rekomendasi berbasis penulis buku dengan k sebagai jumlah rekomendasi yang diingkan, dalam fungsi ini, kita akan mendapatkan 5 rekomendasi"
   ]
  },
  {
   "cell_type": "markdown",
   "id": "10154e45",
   "metadata": {
    "papermill": {
     "duration": 0.07812,
     "end_time": "2021-10-10T11:01:05.597269",
     "exception": false,
     "start_time": "2021-10-10T11:01:05.519149",
     "status": "completed"
    },
    "tags": []
   },
   "source": [
    "Atribut argpartition berguna untuk mengambil sejumlah nilai k, dalam fungsi ini 5 tertinggi dari tingkat kesamaan yang berasal dari dataframe cosine_sim_df."
   ]
  },
  {
   "cell_type": "code",
   "execution_count": 32,
   "id": "4ad7ac85",
   "metadata": {
    "execution": {
     "iopub.execute_input": "2021-10-10T11:01:05.763298Z",
     "iopub.status.busy": "2021-10-10T11:01:05.762346Z",
     "iopub.status.idle": "2021-10-10T11:01:05.765553Z",
     "shell.execute_reply": "2021-10-10T11:01:05.765055Z",
     "shell.execute_reply.started": "2021-10-10T10:48:58.829660Z"
    },
    "papermill": {
     "duration": 0.089814,
     "end_time": "2021-10-10T11:01:05.765683",
     "exception": false,
     "start_time": "2021-10-10T11:01:05.675869",
     "status": "completed"
    },
    "tags": []
   },
   "outputs": [],
   "source": [
    "def author_recommendations(i, M, items, k=5):\n",
    "    ix = M.loc[:,i].to_numpy().argpartition(range(-1,-k,-1))\n",
    "    closest = M.columns[ix[-1:-(k+2):-1]]\n",
    "    closest = closest.drop(i, errors='ignore')\n",
    "    return pd.DataFrame(closest).merge(items).head(k)"
   ]
  },
  {
   "cell_type": "markdown",
   "id": "b4906822",
   "metadata": {
    "papermill": {
     "duration": 0.080866,
     "end_time": "2021-10-10T11:01:05.931093",
     "exception": false,
     "start_time": "2021-10-10T11:01:05.850227",
     "status": "completed"
    },
    "tags": []
   },
   "source": [
    "Pada code cell di bawah ini, kita akan mencari rekomendasi dari buku yang sudah dibaca, dalam kasus ini, buku yang sudah dibaca adalah \"The Diaries of Adam and Eve\" yang ditulis oleh Mark Twain dan terbit pada tahun 1998"
   ]
  },
  {
   "cell_type": "code",
   "execution_count": 33,
   "id": "0e73ddc6",
   "metadata": {
    "execution": {
     "iopub.execute_input": "2021-10-10T11:01:06.105468Z",
     "iopub.status.busy": "2021-10-10T11:01:06.104751Z",
     "iopub.status.idle": "2021-10-10T11:01:06.107731Z",
     "shell.execute_reply": "2021-10-10T11:01:06.108148Z",
     "shell.execute_reply.started": "2021-10-10T10:48:58.838785Z"
    },
    "papermill": {
     "duration": 0.09451,
     "end_time": "2021-10-10T11:01:06.108272",
     "exception": false,
     "start_time": "2021-10-10T11:01:06.013762",
     "status": "completed"
    },
    "tags": []
   },
   "outputs": [
    {
     "data": {
      "text/html": [
       "<div>\n",
       "<style scoped>\n",
       "    .dataframe tbody tr th:only-of-type {\n",
       "        vertical-align: middle;\n",
       "    }\n",
       "\n",
       "    .dataframe tbody tr th {\n",
       "        vertical-align: top;\n",
       "    }\n",
       "\n",
       "    .dataframe thead th {\n",
       "        text-align: right;\n",
       "    }\n",
       "</style>\n",
       "<table border=\"1\" class=\"dataframe\">\n",
       "  <thead>\n",
       "    <tr style=\"text-align: right;\">\n",
       "      <th></th>\n",
       "      <th>book_ISBN</th>\n",
       "      <th>book_title</th>\n",
       "      <th>book_author</th>\n",
       "      <th>book_year_of_publication</th>\n",
       "    </tr>\n",
       "  </thead>\n",
       "  <tbody>\n",
       "    <tr>\n",
       "      <th>4700</th>\n",
       "      <td>0965881199</td>\n",
       "      <td>The Diaries of Adam and Eve</td>\n",
       "      <td>Mark Twain</td>\n",
       "      <td>1998</td>\n",
       "    </tr>\n",
       "  </tbody>\n",
       "</table>\n",
       "</div>"
      ],
      "text/plain": [
       "       book_ISBN                   book_title book_author  \\\n",
       "4700  0965881199  The Diaries of Adam and Eve  Mark Twain   \n",
       "\n",
       "      book_year_of_publication  \n",
       "4700                      1998  "
      ]
     },
     "execution_count": 33,
     "metadata": {},
     "output_type": "execute_result"
    }
   ],
   "source": [
    "books_that_have_been_read = \"The Diaries of Adam and Eve\"\n",
    "book[book.book_title.eq(books_that_have_been_read)]"
   ]
  },
  {
   "cell_type": "markdown",
   "id": "5fbc1355",
   "metadata": {
    "papermill": {
     "duration": 0.079676,
     "end_time": "2021-10-10T11:01:06.269425",
     "exception": false,
     "start_time": "2021-10-10T11:01:06.189749",
     "status": "completed"
    },
    "tags": []
   },
   "source": [
    "Pada cell code di bawah ini, kita akan mendapatkan 5 rekomendasi dari buku \"The Diaries of Adam and Eve\""
   ]
  },
  {
   "cell_type": "code",
   "execution_count": 34,
   "id": "2df47eb7",
   "metadata": {
    "execution": {
     "iopub.execute_input": "2021-10-10T11:01:06.441204Z",
     "iopub.status.busy": "2021-10-10T11:01:06.436314Z",
     "iopub.status.idle": "2021-10-10T11:01:06.459311Z",
     "shell.execute_reply": "2021-10-10T11:01:06.458782Z",
     "shell.execute_reply.started": "2021-10-10T10:48:58.854918Z"
    },
    "papermill": {
     "duration": 0.110129,
     "end_time": "2021-10-10T11:01:06.459427",
     "exception": false,
     "start_time": "2021-10-10T11:01:06.349298",
     "status": "completed"
    },
    "tags": []
   },
   "outputs": [],
   "source": [
    "recommendations = author_recommendations(books_that_have_been_read, cosine_sim_df, book[['book_title', 'book_author']])"
   ]
  },
  {
   "cell_type": "markdown",
   "id": "9ac8c75b",
   "metadata": {
    "papermill": {
     "duration": 0.082696,
     "end_time": "2021-10-10T11:01:06.622962",
     "exception": false,
     "start_time": "2021-10-10T11:01:06.540266",
     "status": "completed"
    },
    "tags": []
   },
   "source": [
    "Pada beberapa kasus, rekomendasi akan memberikan rekomendasi yang terduplikat, sehingga perlu dibuang rekomendasi yang terduplikat"
   ]
  },
  {
   "cell_type": "code",
   "execution_count": 35,
   "id": "6547f6ea",
   "metadata": {
    "execution": {
     "iopub.execute_input": "2021-10-10T11:01:06.793235Z",
     "iopub.status.busy": "2021-10-10T11:01:06.791722Z",
     "iopub.status.idle": "2021-10-10T11:01:06.793855Z",
     "shell.execute_reply": "2021-10-10T11:01:06.794248Z",
     "shell.execute_reply.started": "2021-10-10T10:48:58.880166Z"
    },
    "papermill": {
     "duration": 0.090037,
     "end_time": "2021-10-10T11:01:06.794375",
     "exception": false,
     "start_time": "2021-10-10T11:01:06.704338",
     "status": "completed"
    },
    "tags": []
   },
   "outputs": [],
   "source": [
    "recommendations = recommendations.drop_duplicates()"
   ]
  },
  {
   "cell_type": "markdown",
   "id": "7916d629",
   "metadata": {
    "papermill": {
     "duration": 0.076913,
     "end_time": "2021-10-10T11:01:06.950626",
     "exception": false,
     "start_time": "2021-10-10T11:01:06.873713",
     "status": "completed"
    },
    "tags": []
   },
   "source": [
    "Berikut adalah 5 buku rekomendasi yang ditulis oleh Mark Twain"
   ]
  },
  {
   "cell_type": "code",
   "execution_count": 36,
   "id": "bd6cc51d",
   "metadata": {
    "execution": {
     "iopub.execute_input": "2021-10-10T11:01:07.125243Z",
     "iopub.status.busy": "2021-10-10T11:01:07.124572Z",
     "iopub.status.idle": "2021-10-10T11:01:07.127519Z",
     "shell.execute_reply": "2021-10-10T11:01:07.127918Z",
     "shell.execute_reply.started": "2021-10-10T10:48:58.887399Z"
    },
    "papermill": {
     "duration": 0.094438,
     "end_time": "2021-10-10T11:01:07.128047",
     "exception": false,
     "start_time": "2021-10-10T11:01:07.033609",
     "status": "completed"
    },
    "tags": []
   },
   "outputs": [
    {
     "data": {
      "text/html": [
       "<div>\n",
       "<style scoped>\n",
       "    .dataframe tbody tr th:only-of-type {\n",
       "        vertical-align: middle;\n",
       "    }\n",
       "\n",
       "    .dataframe tbody tr th {\n",
       "        vertical-align: top;\n",
       "    }\n",
       "\n",
       "    .dataframe thead th {\n",
       "        text-align: right;\n",
       "    }\n",
       "</style>\n",
       "<table border=\"1\" class=\"dataframe\">\n",
       "  <thead>\n",
       "    <tr style=\"text-align: right;\">\n",
       "      <th></th>\n",
       "      <th>book_title</th>\n",
       "      <th>book_author</th>\n",
       "    </tr>\n",
       "  </thead>\n",
       "  <tbody>\n",
       "    <tr>\n",
       "      <th>0</th>\n",
       "      <td>ADVENTURES OF HUCKLEBERRY FINN (ENRICHED CLASS...</td>\n",
       "      <td>Mark Twain</td>\n",
       "    </tr>\n",
       "    <tr>\n",
       "      <th>1</th>\n",
       "      <td>Adventures of Huckleberry Finn</td>\n",
       "      <td>Mark Twain</td>\n",
       "    </tr>\n",
       "    <tr>\n",
       "      <th>2</th>\n",
       "      <td>The Complete Short Stories of Mark Twain (Bant...</td>\n",
       "      <td>Mark Twain</td>\n",
       "    </tr>\n",
       "    <tr>\n",
       "      <th>3</th>\n",
       "      <td>Treasury of Illustrated Classics: Adventures o...</td>\n",
       "      <td>Mark Twain</td>\n",
       "    </tr>\n",
       "    <tr>\n",
       "      <th>4</th>\n",
       "      <td>A Connecticut Yankee in King Arthur's Court (D...</td>\n",
       "      <td>Mark Twain</td>\n",
       "    </tr>\n",
       "  </tbody>\n",
       "</table>\n",
       "</div>"
      ],
      "text/plain": [
       "                                          book_title book_author\n",
       "0  ADVENTURES OF HUCKLEBERRY FINN (ENRICHED CLASS...  Mark Twain\n",
       "1                     Adventures of Huckleberry Finn  Mark Twain\n",
       "2  The Complete Short Stories of Mark Twain (Bant...  Mark Twain\n",
       "3  Treasury of Illustrated Classics: Adventures o...  Mark Twain\n",
       "4  A Connecticut Yankee in King Arthur's Court (D...  Mark Twain"
      ]
     },
     "execution_count": 36,
     "metadata": {},
     "output_type": "execute_result"
    }
   ],
   "source": [
    "recommendations"
   ]
  },
  {
   "cell_type": "markdown",
   "id": "3974f84d",
   "metadata": {
    "papermill": {
     "duration": 0.077888,
     "end_time": "2021-10-10T11:01:07.294343",
     "exception": false,
     "start_time": "2021-10-10T11:01:07.216455",
     "status": "completed"
    },
    "tags": []
   },
   "source": [
    "## Evaluation"
   ]
  },
  {
   "cell_type": "markdown",
   "id": "26446179",
   "metadata": {
    "papermill": {
     "duration": 0.080266,
     "end_time": "2021-10-10T11:01:07.453226",
     "exception": false,
     "start_time": "2021-10-10T11:01:07.372960",
     "status": "completed"
    },
    "tags": []
   },
   "source": [
    "Kita akan memakai metrik evaluasi akurasi di mana akurasi adalah:\n",
    "\n",
    "Jumlah buku yang direkomendasikan sesuai dengan penulis buku / Jumlah buku yang direkomendasikan"
   ]
  },
  {
   "cell_type": "markdown",
   "id": "6ffbe497",
   "metadata": {
    "papermill": {
     "duration": 0.083936,
     "end_time": "2021-10-10T11:01:07.614944",
     "exception": false,
     "start_time": "2021-10-10T11:01:07.531008",
     "status": "completed"
    },
    "tags": []
   },
   "source": [
    "Variabel books_that_have_been_read_row di bawah ini akan mengambil satu row dari buku yang pernah dibaca sebelumnya, dan variabel books_that_have_been_read_author adalah penulis buku dari buku yang pernah dibaca sebelumnya"
   ]
  },
  {
   "cell_type": "code",
   "execution_count": 37,
   "id": "8e89f141",
   "metadata": {
    "execution": {
     "iopub.execute_input": "2021-10-10T11:01:07.789378Z",
     "iopub.status.busy": "2021-10-10T11:01:07.788767Z",
     "iopub.status.idle": "2021-10-10T11:01:07.791909Z",
     "shell.execute_reply": "2021-10-10T11:01:07.791416Z",
     "shell.execute_reply.started": "2021-10-10T10:55:59.599976Z"
    },
    "papermill": {
     "duration": 0.095551,
     "end_time": "2021-10-10T11:01:07.792033",
     "exception": false,
     "start_time": "2021-10-10T11:01:07.696482",
     "status": "completed"
    },
    "tags": []
   },
   "outputs": [],
   "source": [
    "books_that_have_been_read_row = book_dataset[book_dataset.book_title == books_that_have_been_read]\n",
    "books_that_have_been_read_author = books_that_have_been_read_row.iloc[0][\"book_author\"]"
   ]
  },
  {
   "cell_type": "markdown",
   "id": "21abad33",
   "metadata": {
    "papermill": {
     "duration": 0.078766,
     "end_time": "2021-10-10T11:01:07.953164",
     "exception": false,
     "start_time": "2021-10-10T11:01:07.874398",
     "status": "completed"
    },
    "tags": []
   },
   "source": [
    "Variabel book_recommendation_authors merupakan sebuah list yang terdiri dari penulis - penulis dari buku - buku yang direkomendasikan oleh sistem"
   ]
  },
  {
   "cell_type": "code",
   "execution_count": 38,
   "id": "914f6585",
   "metadata": {
    "execution": {
     "iopub.execute_input": "2021-10-10T11:01:08.123877Z",
     "iopub.status.busy": "2021-10-10T11:01:08.123010Z",
     "iopub.status.idle": "2021-10-10T11:01:08.125035Z",
     "shell.execute_reply": "2021-10-10T11:01:08.125461Z",
     "shell.execute_reply.started": "2021-10-10T10:56:01.432772Z"
    },
    "papermill": {
     "duration": 0.088921,
     "end_time": "2021-10-10T11:01:08.125641",
     "exception": false,
     "start_time": "2021-10-10T11:01:08.036720",
     "status": "completed"
    },
    "tags": []
   },
   "outputs": [],
   "source": [
    "book_recommendation_authors = recommendations.book_author"
   ]
  },
  {
   "cell_type": "markdown",
   "id": "11805d8a",
   "metadata": {
    "papermill": {
     "duration": 0.077079,
     "end_time": "2021-10-10T11:01:08.281666",
     "exception": false,
     "start_time": "2021-10-10T11:01:08.204587",
     "status": "completed"
    },
    "tags": []
   },
   "source": [
    "Code di bawah ini merupakan proses manual di mana setiap penulis dari buku yang direkomendasikan akan dicek, apabila sama, maka variabel real_author akan bertambah 1"
   ]
  },
  {
   "cell_type": "code",
   "execution_count": 39,
   "id": "cc04c374",
   "metadata": {
    "execution": {
     "iopub.execute_input": "2021-10-10T11:01:08.441660Z",
     "iopub.status.busy": "2021-10-10T11:01:08.440778Z",
     "iopub.status.idle": "2021-10-10T11:01:08.443187Z",
     "shell.execute_reply": "2021-10-10T11:01:08.442694Z",
     "shell.execute_reply.started": "2021-10-10T10:56:20.882331Z"
    },
    "papermill": {
     "duration": 0.084212,
     "end_time": "2021-10-10T11:01:08.443289",
     "exception": false,
     "start_time": "2021-10-10T11:01:08.359077",
     "status": "completed"
    },
    "tags": []
   },
   "outputs": [],
   "source": [
    "real_author = 0\n",
    "for i in range(5):\n",
    "    if book_recommendation_authors[i] == books_that_have_been_read_author:\n",
    "        real_author+=1"
   ]
  },
  {
   "cell_type": "markdown",
   "id": "b3b7ac15",
   "metadata": {
    "papermill": {
     "duration": 0.08026,
     "end_time": "2021-10-10T11:01:08.601576",
     "exception": false,
     "start_time": "2021-10-10T11:01:08.521316",
     "status": "completed"
    },
    "tags": []
   },
   "source": [
    "Code di bawah ini adalah akurasi dari model sistem rekomendasi, di mana Jumlah buku yang direkomendasikan sesuai dengan penulis buku (Variabel real_author) / Jumlah buku yang direkomendasikan (5)"
   ]
  },
  {
   "cell_type": "code",
   "execution_count": 40,
   "id": "4e2096e2",
   "metadata": {
    "execution": {
     "iopub.execute_input": "2021-10-10T11:01:08.771415Z",
     "iopub.status.busy": "2021-10-10T11:01:08.770515Z",
     "iopub.status.idle": "2021-10-10T11:01:08.773593Z",
     "shell.execute_reply": "2021-10-10T11:01:08.774194Z",
     "shell.execute_reply.started": "2021-10-10T10:56:23.136682Z"
    },
    "papermill": {
     "duration": 0.089982,
     "end_time": "2021-10-10T11:01:08.774366",
     "exception": false,
     "start_time": "2021-10-10T11:01:08.684384",
     "status": "completed"
    },
    "tags": []
   },
   "outputs": [
    {
     "name": "stdout",
     "output_type": "stream",
     "text": [
      "Accuracy of the model is 100.0%\n"
     ]
    }
   ],
   "source": [
    "Accuracy = real_author/5*100\n",
    "print(\"Accuracy of the model is {}%\".format(Accuracy))"
   ]
  },
  {
   "cell_type": "markdown",
   "id": "fae22730",
   "metadata": {
    "papermill": {
     "duration": 0.080448,
     "end_time": "2021-10-10T11:01:08.939165",
     "exception": false,
     "start_time": "2021-10-10T11:01:08.858717",
     "status": "completed"
    },
    "tags": []
   },
   "source": [
    "Maka dapat dilihat pada akurasi di atas, model menunjukkan akurasi 100%"
   ]
  },
  {
   "cell_type": "markdown",
   "id": "2623c1e1",
   "metadata": {
    "papermill": {
     "duration": 0.083642,
     "end_time": "2021-10-10T11:01:09.106787",
     "exception": false,
     "start_time": "2021-10-10T11:01:09.023145",
     "status": "completed"
    },
    "tags": []
   },
   "source": [
    "___\n",
    "# Collaborative Filtered Recommendation System"
   ]
  },
  {
   "cell_type": "markdown",
   "id": "82779d3d",
   "metadata": {
    "papermill": {
     "duration": 0.08054,
     "end_time": "2021-10-10T11:01:09.266709",
     "exception": false,
     "start_time": "2021-10-10T11:01:09.186169",
     "status": "completed"
    },
    "tags": []
   },
   "source": [
    "Collaborative Based Filtering adalah sistem rekomendasi berdasarkan pendapat suatu komunitas."
   ]
  },
  {
   "cell_type": "markdown",
   "id": "51681d8c",
   "metadata": {
    "papermill": {
     "duration": 0.079006,
     "end_time": "2021-10-10T11:01:09.424070",
     "exception": false,
     "start_time": "2021-10-10T11:01:09.345064",
     "status": "completed"
    },
    "tags": []
   },
   "source": [
    "Kelebihan pada Collaborative Based Filtering bila dibandingkan dengan Content Based Filtering adalah pengguna dapat mengeksplorasi item atau konten di luar preferensi pengguna. Pengguna pun juga dapat mendapat rekomendasi sesuai dengan kecenderungan publik yang dianalisa lewat penilaian pengguna - pengguna lainnya.\n",
    "\n",
    "Kekurangan pada Collaborative Based Filtering adalah pengguna kurang mendapatkan rekomendasi sesuai preferensi pribadi. Konten - konten yang diberikan oleh sistem rekomendasi lebih banyak berasal dari preferensi publik dan bukan preferensi pribadi.\n",
    "\n",
    "Pada Collaborative Based Filtering, saya menggunakan penilaian dari pengguna - pengguna untuk mendapatkan rekomendasi buku - buku."
   ]
  },
  {
   "cell_type": "markdown",
   "id": "14e0ab4c",
   "metadata": {
    "papermill": {
     "duration": 0.088871,
     "end_time": "2021-10-10T11:01:09.594314",
     "exception": false,
     "start_time": "2021-10-10T11:01:09.505443",
     "status": "completed"
    },
    "tags": []
   },
   "source": [
    "\n",
    "## Data Preparation"
   ]
  },
  {
   "cell_type": "markdown",
   "id": "c4e5f988",
   "metadata": {
    "papermill": {
     "duration": 0.083511,
     "end_time": "2021-10-10T11:01:09.761092",
     "exception": false,
     "start_time": "2021-10-10T11:01:09.677581",
     "status": "completed"
    },
    "tags": []
   },
   "source": [
    "Pada cell code di bawah ini, saya akan meyandikan user_id menjadi integer"
   ]
  },
  {
   "cell_type": "code",
   "execution_count": 41,
   "id": "92d3c6fb",
   "metadata": {
    "execution": {
     "iopub.execute_input": "2021-10-10T11:01:09.924112Z",
     "iopub.status.busy": "2021-10-10T11:01:09.923334Z",
     "iopub.status.idle": "2021-10-10T11:01:09.926737Z",
     "shell.execute_reply": "2021-10-10T11:01:09.926318Z",
     "shell.execute_reply.started": "2021-10-10T10:48:58.929015Z"
    },
    "papermill": {
     "duration": 0.087096,
     "end_time": "2021-10-10T11:01:09.926852",
     "exception": false,
     "start_time": "2021-10-10T11:01:09.839756",
     "status": "completed"
    },
    "tags": []
   },
   "outputs": [],
   "source": [
    "user_ids = rating_dataset['user_id'].unique().tolist()\n",
    "\n",
    "user_to_user_encoded = {x: i for i, x in enumerate(user_ids)}\n",
    "\n",
    "user_encoded_to_user = {i: x for i, x in enumerate(user_ids)}"
   ]
  },
  {
   "cell_type": "markdown",
   "id": "63e35c98",
   "metadata": {
    "papermill": {
     "duration": 0.090137,
     "end_time": "2021-10-10T11:01:10.097855",
     "exception": false,
     "start_time": "2021-10-10T11:01:10.007718",
     "status": "completed"
    },
    "tags": []
   },
   "source": [
    "Pada cell code di bawah ini, saya akan meyandikan book_id menjadi integer"
   ]
  },
  {
   "cell_type": "code",
   "execution_count": 42,
   "id": "c3bafdf4",
   "metadata": {
    "execution": {
     "iopub.execute_input": "2021-10-10T11:01:10.262963Z",
     "iopub.status.busy": "2021-10-10T11:01:10.262158Z",
     "iopub.status.idle": "2021-10-10T11:01:10.273202Z",
     "shell.execute_reply": "2021-10-10T11:01:10.272797Z",
     "shell.execute_reply.started": "2021-10-10T10:48:58.939844Z"
    },
    "papermill": {
     "duration": 0.096421,
     "end_time": "2021-10-10T11:01:10.273315",
     "exception": false,
     "start_time": "2021-10-10T11:01:10.176894",
     "status": "completed"
    },
    "tags": []
   },
   "outputs": [],
   "source": [
    "book_ids = rating_dataset['ISBN'].unique().tolist()\n",
    "book_to_book_encoded = {x: i for i, x in enumerate(book_ids)}\n",
    "book_encoded_to_book = {i: x for i, x in enumerate(book_ids)}\n",
    "\n",
    "rating_dataset['user'] = rating_dataset['user_id'].map(user_to_user_encoded)\n",
    "rating_dataset['book'] = rating_dataset['ISBN'].map(book_to_book_encoded)"
   ]
  },
  {
   "cell_type": "markdown",
   "id": "09686f79",
   "metadata": {
    "papermill": {
     "duration": 0.076703,
     "end_time": "2021-10-10T11:01:10.428843",
     "exception": false,
     "start_time": "2021-10-10T11:01:10.352140",
     "status": "completed"
    },
    "tags": []
   },
   "source": [
    "Terakhir, kita akan cek jumlah pengguna dan jumlah buku, serta mengubah tipe data rating menjadi float"
   ]
  },
  {
   "cell_type": "code",
   "execution_count": 43,
   "id": "0fe68b3c",
   "metadata": {
    "execution": {
     "iopub.execute_input": "2021-10-10T11:01:10.598382Z",
     "iopub.status.busy": "2021-10-10T11:01:10.597715Z",
     "iopub.status.idle": "2021-10-10T11:01:10.600948Z",
     "shell.execute_reply": "2021-10-10T11:01:10.601574Z",
     "shell.execute_reply.started": "2021-10-10T10:48:58.957358Z"
    },
    "papermill": {
     "duration": 0.094691,
     "end_time": "2021-10-10T11:01:10.601748",
     "exception": false,
     "start_time": "2021-10-10T11:01:10.507057",
     "status": "completed"
    },
    "tags": []
   },
   "outputs": [
    {
     "name": "stdout",
     "output_type": "stream",
     "text": [
      "679\n",
      "4688\n",
      "Number of User: 679, Number of Resto: 4688, Min Rating: 0.0, Max Rating: 10.0\n"
     ]
    }
   ],
   "source": [
    "num_users = len(user_encoded_to_user)\n",
    "print(num_users)\n",
    "num_book = len(book_encoded_to_book)\n",
    "print(num_book)\n",
    "rating_dataset['rating'] = rating_dataset['rating'].values.astype(np.float32)\n",
    "\n",
    "min_rating = min(rating_dataset['rating'])\n",
    "max_rating = max(rating_dataset['rating'])\n",
    " \n",
    "print('Number of User: {}, Number of Resto: {}, Min Rating: {}, Max Rating: {}'.format(\n",
    "    num_users, num_book, min_rating, max_rating\n",
    "))"
   ]
  },
  {
   "cell_type": "markdown",
   "id": "9e2bc230",
   "metadata": {
    "papermill": {
     "duration": 0.082215,
     "end_time": "2021-10-10T11:01:10.765610",
     "exception": false,
     "start_time": "2021-10-10T11:01:10.683395",
     "status": "completed"
    },
    "tags": []
   },
   "source": [
    "## Membagi Dataset"
   ]
  },
  {
   "cell_type": "markdown",
   "id": "54604ec3",
   "metadata": {
    "papermill": {
     "duration": 0.08003,
     "end_time": "2021-10-10T11:01:10.926659",
     "exception": false,
     "start_time": "2021-10-10T11:01:10.846629",
     "status": "completed"
    },
    "tags": []
   },
   "source": [
    "Sebelum kita membagi dataset menjadi data latih dan data validasi, kita terlebih dahulu harus mengacak dataset"
   ]
  },
  {
   "cell_type": "code",
   "execution_count": 44,
   "id": "db34b267",
   "metadata": {
    "execution": {
     "iopub.execute_input": "2021-10-10T11:01:11.094184Z",
     "iopub.status.busy": "2021-10-10T11:01:11.093283Z",
     "iopub.status.idle": "2021-10-10T11:01:11.109124Z",
     "shell.execute_reply": "2021-10-10T11:01:11.109608Z",
     "shell.execute_reply.started": "2021-10-10T10:48:58.968576Z"
    },
    "papermill": {
     "duration": 0.101569,
     "end_time": "2021-10-10T11:01:11.109748",
     "exception": false,
     "start_time": "2021-10-10T11:01:11.008179",
     "status": "completed"
    },
    "tags": []
   },
   "outputs": [
    {
     "data": {
      "text/html": [
       "<div>\n",
       "<style scoped>\n",
       "    .dataframe tbody tr th:only-of-type {\n",
       "        vertical-align: middle;\n",
       "    }\n",
       "\n",
       "    .dataframe tbody tr th {\n",
       "        vertical-align: top;\n",
       "    }\n",
       "\n",
       "    .dataframe thead th {\n",
       "        text-align: right;\n",
       "    }\n",
       "</style>\n",
       "<table border=\"1\" class=\"dataframe\">\n",
       "  <thead>\n",
       "    <tr style=\"text-align: right;\">\n",
       "      <th></th>\n",
       "      <th>user_id</th>\n",
       "      <th>ISBN</th>\n",
       "      <th>rating</th>\n",
       "      <th>user</th>\n",
       "      <th>book</th>\n",
       "    </tr>\n",
       "  </thead>\n",
       "  <tbody>\n",
       "    <tr>\n",
       "      <th>1501</th>\n",
       "      <td>277427</td>\n",
       "      <td>0201000822</td>\n",
       "      <td>10.0</td>\n",
       "      <td>255</td>\n",
       "      <td>1470</td>\n",
       "    </tr>\n",
       "    <tr>\n",
       "      <th>2586</th>\n",
       "      <td>277639</td>\n",
       "      <td>0453008739</td>\n",
       "      <td>0.0</td>\n",
       "      <td>335</td>\n",
       "      <td>2487</td>\n",
       "    </tr>\n",
       "    <tr>\n",
       "      <th>2653</th>\n",
       "      <td>277639</td>\n",
       "      <td>0671509144</td>\n",
       "      <td>0.0</td>\n",
       "      <td>335</td>\n",
       "      <td>2550</td>\n",
       "    </tr>\n",
       "    <tr>\n",
       "      <th>1055</th>\n",
       "      <td>277187</td>\n",
       "      <td>0553281089</td>\n",
       "      <td>0.0</td>\n",
       "      <td>170</td>\n",
       "      <td>1041</td>\n",
       "    </tr>\n",
       "    <tr>\n",
       "      <th>705</th>\n",
       "      <td>276964</td>\n",
       "      <td>0886774829</td>\n",
       "      <td>8.0</td>\n",
       "      <td>96</td>\n",
       "      <td>696</td>\n",
       "    </tr>\n",
       "    <tr>\n",
       "      <th>...</th>\n",
       "      <td>...</td>\n",
       "      <td>...</td>\n",
       "      <td>...</td>\n",
       "      <td>...</td>\n",
       "      <td>...</td>\n",
       "    </tr>\n",
       "    <tr>\n",
       "      <th>4426</th>\n",
       "      <td>278418</td>\n",
       "      <td>0061091464</td>\n",
       "      <td>0.0</td>\n",
       "      <td>678</td>\n",
       "      <td>4127</td>\n",
       "    </tr>\n",
       "    <tr>\n",
       "      <th>466</th>\n",
       "      <td>276925</td>\n",
       "      <td>3775713328</td>\n",
       "      <td>0.0</td>\n",
       "      <td>80</td>\n",
       "      <td>461</td>\n",
       "    </tr>\n",
       "    <tr>\n",
       "      <th>3092</th>\n",
       "      <td>277928</td>\n",
       "      <td>0937247065</td>\n",
       "      <td>7.0</td>\n",
       "      <td>476</td>\n",
       "      <td>2935</td>\n",
       "    </tr>\n",
       "    <tr>\n",
       "      <th>3772</th>\n",
       "      <td>278159</td>\n",
       "      <td>0385318073</td>\n",
       "      <td>5.0</td>\n",
       "      <td>574</td>\n",
       "      <td>3549</td>\n",
       "    </tr>\n",
       "    <tr>\n",
       "      <th>860</th>\n",
       "      <td>277087</td>\n",
       "      <td>8472230082</td>\n",
       "      <td>5.0</td>\n",
       "      <td>139</td>\n",
       "      <td>850</td>\n",
       "    </tr>\n",
       "  </tbody>\n",
       "</table>\n",
       "<p>5000 rows × 5 columns</p>\n",
       "</div>"
      ],
      "text/plain": [
       "      user_id        ISBN  rating  user  book\n",
       "1501   277427  0201000822    10.0   255  1470\n",
       "2586   277639  0453008739     0.0   335  2487\n",
       "2653   277639  0671509144     0.0   335  2550\n",
       "1055   277187  0553281089     0.0   170  1041\n",
       "705    276964  0886774829     8.0    96   696\n",
       "...       ...         ...     ...   ...   ...\n",
       "4426   278418  0061091464     0.0   678  4127\n",
       "466    276925  3775713328     0.0    80   461\n",
       "3092   277928  0937247065     7.0   476  2935\n",
       "3772   278159  0385318073     5.0   574  3549\n",
       "860    277087  8472230082     5.0   139   850\n",
       "\n",
       "[5000 rows x 5 columns]"
      ]
     },
     "execution_count": 44,
     "metadata": {},
     "output_type": "execute_result"
    }
   ],
   "source": [
    "rating_dataset = rating_dataset.sample(frac=1, random_state=42)\n",
    "rating_dataset"
   ]
  },
  {
   "cell_type": "markdown",
   "id": "235f25ed",
   "metadata": {
    "papermill": {
     "duration": 0.146782,
     "end_time": "2021-10-10T11:01:11.359275",
     "exception": false,
     "start_time": "2021-10-10T11:01:11.212493",
     "status": "completed"
    },
    "tags": []
   },
   "source": [
    "Pada cell code di bawah ini, saya membagi dataset yang ada menjadi 70% untuk latihan dan 30% untuk validasi"
   ]
  },
  {
   "cell_type": "code",
   "execution_count": 45,
   "id": "2da2d90b",
   "metadata": {
    "execution": {
     "iopub.execute_input": "2021-10-10T11:01:11.641187Z",
     "iopub.status.busy": "2021-10-10T11:01:11.640343Z",
     "iopub.status.idle": "2021-10-10T11:01:11.648500Z",
     "shell.execute_reply": "2021-10-10T11:01:11.649908Z",
     "shell.execute_reply.started": "2021-10-10T10:48:58.988967Z"
    },
    "papermill": {
     "duration": 0.154299,
     "end_time": "2021-10-10T11:01:11.650113",
     "exception": false,
     "start_time": "2021-10-10T11:01:11.495814",
     "status": "completed"
    },
    "tags": []
   },
   "outputs": [
    {
     "name": "stdout",
     "output_type": "stream",
     "text": [
      "[[ 255 1470]\n",
      " [ 335 2487]\n",
      " [ 335 2550]\n",
      " ...\n",
      " [ 476 2935]\n",
      " [ 574 3549]\n",
      " [ 139  850]] [1.  0.  0.  ... 0.7 0.5 0.5]\n"
     ]
    }
   ],
   "source": [
    "x = rating_dataset[['user', 'book']].values\n",
    " \n",
    "y = rating_dataset['rating'].apply(lambda x: (x - min_rating) / (max_rating - min_rating)).values\n",
    " \n",
    "train_indices = int(0.70 * rating_dataset.shape[0])\n",
    "x_train, x_val, y_train, y_val = (\n",
    "    x[:train_indices],\n",
    "    x[train_indices:],\n",
    "    y[:train_indices],\n",
    "    y[train_indices:]\n",
    ")\n",
    " \n",
    "print(x, y)"
   ]
  },
  {
   "cell_type": "markdown",
   "id": "a4dc4ba5",
   "metadata": {
    "papermill": {
     "duration": 0.079392,
     "end_time": "2021-10-10T11:01:11.864469",
     "exception": false,
     "start_time": "2021-10-10T11:01:11.785077",
     "status": "completed"
    },
    "tags": []
   },
   "source": [
    "## Model Development"
   ]
  },
  {
   "cell_type": "markdown",
   "id": "c505404a",
   "metadata": {
    "papermill": {
     "duration": 0.078053,
     "end_time": "2021-10-10T11:01:12.021641",
     "exception": false,
     "start_time": "2021-10-10T11:01:11.943588",
     "status": "completed"
    },
    "tags": []
   },
   "source": [
    "Model yang akan kita pakai dalam sistem rekomendasi berbasis pendapat pengguna adalah RecommenderNet"
   ]
  },
  {
   "cell_type": "code",
   "execution_count": 46,
   "id": "3a1358af",
   "metadata": {
    "execution": {
     "iopub.execute_input": "2021-10-10T11:01:12.195287Z",
     "iopub.status.busy": "2021-10-10T11:01:12.194646Z",
     "iopub.status.idle": "2021-10-10T11:01:16.069010Z",
     "shell.execute_reply": "2021-10-10T11:01:16.069437Z",
     "shell.execute_reply.started": "2021-10-10T10:48:59.001177Z"
    },
    "papermill": {
     "duration": 3.962833,
     "end_time": "2021-10-10T11:01:16.069641",
     "exception": false,
     "start_time": "2021-10-10T11:01:12.106808",
     "status": "completed"
    },
    "tags": []
   },
   "outputs": [
    {
     "name": "stderr",
     "output_type": "stream",
     "text": [
      "2021-10-10 11:01:12.670820: I tensorflow/stream_executor/platform/default/dso_loader.cc:49] Successfully opened dynamic library libcudart.so.11.0\n"
     ]
    }
   ],
   "source": [
    "from tensorflow import keras\n",
    "from tensorflow.keras import layers\n",
    "import tensorflow as tf"
   ]
  },
  {
   "cell_type": "code",
   "execution_count": 47,
   "id": "0cdf2e8c",
   "metadata": {
    "execution": {
     "iopub.execute_input": "2021-10-10T11:01:16.238640Z",
     "iopub.status.busy": "2021-10-10T11:01:16.237838Z",
     "iopub.status.idle": "2021-10-10T11:01:16.247113Z",
     "shell.execute_reply": "2021-10-10T11:01:16.246695Z",
     "shell.execute_reply.started": "2021-10-10T10:49:03.069872Z"
    },
    "papermill": {
     "duration": 0.094326,
     "end_time": "2021-10-10T11:01:16.247223",
     "exception": false,
     "start_time": "2021-10-10T11:01:16.152897",
     "status": "completed"
    },
    "tags": []
   },
   "outputs": [],
   "source": [
    "class RecommenderNet(tf.keras.Model):\n",
    " \n",
    "  def __init__(self, num_users, num_resto, embedding_size, **kwargs):\n",
    "    super(RecommenderNet, self).__init__(**kwargs)\n",
    "    self.num_users = num_users\n",
    "    self.num_resto = num_resto\n",
    "    self.embedding_size = embedding_size\n",
    "    self.user_embedding = layers.Embedding(\n",
    "        num_users,\n",
    "        embedding_size,\n",
    "        embeddings_initializer = 'he_normal',\n",
    "        embeddings_regularizer = keras.regularizers.l2(1e-6)\n",
    "    )\n",
    "    self.user_bias = layers.Embedding(num_users, 1)\n",
    "    self.resto_embedding = layers.Embedding( \n",
    "        num_resto,\n",
    "        embedding_size,\n",
    "        embeddings_initializer = 'he_normal',\n",
    "        embeddings_regularizer = keras.regularizers.l2(1e-6)\n",
    "    )\n",
    "    self.resto_bias = layers.Embedding(num_resto, 1) \n",
    " \n",
    "  def call(self, inputs):\n",
    "    user_vector = self.user_embedding(inputs[:,0])\n",
    "    user_bias = self.user_bias(inputs[:, 0])\n",
    "    resto_vector = self.resto_embedding(inputs[:, 1])\n",
    "    resto_bias = self.resto_bias(inputs[:, 1]) \n",
    " \n",
    "    dot_user_resto = tf.tensordot(user_vector, resto_vector, 2) \n",
    " \n",
    "    x = dot_user_resto + user_bias + resto_bias\n",
    "    \n",
    "    return tf.nn.sigmoid(x) "
   ]
  },
  {
   "cell_type": "markdown",
   "id": "d3cee244",
   "metadata": {
    "papermill": {
     "duration": 0.079462,
     "end_time": "2021-10-10T11:01:16.407754",
     "exception": false,
     "start_time": "2021-10-10T11:01:16.328292",
     "status": "completed"
    },
    "tags": []
   },
   "source": [
    "Selanjutnya kita melakukan proses compile pada model dengan binary crossentropy sebagai loss function, adam sebagai optimizer, dan RMSE sebagai metrik dari model"
   ]
  },
  {
   "cell_type": "code",
   "execution_count": 48,
   "id": "4d906cdd",
   "metadata": {
    "execution": {
     "iopub.execute_input": "2021-10-10T11:01:16.576895Z",
     "iopub.status.busy": "2021-10-10T11:01:16.576161Z",
     "iopub.status.idle": "2021-10-10T11:01:18.520717Z",
     "shell.execute_reply": "2021-10-10T11:01:18.520247Z",
     "shell.execute_reply.started": "2021-10-10T10:49:03.080946Z"
    },
    "papermill": {
     "duration": 2.032011,
     "end_time": "2021-10-10T11:01:18.520848",
     "exception": false,
     "start_time": "2021-10-10T11:01:16.488837",
     "status": "completed"
    },
    "tags": []
   },
   "outputs": [
    {
     "name": "stderr",
     "output_type": "stream",
     "text": [
      "2021-10-10 11:01:16.585676: I tensorflow/compiler/jit/xla_cpu_device.cc:41] Not creating XLA devices, tf_xla_enable_xla_devices not set\n",
      "2021-10-10 11:01:16.588921: I tensorflow/stream_executor/platform/default/dso_loader.cc:49] Successfully opened dynamic library libcuda.so.1\n",
      "2021-10-10 11:01:16.635047: I tensorflow/stream_executor/cuda/cuda_gpu_executor.cc:941] successful NUMA node read from SysFS had negative value (-1), but there must be at least one NUMA node, so returning NUMA node zero\n",
      "2021-10-10 11:01:16.635778: I tensorflow/core/common_runtime/gpu/gpu_device.cc:1720] Found device 0 with properties: \n",
      "pciBusID: 0000:00:04.0 name: Tesla P100-PCIE-16GB computeCapability: 6.0\n",
      "coreClock: 1.3285GHz coreCount: 56 deviceMemorySize: 15.90GiB deviceMemoryBandwidth: 681.88GiB/s\n",
      "2021-10-10 11:01:16.635842: I tensorflow/stream_executor/platform/default/dso_loader.cc:49] Successfully opened dynamic library libcudart.so.11.0\n",
      "2021-10-10 11:01:16.662529: I tensorflow/stream_executor/platform/default/dso_loader.cc:49] Successfully opened dynamic library libcublas.so.11\n",
      "2021-10-10 11:01:16.662639: I tensorflow/stream_executor/platform/default/dso_loader.cc:49] Successfully opened dynamic library libcublasLt.so.11\n",
      "2021-10-10 11:01:16.677152: I tensorflow/stream_executor/platform/default/dso_loader.cc:49] Successfully opened dynamic library libcufft.so.10\n",
      "2021-10-10 11:01:16.684577: I tensorflow/stream_executor/platform/default/dso_loader.cc:49] Successfully opened dynamic library libcurand.so.10\n",
      "2021-10-10 11:01:16.708842: I tensorflow/stream_executor/platform/default/dso_loader.cc:49] Successfully opened dynamic library libcusolver.so.10\n",
      "2021-10-10 11:01:16.717127: I tensorflow/stream_executor/platform/default/dso_loader.cc:49] Successfully opened dynamic library libcusparse.so.11\n",
      "2021-10-10 11:01:16.719406: I tensorflow/stream_executor/platform/default/dso_loader.cc:49] Successfully opened dynamic library libcudnn.so.8\n",
      "2021-10-10 11:01:16.719653: I tensorflow/stream_executor/cuda/cuda_gpu_executor.cc:941] successful NUMA node read from SysFS had negative value (-1), but there must be at least one NUMA node, so returning NUMA node zero\n",
      "2021-10-10 11:01:16.720417: I tensorflow/stream_executor/cuda/cuda_gpu_executor.cc:941] successful NUMA node read from SysFS had negative value (-1), but there must be at least one NUMA node, so returning NUMA node zero\n",
      "2021-10-10 11:01:16.722012: I tensorflow/core/common_runtime/gpu/gpu_device.cc:1862] Adding visible gpu devices: 0\n",
      "2021-10-10 11:01:16.723102: I tensorflow/core/platform/cpu_feature_guard.cc:142] This TensorFlow binary is optimized with oneAPI Deep Neural Network Library (oneDNN) to use the following CPU instructions in performance-critical operations:  AVX2 AVX512F FMA\n",
      "To enable them in other operations, rebuild TensorFlow with the appropriate compiler flags.\n",
      "2021-10-10 11:01:16.723318: I tensorflow/compiler/jit/xla_gpu_device.cc:99] Not creating XLA devices, tf_xla_enable_xla_devices not set\n",
      "2021-10-10 11:01:16.723498: I tensorflow/stream_executor/cuda/cuda_gpu_executor.cc:941] successful NUMA node read from SysFS had negative value (-1), but there must be at least one NUMA node, so returning NUMA node zero\n",
      "2021-10-10 11:01:16.724132: I tensorflow/core/common_runtime/gpu/gpu_device.cc:1720] Found device 0 with properties: \n",
      "pciBusID: 0000:00:04.0 name: Tesla P100-PCIE-16GB computeCapability: 6.0\n",
      "coreClock: 1.3285GHz coreCount: 56 deviceMemorySize: 15.90GiB deviceMemoryBandwidth: 681.88GiB/s\n",
      "2021-10-10 11:01:16.724189: I tensorflow/stream_executor/platform/default/dso_loader.cc:49] Successfully opened dynamic library libcudart.so.11.0\n",
      "2021-10-10 11:01:16.724214: I tensorflow/stream_executor/platform/default/dso_loader.cc:49] Successfully opened dynamic library libcublas.so.11\n",
      "2021-10-10 11:01:16.724232: I tensorflow/stream_executor/platform/default/dso_loader.cc:49] Successfully opened dynamic library libcublasLt.so.11\n",
      "2021-10-10 11:01:16.724250: I tensorflow/stream_executor/platform/default/dso_loader.cc:49] Successfully opened dynamic library libcufft.so.10\n",
      "2021-10-10 11:01:16.724267: I tensorflow/stream_executor/platform/default/dso_loader.cc:49] Successfully opened dynamic library libcurand.so.10\n",
      "2021-10-10 11:01:16.724284: I tensorflow/stream_executor/platform/default/dso_loader.cc:49] Successfully opened dynamic library libcusolver.so.10\n",
      "2021-10-10 11:01:16.724303: I tensorflow/stream_executor/platform/default/dso_loader.cc:49] Successfully opened dynamic library libcusparse.so.11\n",
      "2021-10-10 11:01:16.724320: I tensorflow/stream_executor/platform/default/dso_loader.cc:49] Successfully opened dynamic library libcudnn.so.8\n",
      "2021-10-10 11:01:16.724401: I tensorflow/stream_executor/cuda/cuda_gpu_executor.cc:941] successful NUMA node read from SysFS had negative value (-1), but there must be at least one NUMA node, so returning NUMA node zero\n",
      "2021-10-10 11:01:16.725023: I tensorflow/stream_executor/cuda/cuda_gpu_executor.cc:941] successful NUMA node read from SysFS had negative value (-1), but there must be at least one NUMA node, so returning NUMA node zero\n",
      "2021-10-10 11:01:16.725570: I tensorflow/core/common_runtime/gpu/gpu_device.cc:1862] Adding visible gpu devices: 0\n",
      "2021-10-10 11:01:16.726633: I tensorflow/stream_executor/platform/default/dso_loader.cc:49] Successfully opened dynamic library libcudart.so.11.0\n",
      "2021-10-10 11:01:18.191254: I tensorflow/core/common_runtime/gpu/gpu_device.cc:1261] Device interconnect StreamExecutor with strength 1 edge matrix:\n",
      "2021-10-10 11:01:18.191320: I tensorflow/core/common_runtime/gpu/gpu_device.cc:1267]      0 \n",
      "2021-10-10 11:01:18.191329: I tensorflow/core/common_runtime/gpu/gpu_device.cc:1280] 0:   N \n",
      "2021-10-10 11:01:18.193618: I tensorflow/stream_executor/cuda/cuda_gpu_executor.cc:941] successful NUMA node read from SysFS had negative value (-1), but there must be at least one NUMA node, so returning NUMA node zero\n",
      "2021-10-10 11:01:18.194328: I tensorflow/stream_executor/cuda/cuda_gpu_executor.cc:941] successful NUMA node read from SysFS had negative value (-1), but there must be at least one NUMA node, so returning NUMA node zero\n",
      "2021-10-10 11:01:18.195015: I tensorflow/stream_executor/cuda/cuda_gpu_executor.cc:941] successful NUMA node read from SysFS had negative value (-1), but there must be at least one NUMA node, so returning NUMA node zero\n",
      "2021-10-10 11:01:18.195592: I tensorflow/core/common_runtime/gpu/gpu_device.cc:1406] Created TensorFlow device (/job:localhost/replica:0/task:0/device:GPU:0 with 14957 MB memory) -> physical GPU (device: 0, name: Tesla P100-PCIE-16GB, pci bus id: 0000:00:04.0, compute capability: 6.0)\n"
     ]
    }
   ],
   "source": [
    "model = RecommenderNet(num_users, num_book, 50)\n",
    "\n",
    "model.compile(\n",
    "    loss = tf.keras.losses.BinaryCrossentropy(),\n",
    "    optimizer = keras.optimizers.Adam(learning_rate=0.001),\n",
    "    metrics=[tf.keras.metrics.RootMeanSquaredError()]\n",
    ")"
   ]
  },
  {
   "cell_type": "markdown",
   "id": "4cc8ff8f",
   "metadata": {
    "papermill": {
     "duration": 0.079786,
     "end_time": "2021-10-10T11:01:18.679648",
     "exception": false,
     "start_time": "2021-10-10T11:01:18.599862",
     "status": "completed"
    },
    "tags": []
   },
   "source": [
    "Selanjutnya kita akan melatih model dengan batch_size 5 dan 20 epochs"
   ]
  },
  {
   "cell_type": "code",
   "execution_count": 49,
   "id": "954b3ec9",
   "metadata": {
    "execution": {
     "iopub.execute_input": "2021-10-10T11:01:18.846475Z",
     "iopub.status.busy": "2021-10-10T11:01:18.845814Z",
     "iopub.status.idle": "2021-10-10T11:02:19.843064Z",
     "shell.execute_reply": "2021-10-10T11:02:19.843753Z",
     "shell.execute_reply.started": "2021-10-10T10:49:04.991116Z"
    },
    "papermill": {
     "duration": 61.082925,
     "end_time": "2021-10-10T11:02:19.843916",
     "exception": false,
     "start_time": "2021-10-10T11:01:18.760991",
     "status": "completed"
    },
    "tags": []
   },
   "outputs": [
    {
     "name": "stderr",
     "output_type": "stream",
     "text": [
      "2021-10-10 11:01:18.904706: I tensorflow/compiler/mlir/mlir_graph_optimization_pass.cc:116] None of the MLIR optimization passes are enabled (registered 2)\n",
      "2021-10-10 11:01:18.915595: I tensorflow/core/platform/profile_utils/cpu_utils.cc:112] CPU Frequency: 2000170000 Hz\n"
     ]
    },
    {
     "name": "stdout",
     "output_type": "stream",
     "text": [
      "Epoch 1/20\n"
     ]
    },
    {
     "name": "stderr",
     "output_type": "stream",
     "text": [
      "2021-10-10 11:01:19.859805: I tensorflow/stream_executor/platform/default/dso_loader.cc:49] Successfully opened dynamic library libcublas.so.11\n"
     ]
    },
    {
     "name": "stdout",
     "output_type": "stream",
     "text": [
      " 46/700 [>.............................] - ETA: 2s - loss: 0.6917 - root_mean_squared_error: 0.4360"
     ]
    },
    {
     "name": "stderr",
     "output_type": "stream",
     "text": [
      "2021-10-10 11:01:20.675813: I tensorflow/stream_executor/platform/default/dso_loader.cc:49] Successfully opened dynamic library libcublasLt.so.11\n"
     ]
    },
    {
     "name": "stdout",
     "output_type": "stream",
     "text": [
      "700/700 [==============================] - 5s 5ms/step - loss: 0.6787 - root_mean_squared_error: 0.4282 - val_loss: 0.6441 - val_root_mean_squared_error: 0.4115\n",
      "Epoch 2/20\n",
      "700/700 [==============================] - 3s 4ms/step - loss: 0.5919 - root_mean_squared_error: 0.3782 - val_loss: 0.6157 - val_root_mean_squared_error: 0.3947\n",
      "Epoch 3/20\n",
      "700/700 [==============================] - 3s 4ms/step - loss: 0.5341 - root_mean_squared_error: 0.3442 - val_loss: 0.6004 - val_root_mean_squared_error: 0.3860\n",
      "Epoch 4/20\n",
      "700/700 [==============================] - 3s 4ms/step - loss: 0.5061 - root_mean_squared_error: 0.3294 - val_loss: 0.5864 - val_root_mean_squared_error: 0.3784\n",
      "Epoch 5/20\n",
      "700/700 [==============================] - 3s 4ms/step - loss: 0.4936 - root_mean_squared_error: 0.3194 - val_loss: 0.5744 - val_root_mean_squared_error: 0.3722\n",
      "Epoch 6/20\n",
      "700/700 [==============================] - 3s 4ms/step - loss: 0.4698 - root_mean_squared_error: 0.3067 - val_loss: 0.5644 - val_root_mean_squared_error: 0.3673\n",
      "Epoch 7/20\n",
      "700/700 [==============================] - 3s 4ms/step - loss: 0.4518 - root_mean_squared_error: 0.2928 - val_loss: 0.5567 - val_root_mean_squared_error: 0.3637\n",
      "Epoch 8/20\n",
      "700/700 [==============================] - 3s 4ms/step - loss: 0.4397 - root_mean_squared_error: 0.2850 - val_loss: 0.5500 - val_root_mean_squared_error: 0.3605\n",
      "Epoch 9/20\n",
      "700/700 [==============================] - 3s 4ms/step - loss: 0.4243 - root_mean_squared_error: 0.2764 - val_loss: 0.5453 - val_root_mean_squared_error: 0.3584\n",
      "Epoch 10/20\n",
      "700/700 [==============================] - 3s 4ms/step - loss: 0.4063 - root_mean_squared_error: 0.2676 - val_loss: 0.5411 - val_root_mean_squared_error: 0.3565\n",
      "Epoch 11/20\n",
      "700/700 [==============================] - 3s 5ms/step - loss: 0.4098 - root_mean_squared_error: 0.2669 - val_loss: 0.5382 - val_root_mean_squared_error: 0.3552\n",
      "Epoch 12/20\n",
      "700/700 [==============================] - 3s 4ms/step - loss: 0.4006 - root_mean_squared_error: 0.2564 - val_loss: 0.5353 - val_root_mean_squared_error: 0.3539\n",
      "Epoch 13/20\n",
      "700/700 [==============================] - 3s 4ms/step - loss: 0.3984 - root_mean_squared_error: 0.2574 - val_loss: 0.5331 - val_root_mean_squared_error: 0.3529\n",
      "Epoch 14/20\n",
      "700/700 [==============================] - 3s 4ms/step - loss: 0.3778 - root_mean_squared_error: 0.2424 - val_loss: 0.5309 - val_root_mean_squared_error: 0.3519\n",
      "Epoch 15/20\n",
      "700/700 [==============================] - 3s 4ms/step - loss: 0.3808 - root_mean_squared_error: 0.2488 - val_loss: 0.5297 - val_root_mean_squared_error: 0.3514\n",
      "Epoch 16/20\n",
      "700/700 [==============================] - 3s 4ms/step - loss: 0.3860 - root_mean_squared_error: 0.2473 - val_loss: 0.5281 - val_root_mean_squared_error: 0.3506\n",
      "Epoch 17/20\n",
      "700/700 [==============================] - 3s 4ms/step - loss: 0.3577 - root_mean_squared_error: 0.2341 - val_loss: 0.5271 - val_root_mean_squared_error: 0.3503\n",
      "Epoch 18/20\n",
      "700/700 [==============================] - 3s 4ms/step - loss: 0.3661 - root_mean_squared_error: 0.2344 - val_loss: 0.5261 - val_root_mean_squared_error: 0.3499\n",
      "Epoch 19/20\n",
      "700/700 [==============================] - 3s 4ms/step - loss: 0.3689 - root_mean_squared_error: 0.2329 - val_loss: 0.5253 - val_root_mean_squared_error: 0.3496\n",
      "Epoch 20/20\n",
      "700/700 [==============================] - 3s 4ms/step - loss: 0.3598 - root_mean_squared_error: 0.2288 - val_loss: 0.5244 - val_root_mean_squared_error: 0.3491\n"
     ]
    }
   ],
   "source": [
    "history = model.fit(\n",
    "    x = x_train,\n",
    "    y = y_train,\n",
    "    batch_size = 5,\n",
    "    epochs = 20,\n",
    "    validation_data = (x_val, y_val)\n",
    ")"
   ]
  },
  {
   "cell_type": "markdown",
   "id": "6d906ed8",
   "metadata": {
    "papermill": {
     "duration": 0.32546,
     "end_time": "2021-10-10T11:02:20.510482",
     "exception": false,
     "start_time": "2021-10-10T11:02:20.185022",
     "status": "completed"
    },
    "tags": []
   },
   "source": [
    "## Visualisasi Metrik"
   ]
  },
  {
   "cell_type": "markdown",
   "id": "259369cb",
   "metadata": {
    "papermill": {
     "duration": 0.334869,
     "end_time": "2021-10-10T11:02:21.173433",
     "exception": false,
     "start_time": "2021-10-10T11:02:20.838564",
     "status": "completed"
    },
    "tags": []
   },
   "source": [
    "Berikut adalah hasil latihan dari data yang ada, evaluasi metrik yang digunakan adalah RMSE"
   ]
  },
  {
   "cell_type": "code",
   "execution_count": 50,
   "id": "004f4802",
   "metadata": {
    "execution": {
     "iopub.execute_input": "2021-10-10T11:02:21.879613Z",
     "iopub.status.busy": "2021-10-10T11:02:21.878627Z",
     "iopub.status.idle": "2021-10-10T11:02:22.091006Z",
     "shell.execute_reply": "2021-10-10T11:02:22.090519Z",
     "shell.execute_reply.started": "2021-10-10T10:50:03.923259Z"
    },
    "papermill": {
     "duration": 0.592545,
     "end_time": "2021-10-10T11:02:22.091144",
     "exception": false,
     "start_time": "2021-10-10T11:02:21.498599",
     "status": "completed"
    },
    "tags": []
   },
   "outputs": [
    {
     "data": {
      "image/png": "[encoded data removed]",
      "text/plain": [
       "<Figure size 432x288 with 1 Axes>"
      ]
     },
     "metadata": {
      "needs_background": "light"
     },
     "output_type": "display_data"
    }
   ],
   "source": [
    "plt.plot(history.history['root_mean_squared_error'])\n",
    "plt.plot(history.history['val_root_mean_squared_error'])\n",
    "plt.title('model_metrics')\n",
    "plt.ylabel('root_mean_squared_error')\n",
    "plt.xlabel('epoch')\n",
    "plt.legend(['train', 'test'], loc='upper left')\n",
    "plt.show()"
   ]
  },
  {
   "cell_type": "markdown",
   "id": "d7bc3235",
   "metadata": {
    "papermill": {
     "duration": 0.341362,
     "end_time": "2021-10-10T11:02:22.770192",
     "exception": false,
     "start_time": "2021-10-10T11:02:22.428830",
     "status": "completed"
    },
    "tags": []
   },
   "source": [
    "## Mendapatkan Rekomendasi"
   ]
  },
  {
   "cell_type": "markdown",
   "id": "29280228",
   "metadata": {
    "papermill": {
     "duration": 0.326511,
     "end_time": "2021-10-10T11:02:23.430303",
     "exception": false,
     "start_time": "2021-10-10T11:02:23.103792",
     "status": "completed"
    },
    "tags": []
   },
   "source": [
    "Sebelumnya, kita perlu mendefinisikan ulang book_datase dan rating_dataset"
   ]
  },
  {
   "cell_type": "code",
   "execution_count": 51,
   "id": "61b2c29d",
   "metadata": {
    "execution": {
     "iopub.execute_input": "2021-10-10T11:02:24.276370Z",
     "iopub.status.busy": "2021-10-10T11:02:24.275622Z",
     "iopub.status.idle": "2021-10-10T11:02:24.277794Z",
     "shell.execute_reply": "2021-10-10T11:02:24.277075Z",
     "shell.execute_reply.started": "2021-10-10T10:50:04.145089Z"
    },
    "papermill": {
     "duration": 0.519241,
     "end_time": "2021-10-10T11:02:24.277952",
     "exception": false,
     "start_time": "2021-10-10T11:02:23.758711",
     "status": "completed"
    },
    "tags": []
   },
   "outputs": [],
   "source": [
    "book_dataset =  book\n",
    "rating_dataset = rating_dataset"
   ]
  },
  {
   "cell_type": "markdown",
   "id": "54dde6f1",
   "metadata": {
    "papermill": {
     "duration": 0.385418,
     "end_time": "2021-10-10T11:02:25.249281",
     "exception": false,
     "start_time": "2021-10-10T11:02:24.863863",
     "status": "completed"
    },
    "tags": []
   },
   "source": [
    "Pada cell code di bawah ini, kita akan mengambil user_id secara acak dari rating_dataset. Dari user_id ini kita perlu mengetahui buku - buku apa saja yang pernah dibaca dan yang belum pernah dibaca, sehingga kita hanya dapat merekomendasikan buku - buku yang belum dibaca."
   ]
  },
  {
   "cell_type": "code",
   "execution_count": 52,
   "id": "4f6d4210",
   "metadata": {
    "execution": {
     "iopub.execute_input": "2021-10-10T11:02:25.943281Z",
     "iopub.status.busy": "2021-10-10T11:02:25.941691Z",
     "iopub.status.idle": "2021-10-10T11:02:25.943895Z",
     "shell.execute_reply": "2021-10-10T11:02:25.944283Z",
     "shell.execute_reply.started": "2021-10-10T10:50:04.151002Z"
    },
    "papermill": {
     "duration": 0.358178,
     "end_time": "2021-10-10T11:02:25.944416",
     "exception": false,
     "start_time": "2021-10-10T11:02:25.586238",
     "status": "completed"
    },
    "tags": []
   },
   "outputs": [],
   "source": [
    "user_id = rating_dataset.user_id.sample(1).iloc[0]\n",
    "books_have_been_read_by_user = rating_dataset[rating_dataset.user_id == user_id]\n",
    " \n",
    "books_have_not_been_read_by_user = book_dataset[book_dataset['book_ISBN'].isin(books_have_been_read_by_user.ISBN.values)]['book_ISBN'] \n",
    "books_have_not_been_read_by_user = list(\n",
    "    set(books_have_not_been_read_by_user)\n",
    "    .intersection(set(book_to_book_encoded.keys()))\n",
    ")\n",
    " \n",
    "books_have_not_been_read_by_user = [[book_to_book_encoded.get(x)] for x in books_have_not_been_read_by_user]\n",
    "user_encoder = user_to_user_encoded.get(user_id)\n",
    "user_book_array = np.hstack(\n",
    "    ([[user_encoder]] * len(books_have_not_been_read_by_user), books_have_not_been_read_by_user)\n",
    ")"
   ]
  },
  {
   "cell_type": "markdown",
   "id": "803bdcb1",
   "metadata": {
    "papermill": {
     "duration": 0.321943,
     "end_time": "2021-10-10T11:02:26.591778",
     "exception": false,
     "start_time": "2021-10-10T11:02:26.269835",
     "status": "completed"
    },
    "tags": []
   },
   "source": [
    "Pada code cell terakhir di bawah ini, kita akan merekomendasikan 10 buku dari user"
   ]
  },
  {
   "cell_type": "code",
   "execution_count": 53,
   "id": "6ae90f27",
   "metadata": {
    "execution": {
     "iopub.execute_input": "2021-10-10T11:02:27.269012Z",
     "iopub.status.busy": "2021-10-10T11:02:27.268407Z",
     "iopub.status.idle": "2021-10-10T11:02:27.420314Z",
     "shell.execute_reply": "2021-10-10T11:02:27.419836Z",
     "shell.execute_reply.started": "2021-10-10T10:50:04.169806Z"
    },
    "papermill": {
     "duration": 0.502866,
     "end_time": "2021-10-10T11:02:27.420437",
     "exception": false,
     "start_time": "2021-10-10T11:02:26.917571",
     "status": "completed"
    },
    "tags": []
   },
   "outputs": [
    {
     "name": "stdout",
     "output_type": "stream",
     "text": [
      "--------------------------------\n",
      "Top 10 Book Recommendation for user: 278221\n",
      "--------------------------------\n",
      "The Joy Luck Club : Amy Tan\n",
      "The Survivors Club : LISA GARDNER\n",
      "All Through the Night (Holiday Classics) : Mary Higgins Clark\n",
      "Whispers : BELVA PLAIN\n",
      "The Guardian : Nicholas Sparks\n",
      "Heaven and Earth (Three Sisters Island Trilogy) : Nora Roberts\n",
      "The Birth Book : Everything You Need to Know to Have a Safe and Satisfying Birth (Sears Parenting Library) : Martha Sears\n",
      "No Way Back : Rick Mofina\n",
      "Tom Clancy's Op-Center (Tom Clancy's Op Center (Paperback)) : Tom Clancy\n",
      "Daddy's Little Girl : Mary Higgins Clark\n"
     ]
    }
   ],
   "source": [
    "ratings = model.predict(user_book_array).flatten()\n",
    " \n",
    "top_ratings_indices = ratings.argsort()[-10:][::-1]\n",
    "recommended_book_ids = [\n",
    "    book_encoded_to_book.get(books_have_not_been_read_by_user[x][0]) for x in top_ratings_indices\n",
    "]\n",
    " \n",
    "top_books_recommended = (\n",
    "    books_have_been_read_by_user.sort_values(\n",
    "        by = 'rating',\n",
    "        ascending=False\n",
    "    )\n",
    "    .head(5)\n",
    "    .ISBN.values\n",
    ")\n",
    " \n",
    "books_row = book_dataset[book_dataset['book_ISBN'].isin(top_books_recommended)]\n",
    "for row in books_row.itertuples():\n",
    "    print(row.book_title, ':', row.book_author)\n",
    " \n",
    "print('----' * 8)\n",
    "print('Top 10 Book Recommendation for user: {}'.format(user_id))\n",
    "print('----' * 8)\n",
    " \n",
    "recommended_books = book_dataset[book_dataset['book_ISBN'].isin(recommended_book_ids)]\n",
    "for row in recommended_books.itertuples():\n",
    "    print(row.book_title, ':', row.book_author)"
   ]
  },
  {
   "cell_type": "markdown",
   "id": "019cb330",
   "metadata": {
    "papermill": {
     "duration": 0.334663,
     "end_time": "2021-10-10T11:02:28.087452",
     "exception": false,
     "start_time": "2021-10-10T11:02:27.752789",
     "status": "completed"
    },
    "tags": []
   },
   "source": [
    "Berikut adalah sistem rekomendasi dari content dan collaborative based system. Keduanya unik dan memiliki kelebihan dan kekurangannya masing - masing."
   ]
  }
 ],
 "metadata": {
  "kernelspec": {
   "display_name": "Python 3",
   "language": "python",
   "name": "python3"
  },
  "language_info": {
   "codemirror_mode": {
    "name": "ipython",
    "version": 3
   },
   "file_extension": ".py",
   "mimetype": "text/x-python",
   "name": "python",
   "nbconvert_exporter": "python",
   "pygments_lexer": "ipython3",
   "version": "3.7.10"
  },
  "papermill": {
   "default_parameters": {},
   "duration": 112.908526,
   "end_time": "2021-10-10T11:02:32.157103",
   "environment_variables": {},
   "exception": null,
   "input_path": "__notebook__.ipynb",
   "output_path": "__notebook__.ipynb",
   "parameters": {},
   "start_time": "2021-10-10T11:00:39.248577",
   "version": "2.3.3"
  }
 },
 "nbformat": 4,
 "nbformat_minor": 5
}
