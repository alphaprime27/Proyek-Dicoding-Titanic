{
 "cells": [
  {
   "cell_type": "markdown",
   "id": "2dd475e4",
   "metadata": {
    "_cell_guid": "b1076dfc-b9ad-4769-8c92-a6c4dae69d19",
    "_uuid": "8f2839f25d086af736a60e9eeb907d3b93b6e0e5",
    "execution": {
     "iopub.execute_input": "2021-09-27T02:47:13.470865Z",
     "iopub.status.busy": "2021-09-27T02:47:13.470607Z",
     "iopub.status.idle": "2021-09-27T02:47:13.486617Z",
     "shell.execute_reply": "2021-09-27T02:47:13.485769Z",
     "shell.execute_reply.started": "2021-09-27T02:47:13.470839Z"
    },
    "papermill": {
     "duration": 0.035762,
     "end_time": "2021-10-05T16:18:59.790381",
     "exception": false,
     "start_time": "2021-10-05T16:18:59.754619",
     "status": "completed"
    },
    "tags": []
   },
   "source": [
    "# Titanic Machine Learning"
   ]
  },
  {
   "cell_type": "markdown",
   "id": "5a4fda7d",
   "metadata": {
    "papermill": {
     "duration": 0.03362,
     "end_time": "2021-10-05T16:18:59.858169",
     "exception": false,
     "start_time": "2021-10-05T16:18:59.824549",
     "status": "completed"
    },
    "tags": []
   },
   "source": [
    "<img src= \"https://www.historic-uk.com/wp-content/uploads/2017/04/the-sinking-of-the-rms-titanic.jpg\" alt =\"Titanic\" style='width: 600px;'>"
   ]
  },
  {
   "cell_type": "markdown",
   "id": "6f03d68f",
   "metadata": {
    "papermill": {
     "duration": 0.034153,
     "end_time": "2021-10-05T16:18:59.926652",
     "exception": false,
     "start_time": "2021-10-05T16:18:59.892499",
     "status": "completed"
    },
    "tags": []
   },
   "source": [
    "___\n",
    "## Importing Libraries and Dataset"
   ]
  },
  {
   "cell_type": "markdown",
   "id": "62eb5725",
   "metadata": {
    "papermill": {
     "duration": 0.033554,
     "end_time": "2021-10-05T16:18:59.993956",
     "exception": false,
     "start_time": "2021-10-05T16:18:59.960402",
     "status": "completed"
    },
    "tags": []
   },
   "source": [
    "Pada cell code di bawah ini, saya mengimpor berbagai libraries."
   ]
  },
  {
   "cell_type": "code",
   "execution_count": 1,
   "id": "506bdf32",
   "metadata": {
    "execution": {
     "iopub.execute_input": "2021-10-05T16:19:00.067286Z",
     "iopub.status.busy": "2021-10-05T16:19:00.065677Z",
     "iopub.status.idle": "2021-10-05T16:19:01.177713Z",
     "shell.execute_reply": "2021-10-05T16:19:01.178487Z",
     "shell.execute_reply.started": "2021-10-05T16:15:13.876170Z"
    },
    "papermill": {
     "duration": 1.151463,
     "end_time": "2021-10-05T16:19:01.178820",
     "exception": false,
     "start_time": "2021-10-05T16:19:00.027357",
     "status": "completed"
    },
    "tags": []
   },
   "outputs": [
    {
     "name": "stdout",
     "output_type": "stream",
     "text": [
      "/kaggle/input/titanic/train.csv\n",
      "/kaggle/input/titanic/test.csv\n",
      "/kaggle/input/titanic/gender_submission.csv\n"
     ]
    }
   ],
   "source": [
    "import numpy as np\n",
    "import matplotlib.pyplot as plt\n",
    "import pandas as pd\n",
    "%matplotlib inline\n",
    "import seaborn as sns\n",
    "from sklearn.ensemble import RandomForestRegressor\n",
    "from sklearn.metrics import mean_absolute_error\n",
    "from sklearn.model_selection import train_test_split\n",
    "from sklearn.compose import ColumnTransformer\n",
    "from sklearn.pipeline import Pipeline\n",
    "from sklearn.impute import SimpleImputer\n",
    "from sklearn.preprocessing import OneHotEncoder\n",
    "from sklearn.impute import SimpleImputer\n",
    "from sklearn.preprocessing import OrdinalEncoder\n",
    "from sklearn.metrics import mean_squared_error\n",
    "\n",
    "import os\n",
    "for dirname, _, filenames in os.walk('/kaggle/input'):\n",
    "    for filename in filenames:\n",
    "        print(os.path.join(dirname, filename))"
   ]
  },
  {
   "cell_type": "markdown",
   "id": "50e01da2",
   "metadata": {
    "papermill": {
     "duration": 0.039512,
     "end_time": "2021-10-05T16:19:01.276765",
     "exception": false,
     "start_time": "2021-10-05T16:19:01.237253",
     "status": "completed"
    },
    "tags": []
   },
   "source": [
    "Pada cell code di bawah ini, saya mengimpor dataset."
   ]
  },
  {
   "cell_type": "code",
   "execution_count": 2,
   "id": "c24ad385",
   "metadata": {
    "execution": {
     "iopub.execute_input": "2021-10-05T16:19:01.349386Z",
     "iopub.status.busy": "2021-10-05T16:19:01.348772Z",
     "iopub.status.idle": "2021-10-05T16:19:01.394913Z",
     "shell.execute_reply": "2021-10-05T16:19:01.395713Z",
     "shell.execute_reply.started": "2021-10-05T16:15:13.912833Z"
    },
    "papermill": {
     "duration": 0.085044,
     "end_time": "2021-10-05T16:19:01.395885",
     "exception": false,
     "start_time": "2021-10-05T16:19:01.310841",
     "status": "completed"
    },
    "tags": []
   },
   "outputs": [
    {
     "data": {
      "text/html": [
       "<div>\n",
       "<style scoped>\n",
       "    .dataframe tbody tr th:only-of-type {\n",
       "        vertical-align: middle;\n",
       "    }\n",
       "\n",
       "    .dataframe tbody tr th {\n",
       "        vertical-align: top;\n",
       "    }\n",
       "\n",
       "    .dataframe thead th {\n",
       "        text-align: right;\n",
       "    }\n",
       "</style>\n",
       "<table border=\"1\" class=\"dataframe\">\n",
       "  <thead>\n",
       "    <tr style=\"text-align: right;\">\n",
       "      <th></th>\n",
       "      <th>PassengerId</th>\n",
       "      <th>Survived</th>\n",
       "      <th>Pclass</th>\n",
       "      <th>Name</th>\n",
       "      <th>Sex</th>\n",
       "      <th>Age</th>\n",
       "      <th>SibSp</th>\n",
       "      <th>Parch</th>\n",
       "      <th>Ticket</th>\n",
       "      <th>Fare</th>\n",
       "      <th>Cabin</th>\n",
       "      <th>Embarked</th>\n",
       "    </tr>\n",
       "  </thead>\n",
       "  <tbody>\n",
       "    <tr>\n",
       "      <th>0</th>\n",
       "      <td>1</td>\n",
       "      <td>0</td>\n",
       "      <td>3</td>\n",
       "      <td>Braund, Mr. Owen Harris</td>\n",
       "      <td>male</td>\n",
       "      <td>22.0</td>\n",
       "      <td>1</td>\n",
       "      <td>0</td>\n",
       "      <td>A/5 21171</td>\n",
       "      <td>7.2500</td>\n",
       "      <td>NaN</td>\n",
       "      <td>S</td>\n",
       "    </tr>\n",
       "    <tr>\n",
       "      <th>1</th>\n",
       "      <td>2</td>\n",
       "      <td>1</td>\n",
       "      <td>1</td>\n",
       "      <td>Cumings, Mrs. John Bradley (Florence Briggs Th...</td>\n",
       "      <td>female</td>\n",
       "      <td>38.0</td>\n",
       "      <td>1</td>\n",
       "      <td>0</td>\n",
       "      <td>PC 17599</td>\n",
       "      <td>71.2833</td>\n",
       "      <td>C85</td>\n",
       "      <td>C</td>\n",
       "    </tr>\n",
       "    <tr>\n",
       "      <th>2</th>\n",
       "      <td>3</td>\n",
       "      <td>1</td>\n",
       "      <td>3</td>\n",
       "      <td>Heikkinen, Miss. Laina</td>\n",
       "      <td>female</td>\n",
       "      <td>26.0</td>\n",
       "      <td>0</td>\n",
       "      <td>0</td>\n",
       "      <td>STON/O2. 3101282</td>\n",
       "      <td>7.9250</td>\n",
       "      <td>NaN</td>\n",
       "      <td>S</td>\n",
       "    </tr>\n",
       "    <tr>\n",
       "      <th>3</th>\n",
       "      <td>4</td>\n",
       "      <td>1</td>\n",
       "      <td>1</td>\n",
       "      <td>Futrelle, Mrs. Jacques Heath (Lily May Peel)</td>\n",
       "      <td>female</td>\n",
       "      <td>35.0</td>\n",
       "      <td>1</td>\n",
       "      <td>0</td>\n",
       "      <td>113803</td>\n",
       "      <td>53.1000</td>\n",
       "      <td>C123</td>\n",
       "      <td>S</td>\n",
       "    </tr>\n",
       "    <tr>\n",
       "      <th>4</th>\n",
       "      <td>5</td>\n",
       "      <td>0</td>\n",
       "      <td>3</td>\n",
       "      <td>Allen, Mr. William Henry</td>\n",
       "      <td>male</td>\n",
       "      <td>35.0</td>\n",
       "      <td>0</td>\n",
       "      <td>0</td>\n",
       "      <td>373450</td>\n",
       "      <td>8.0500</td>\n",
       "      <td>NaN</td>\n",
       "      <td>S</td>\n",
       "    </tr>\n",
       "  </tbody>\n",
       "</table>\n",
       "</div>"
      ],
      "text/plain": [
       "   PassengerId  Survived  Pclass  \\\n",
       "0            1         0       3   \n",
       "1            2         1       1   \n",
       "2            3         1       3   \n",
       "3            4         1       1   \n",
       "4            5         0       3   \n",
       "\n",
       "                                                Name     Sex   Age  SibSp  \\\n",
       "0                            Braund, Mr. Owen Harris    male  22.0      1   \n",
       "1  Cumings, Mrs. John Bradley (Florence Briggs Th...  female  38.0      1   \n",
       "2                             Heikkinen, Miss. Laina  female  26.0      0   \n",
       "3       Futrelle, Mrs. Jacques Heath (Lily May Peel)  female  35.0      1   \n",
       "4                           Allen, Mr. William Henry    male  35.0      0   \n",
       "\n",
       "   Parch            Ticket     Fare Cabin Embarked  \n",
       "0      0         A/5 21171   7.2500   NaN        S  \n",
       "1      0          PC 17599  71.2833   C85        C  \n",
       "2      0  STON/O2. 3101282   7.9250   NaN        S  \n",
       "3      0            113803  53.1000  C123        S  \n",
       "4      0            373450   8.0500   NaN        S  "
      ]
     },
     "execution_count": 2,
     "metadata": {},
     "output_type": "execute_result"
    }
   ],
   "source": [
    "data_train = pd.read_csv(\"/kaggle/input/titanic/train.csv\")\n",
    "data_test = pd.read_csv(\"/kaggle/input/titanic/test.csv\")\n",
    "data_train.head()"
   ]
  },
  {
   "cell_type": "markdown",
   "id": "61d67105",
   "metadata": {
    "papermill": {
     "duration": 0.03353,
     "end_time": "2021-10-05T16:19:01.464943",
     "exception": false,
     "start_time": "2021-10-05T16:19:01.431413",
     "status": "completed"
    },
    "tags": []
   },
   "source": [
    "Pada cell code di bawah ini, saya melihat rangkuman dari dataset."
   ]
  },
  {
   "cell_type": "code",
   "execution_count": 3,
   "id": "7b3e2192",
   "metadata": {
    "execution": {
     "iopub.execute_input": "2021-10-05T16:19:01.544478Z",
     "iopub.status.busy": "2021-10-05T16:19:01.543680Z",
     "iopub.status.idle": "2021-10-05T16:19:01.569765Z",
     "shell.execute_reply": "2021-10-05T16:19:01.570236Z",
     "shell.execute_reply.started": "2021-10-05T16:15:13.947863Z"
    },
    "papermill": {
     "duration": 0.071959,
     "end_time": "2021-10-05T16:19:01.570376",
     "exception": false,
     "start_time": "2021-10-05T16:19:01.498417",
     "status": "completed"
    },
    "tags": []
   },
   "outputs": [
    {
     "data": {
      "text/html": [
       "<div>\n",
       "<style scoped>\n",
       "    .dataframe tbody tr th:only-of-type {\n",
       "        vertical-align: middle;\n",
       "    }\n",
       "\n",
       "    .dataframe tbody tr th {\n",
       "        vertical-align: top;\n",
       "    }\n",
       "\n",
       "    .dataframe thead th {\n",
       "        text-align: right;\n",
       "    }\n",
       "</style>\n",
       "<table border=\"1\" class=\"dataframe\">\n",
       "  <thead>\n",
       "    <tr style=\"text-align: right;\">\n",
       "      <th></th>\n",
       "      <th>PassengerId</th>\n",
       "      <th>Survived</th>\n",
       "      <th>Pclass</th>\n",
       "      <th>Age</th>\n",
       "      <th>SibSp</th>\n",
       "      <th>Parch</th>\n",
       "      <th>Fare</th>\n",
       "    </tr>\n",
       "  </thead>\n",
       "  <tbody>\n",
       "    <tr>\n",
       "      <th>count</th>\n",
       "      <td>891.000000</td>\n",
       "      <td>891.000000</td>\n",
       "      <td>891.000000</td>\n",
       "      <td>714.000000</td>\n",
       "      <td>891.000000</td>\n",
       "      <td>891.000000</td>\n",
       "      <td>891.000000</td>\n",
       "    </tr>\n",
       "    <tr>\n",
       "      <th>mean</th>\n",
       "      <td>446.000000</td>\n",
       "      <td>0.383838</td>\n",
       "      <td>2.308642</td>\n",
       "      <td>29.699118</td>\n",
       "      <td>0.523008</td>\n",
       "      <td>0.381594</td>\n",
       "      <td>32.204208</td>\n",
       "    </tr>\n",
       "    <tr>\n",
       "      <th>std</th>\n",
       "      <td>257.353842</td>\n",
       "      <td>0.486592</td>\n",
       "      <td>0.836071</td>\n",
       "      <td>14.526497</td>\n",
       "      <td>1.102743</td>\n",
       "      <td>0.806057</td>\n",
       "      <td>49.693429</td>\n",
       "    </tr>\n",
       "    <tr>\n",
       "      <th>min</th>\n",
       "      <td>1.000000</td>\n",
       "      <td>0.000000</td>\n",
       "      <td>1.000000</td>\n",
       "      <td>0.420000</td>\n",
       "      <td>0.000000</td>\n",
       "      <td>0.000000</td>\n",
       "      <td>0.000000</td>\n",
       "    </tr>\n",
       "    <tr>\n",
       "      <th>25%</th>\n",
       "      <td>223.500000</td>\n",
       "      <td>0.000000</td>\n",
       "      <td>2.000000</td>\n",
       "      <td>20.125000</td>\n",
       "      <td>0.000000</td>\n",
       "      <td>0.000000</td>\n",
       "      <td>7.910400</td>\n",
       "    </tr>\n",
       "    <tr>\n",
       "      <th>50%</th>\n",
       "      <td>446.000000</td>\n",
       "      <td>0.000000</td>\n",
       "      <td>3.000000</td>\n",
       "      <td>28.000000</td>\n",
       "      <td>0.000000</td>\n",
       "      <td>0.000000</td>\n",
       "      <td>14.454200</td>\n",
       "    </tr>\n",
       "    <tr>\n",
       "      <th>75%</th>\n",
       "      <td>668.500000</td>\n",
       "      <td>1.000000</td>\n",
       "      <td>3.000000</td>\n",
       "      <td>38.000000</td>\n",
       "      <td>1.000000</td>\n",
       "      <td>0.000000</td>\n",
       "      <td>31.000000</td>\n",
       "    </tr>\n",
       "    <tr>\n",
       "      <th>max</th>\n",
       "      <td>891.000000</td>\n",
       "      <td>1.000000</td>\n",
       "      <td>3.000000</td>\n",
       "      <td>80.000000</td>\n",
       "      <td>8.000000</td>\n",
       "      <td>6.000000</td>\n",
       "      <td>512.329200</td>\n",
       "    </tr>\n",
       "  </tbody>\n",
       "</table>\n",
       "</div>"
      ],
      "text/plain": [
       "       PassengerId    Survived      Pclass         Age       SibSp  \\\n",
       "count   891.000000  891.000000  891.000000  714.000000  891.000000   \n",
       "mean    446.000000    0.383838    2.308642   29.699118    0.523008   \n",
       "std     257.353842    0.486592    0.836071   14.526497    1.102743   \n",
       "min       1.000000    0.000000    1.000000    0.420000    0.000000   \n",
       "25%     223.500000    0.000000    2.000000   20.125000    0.000000   \n",
       "50%     446.000000    0.000000    3.000000   28.000000    0.000000   \n",
       "75%     668.500000    1.000000    3.000000   38.000000    1.000000   \n",
       "max     891.000000    1.000000    3.000000   80.000000    8.000000   \n",
       "\n",
       "            Parch        Fare  \n",
       "count  891.000000  891.000000  \n",
       "mean     0.381594   32.204208  \n",
       "std      0.806057   49.693429  \n",
       "min      0.000000    0.000000  \n",
       "25%      0.000000    7.910400  \n",
       "50%      0.000000   14.454200  \n",
       "75%      0.000000   31.000000  \n",
       "max      6.000000  512.329200  "
      ]
     },
     "execution_count": 3,
     "metadata": {},
     "output_type": "execute_result"
    }
   ],
   "source": [
    "data_train.describe()"
   ]
  },
  {
   "cell_type": "markdown",
   "id": "0696e169",
   "metadata": {
    "papermill": {
     "duration": 0.033858,
     "end_time": "2021-10-05T16:19:01.640084",
     "exception": false,
     "start_time": "2021-10-05T16:19:01.606226",
     "status": "completed"
    },
    "tags": []
   },
   "source": [
    "Pada cell code di bawah ini, saya melakukan cek pada NaN values di dalam dataset"
   ]
  },
  {
   "cell_type": "code",
   "execution_count": 4,
   "id": "0aae8170",
   "metadata": {
    "execution": {
     "iopub.execute_input": "2021-10-05T16:19:01.727992Z",
     "iopub.status.busy": "2021-10-05T16:19:01.714739Z",
     "iopub.status.idle": "2021-10-05T16:19:01.944029Z",
     "shell.execute_reply": "2021-10-05T16:19:01.944709Z",
     "shell.execute_reply.started": "2021-10-05T16:15:13.981059Z"
    },
    "papermill": {
     "duration": 0.270646,
     "end_time": "2021-10-05T16:19:01.944897",
     "exception": false,
     "start_time": "2021-10-05T16:19:01.674251",
     "status": "completed"
    },
    "tags": []
   },
   "outputs": [
    {
     "data": {
      "text/plain": [
       "<AxesSubplot:>"
      ]
     },
     "execution_count": 4,
     "metadata": {},
     "output_type": "execute_result"
    },
    {
     "data": {
      "image/png": "[encoded data removed]",
      "text/plain": [
       "<Figure size 432x288 with 1 Axes>"
      ]
     },
     "metadata": {
      "needs_background": "light"
     },
     "output_type": "display_data"
    }
   ],
   "source": [
    "sns.heatmap(data_train.isnull(),yticklabels=False,cbar=False,cmap='viridis')"
   ]
  },
  {
   "cell_type": "markdown",
   "id": "39840b1f",
   "metadata": {
    "papermill": {
     "duration": 0.035616,
     "end_time": "2021-10-05T16:19:02.016132",
     "exception": false,
     "start_time": "2021-10-05T16:19:01.980516",
     "status": "completed"
    },
    "tags": []
   },
   "source": [
    "Pada cell code di bawah ini, saya drop cabin karena banyak sekali NaN valuesnya, dan pada kolom age sama isi value - value yang Nan dengan nilai median"
   ]
  },
  {
   "cell_type": "code",
   "execution_count": 5,
   "id": "7ad70886",
   "metadata": {
    "execution": {
     "iopub.execute_input": "2021-10-05T16:19:02.096682Z",
     "iopub.status.busy": "2021-10-05T16:19:02.095848Z",
     "iopub.status.idle": "2021-10-05T16:19:02.099603Z",
     "shell.execute_reply": "2021-10-05T16:19:02.099148Z",
     "shell.execute_reply.started": "2021-10-05T16:15:14.194510Z"
    },
    "papermill": {
     "duration": 0.047907,
     "end_time": "2021-10-05T16:19:02.099712",
     "exception": false,
     "start_time": "2021-10-05T16:19:02.051805",
     "status": "completed"
    },
    "tags": []
   },
   "outputs": [],
   "source": [
    "data_train.drop(['Cabin'],axis=1,inplace=True)\n",
    "data_train['Age'] = data_train['Age'].fillna((data_train['Age'].median()))"
   ]
  },
  {
   "cell_type": "markdown",
   "id": "9a6b817c",
   "metadata": {
    "papermill": {
     "duration": 0.034753,
     "end_time": "2021-10-05T16:19:02.170975",
     "exception": false,
     "start_time": "2021-10-05T16:19:02.136222",
     "status": "completed"
    },
    "tags": []
   },
   "source": [
    "Pada cell code di bawah ini, saya melakukan cek dan ternyata sudah tidak ada NaN values"
   ]
  },
  {
   "cell_type": "code",
   "execution_count": 6,
   "id": "5a50261a",
   "metadata": {
    "execution": {
     "iopub.execute_input": "2021-10-05T16:19:02.255042Z",
     "iopub.status.busy": "2021-10-05T16:19:02.246267Z",
     "iopub.status.idle": "2021-10-05T16:19:02.443635Z",
     "shell.execute_reply": "2021-10-05T16:19:02.443198Z",
     "shell.execute_reply.started": "2021-10-05T16:15:14.203223Z"
    },
    "papermill": {
     "duration": 0.236563,
     "end_time": "2021-10-05T16:19:02.443747",
     "exception": false,
     "start_time": "2021-10-05T16:19:02.207184",
     "status": "completed"
    },
    "tags": []
   },
   "outputs": [
    {
     "data": {
      "text/plain": [
       "<AxesSubplot:>"
      ]
     },
     "execution_count": 6,
     "metadata": {},
     "output_type": "execute_result"
    },
    {
     "data": {
      "image/png": "[encoded data removed]",
      "text/plain": [
       "<Figure size 432x288 with 1 Axes>"
      ]
     },
     "metadata": {
      "needs_background": "light"
     },
     "output_type": "display_data"
    }
   ],
   "source": [
    "sns.heatmap(data_train.isnull(),yticklabels=False,cbar=False,cmap='viridis')"
   ]
  },
  {
   "cell_type": "markdown",
   "id": "fdc48376",
   "metadata": {
    "papermill": {
     "duration": 0.035542,
     "end_time": "2021-10-05T16:19:02.515289",
     "exception": false,
     "start_time": "2021-10-05T16:19:02.479747",
     "status": "completed"
    },
    "tags": []
   },
   "source": [
    "Pada cell code di bawah ini, saya menghilangkan value - value yang terlalu jauh"
   ]
  },
  {
   "cell_type": "code",
   "execution_count": 7,
   "id": "7f74118a",
   "metadata": {
    "execution": {
     "iopub.execute_input": "2021-10-05T16:19:02.593461Z",
     "iopub.status.busy": "2021-10-05T16:19:02.592596Z",
     "iopub.status.idle": "2021-10-05T16:19:02.619594Z",
     "shell.execute_reply": "2021-10-05T16:19:02.620071Z",
     "shell.execute_reply.started": "2021-10-05T16:15:14.407975Z"
    },
    "papermill": {
     "duration": 0.069192,
     "end_time": "2021-10-05T16:19:02.620205",
     "exception": false,
     "start_time": "2021-10-05T16:19:02.551013",
     "status": "completed"
    },
    "tags": []
   },
   "outputs": [
    {
     "name": "stderr",
     "output_type": "stream",
     "text": [
      "/opt/conda/lib/python3.7/site-packages/ipykernel_launcher.py:4: FutureWarning: Automatic reindexing on DataFrame vs Series comparisons is deprecated and will raise ValueError in a future version.  Do `left, right = left.align(right, axis=1, copy=False)` before e.g. `left == right`\n",
      "  after removing the cwd from sys.path.\n",
      "/opt/conda/lib/python3.7/site-packages/ipykernel_launcher.py:4: FutureWarning: Automatic reindexing on DataFrame vs Series comparisons is deprecated and will raise ValueError in a future version.  Do `left, right = left.align(right, axis=1, copy=False)` before e.g. `left == right`\n",
      "  after removing the cwd from sys.path.\n"
     ]
    }
   ],
   "source": [
    "Q1 = data_train.quantile(0.25)\n",
    "Q3 = data_train.quantile(0.75)\n",
    "IQR=Q3-Q1\n",
    "data_train=data_train[~((data_train<(Q1-1.5*IQR))|(data_train>(Q3+1.5*IQR))).any(axis=1)]"
   ]
  },
  {
   "cell_type": "markdown",
   "id": "4daeb4d6",
   "metadata": {
    "papermill": {
     "duration": 0.036288,
     "end_time": "2021-10-05T16:19:02.692476",
     "exception": false,
     "start_time": "2021-10-05T16:19:02.656188",
     "status": "completed"
    },
    "tags": []
   },
   "source": [
    "___\n",
    "## Univariate Analysis"
   ]
  },
  {
   "cell_type": "markdown",
   "id": "14b54223",
   "metadata": {
    "papermill": {
     "duration": 0.048222,
     "end_time": "2021-10-05T16:19:02.776632",
     "exception": false,
     "start_time": "2021-10-05T16:19:02.728410",
     "status": "completed"
    },
    "tags": []
   },
   "source": [
    "Pada cell code di bawah ini, saya membagi num dengan object kolom"
   ]
  },
  {
   "cell_type": "code",
   "execution_count": 8,
   "id": "499c3024",
   "metadata": {
    "execution": {
     "iopub.execute_input": "2021-10-05T16:19:02.904129Z",
     "iopub.status.busy": "2021-10-05T16:19:02.903222Z",
     "iopub.status.idle": "2021-10-05T16:19:02.907580Z",
     "shell.execute_reply": "2021-10-05T16:19:02.908179Z",
     "shell.execute_reply.started": "2021-10-05T16:15:14.430431Z"
    },
    "papermill": {
     "duration": 0.071104,
     "end_time": "2021-10-05T16:19:02.908367",
     "exception": false,
     "start_time": "2021-10-05T16:19:02.837263",
     "status": "completed"
    },
    "tags": []
   },
   "outputs": [],
   "source": [
    "train_num = ['Age','SibSp','Fare']\n",
    "train_cat = ['Survived','Pclass','Sex','Ticket','Embarked']"
   ]
  },
  {
   "cell_type": "markdown",
   "id": "e9273a7a",
   "metadata": {
    "papermill": {
     "duration": 0.067828,
     "end_time": "2021-10-05T16:19:03.053182",
     "exception": false,
     "start_time": "2021-10-05T16:19:02.985354",
     "status": "completed"
    },
    "tags": []
   },
   "source": [
    "Pada cell code di bawah ini, saya melakukan univariate eda pada kolom - kolom object"
   ]
  },
  {
   "cell_type": "code",
   "execution_count": 9,
   "id": "999fd6a0",
   "metadata": {
    "execution": {
     "iopub.execute_input": "2021-10-05T16:19:03.182271Z",
     "iopub.status.busy": "2021-10-05T16:19:03.181450Z",
     "iopub.status.idle": "2021-10-05T16:19:10.223189Z",
     "shell.execute_reply": "2021-10-05T16:19:10.222631Z",
     "shell.execute_reply.started": "2021-10-05T16:15:14.436836Z"
    },
    "papermill": {
     "duration": 7.108269,
     "end_time": "2021-10-05T16:19:10.223335",
     "exception": false,
     "start_time": "2021-10-05T16:19:03.115066",
     "status": "completed"
    },
    "tags": []
   },
   "outputs": [
    {
     "name": "stdout",
     "output_type": "stream",
     "text": [
      "   jumlah sampel  persentase\n",
      "0            404        70.0\n",
      "1            173        30.0\n"
     ]
    },
    {
     "data": {
      "image/png": "[encoded data removed]",
      "text/plain": [
       "<Figure size 432x288 with 1 Axes>"
      ]
     },
     "metadata": {
      "needs_background": "light"
     },
     "output_type": "display_data"
    },
    {
     "name": "stdout",
     "output_type": "stream",
     "text": [
      "   jumlah sampel  persentase\n",
      "3            373        64.6\n",
      "2            121        21.0\n",
      "1             83        14.4\n"
     ]
    },
    {
     "data": {
      "image/png": "[encoded data removed]",
      "text/plain": [
       "<Figure size 432x288 with 1 Axes>"
      ]
     },
     "metadata": {
      "needs_background": "light"
     },
     "output_type": "display_data"
    },
    {
     "name": "stdout",
     "output_type": "stream",
     "text": [
      "        jumlah sampel  persentase\n",
      "male              434        75.2\n",
      "female            143        24.8\n"
     ]
    },
    {
     "data": {
      "image/png": "[encoded data removed]",
      "text/plain": [
       "<Figure size 432x288 with 1 Axes>"
      ]
     },
     "metadata": {
      "needs_background": "light"
     },
     "output_type": "display_data"
    },
    {
     "name": "stdout",
     "output_type": "stream",
     "text": [
      "               jumlah sampel  persentase\n",
      "1601                       7         1.2\n",
      "LINE                       4         0.7\n",
      "239853                     3         0.5\n",
      "371110                     3         0.5\n",
      "370365                     2         0.3\n",
      "...                      ...         ...\n",
      "SC/PARIS 2131              1         0.2\n",
      "29751                      1         0.2\n",
      "237668                     1         0.2\n",
      "349215                     1         0.2\n",
      "31028                      1         0.2\n",
      "\n",
      "[527 rows x 2 columns]\n"
     ]
    },
    {
     "data": {
      "image/png": "[encoded data removed]",
      "text/plain": [
       "<Figure size 432x288 with 1 Axes>"
      ]
     },
     "metadata": {
      "needs_background": "light"
     },
     "output_type": "display_data"
    },
    {
     "name": "stdout",
     "output_type": "stream",
     "text": [
      "   jumlah sampel  persentase\n",
      "S            433        75.0\n",
      "C             80        13.9\n",
      "Q             64        11.1\n"
     ]
    },
    {
     "data": {
      "image/png": "[encoded data removed]",
      "text/plain": [
       "<Figure size 432x288 with 1 Axes>"
      ]
     },
     "metadata": {
      "needs_background": "light"
     },
     "output_type": "display_data"
    }
   ],
   "source": [
    "for i in range(len(train_cat)):\n",
    "    feature = train_cat[i]\n",
    "    count = data_train[feature].value_counts()\n",
    "    percent = 100*data_train[feature].value_counts(normalize=True)\n",
    "    df = pd.DataFrame({'jumlah sampel':count, 'persentase':percent.round(1)})\n",
    "    print(df)\n",
    "    count.plot(kind='bar', title=feature)\n",
    "    plt.show()"
   ]
  },
  {
   "cell_type": "markdown",
   "id": "68c61113",
   "metadata": {
    "papermill": {
     "duration": 0.046457,
     "end_time": "2021-10-05T16:19:10.322402",
     "exception": false,
     "start_time": "2021-10-05T16:19:10.275945",
     "status": "completed"
    },
    "tags": []
   },
   "source": [
    "___\n",
    "## Multivariate Analysis"
   ]
  },
  {
   "cell_type": "markdown",
   "id": "5b5ccf04",
   "metadata": {
    "papermill": {
     "duration": 0.046749,
     "end_time": "2021-10-05T16:19:10.415605",
     "exception": false,
     "start_time": "2021-10-05T16:19:10.368856",
     "status": "completed"
    },
    "tags": []
   },
   "source": [
    "Pada cell code di bawah ini, saya melakukan cek pada Multivariate EDA dengan heatmap"
   ]
  },
  {
   "cell_type": "code",
   "execution_count": 10,
   "id": "55d23bf4",
   "metadata": {
    "execution": {
     "iopub.execute_input": "2021-10-05T16:19:10.536156Z",
     "iopub.status.busy": "2021-10-05T16:19:10.515128Z",
     "iopub.status.idle": "2021-10-05T16:19:10.997998Z",
     "shell.execute_reply": "2021-10-05T16:19:10.997120Z",
     "shell.execute_reply.started": "2021-10-05T16:15:21.242159Z"
    },
    "papermill": {
     "duration": 0.536696,
     "end_time": "2021-10-05T16:19:10.998141",
     "exception": false,
     "start_time": "2021-10-05T16:19:10.461445",
     "status": "completed"
    },
    "tags": []
   },
   "outputs": [
    {
     "data": {
      "text/plain": [
       "Text(0.5, 1.0, 'Correlation Matrix')"
      ]
     },
     "execution_count": 10,
     "metadata": {},
     "output_type": "execute_result"
    },
    {
     "data": {
      "image/png": "[encoded data removed]",
      "text/plain": [
       "<Figure size 720x576 with 2 Axes>"
      ]
     },
     "metadata": {
      "needs_background": "light"
     },
     "output_type": "display_data"
    }
   ],
   "source": [
    "plt.figure(figsize=(10, 8))\n",
    "correlation_matrix = data_train.corr().round(2)\n",
    "\n",
    "sns.heatmap(data=correlation_matrix, annot=True,linewidths=0.5 )\n",
    "plt.title(\"Correlation Matrix\", size=20)"
   ]
  },
  {
   "cell_type": "markdown",
   "id": "4136390c",
   "metadata": {
    "papermill": {
     "duration": 0.045915,
     "end_time": "2021-10-05T16:19:11.092403",
     "exception": false,
     "start_time": "2021-10-05T16:19:11.046488",
     "status": "completed"
    },
    "tags": []
   },
   "source": [
    "Pada cell code di bawah ini, saya drop Pclass dan Parch karena rendahnya korelasi terhadap Survivability"
   ]
  },
  {
   "cell_type": "code",
   "execution_count": 11,
   "id": "229c0caa",
   "metadata": {
    "execution": {
     "iopub.execute_input": "2021-10-05T16:19:11.195056Z",
     "iopub.status.busy": "2021-10-05T16:19:11.194282Z",
     "iopub.status.idle": "2021-10-05T16:19:11.197369Z",
     "shell.execute_reply": "2021-10-05T16:19:11.197851Z",
     "shell.execute_reply.started": "2021-10-05T16:15:21.683539Z"
    },
    "papermill": {
     "duration": 0.062338,
     "end_time": "2021-10-05T16:19:11.197992",
     "exception": false,
     "start_time": "2021-10-05T16:19:11.135654",
     "status": "completed"
    },
    "tags": []
   },
   "outputs": [
    {
     "data": {
      "text/html": [
       "<div>\n",
       "<style scoped>\n",
       "    .dataframe tbody tr th:only-of-type {\n",
       "        vertical-align: middle;\n",
       "    }\n",
       "\n",
       "    .dataframe tbody tr th {\n",
       "        vertical-align: top;\n",
       "    }\n",
       "\n",
       "    .dataframe thead th {\n",
       "        text-align: right;\n",
       "    }\n",
       "</style>\n",
       "<table border=\"1\" class=\"dataframe\">\n",
       "  <thead>\n",
       "    <tr style=\"text-align: right;\">\n",
       "      <th></th>\n",
       "      <th>PassengerId</th>\n",
       "      <th>Survived</th>\n",
       "      <th>Name</th>\n",
       "      <th>Sex</th>\n",
       "      <th>Age</th>\n",
       "      <th>SibSp</th>\n",
       "      <th>Ticket</th>\n",
       "      <th>Fare</th>\n",
       "      <th>Embarked</th>\n",
       "    </tr>\n",
       "  </thead>\n",
       "  <tbody>\n",
       "    <tr>\n",
       "      <th>0</th>\n",
       "      <td>1</td>\n",
       "      <td>0</td>\n",
       "      <td>Braund, Mr. Owen Harris</td>\n",
       "      <td>male</td>\n",
       "      <td>22.0</td>\n",
       "      <td>1</td>\n",
       "      <td>A/5 21171</td>\n",
       "      <td>7.2500</td>\n",
       "      <td>S</td>\n",
       "    </tr>\n",
       "    <tr>\n",
       "      <th>2</th>\n",
       "      <td>3</td>\n",
       "      <td>1</td>\n",
       "      <td>Heikkinen, Miss. Laina</td>\n",
       "      <td>female</td>\n",
       "      <td>26.0</td>\n",
       "      <td>0</td>\n",
       "      <td>STON/O2. 3101282</td>\n",
       "      <td>7.9250</td>\n",
       "      <td>S</td>\n",
       "    </tr>\n",
       "    <tr>\n",
       "      <th>3</th>\n",
       "      <td>4</td>\n",
       "      <td>1</td>\n",
       "      <td>Futrelle, Mrs. Jacques Heath (Lily May Peel)</td>\n",
       "      <td>female</td>\n",
       "      <td>35.0</td>\n",
       "      <td>1</td>\n",
       "      <td>113803</td>\n",
       "      <td>53.1000</td>\n",
       "      <td>S</td>\n",
       "    </tr>\n",
       "    <tr>\n",
       "      <th>4</th>\n",
       "      <td>5</td>\n",
       "      <td>0</td>\n",
       "      <td>Allen, Mr. William Henry</td>\n",
       "      <td>male</td>\n",
       "      <td>35.0</td>\n",
       "      <td>0</td>\n",
       "      <td>373450</td>\n",
       "      <td>8.0500</td>\n",
       "      <td>S</td>\n",
       "    </tr>\n",
       "    <tr>\n",
       "      <th>5</th>\n",
       "      <td>6</td>\n",
       "      <td>0</td>\n",
       "      <td>Moran, Mr. James</td>\n",
       "      <td>male</td>\n",
       "      <td>28.0</td>\n",
       "      <td>0</td>\n",
       "      <td>330877</td>\n",
       "      <td>8.4583</td>\n",
       "      <td>Q</td>\n",
       "    </tr>\n",
       "  </tbody>\n",
       "</table>\n",
       "</div>"
      ],
      "text/plain": [
       "   PassengerId  Survived                                          Name  \\\n",
       "0            1         0                       Braund, Mr. Owen Harris   \n",
       "2            3         1                        Heikkinen, Miss. Laina   \n",
       "3            4         1  Futrelle, Mrs. Jacques Heath (Lily May Peel)   \n",
       "4            5         0                      Allen, Mr. William Henry   \n",
       "5            6         0                              Moran, Mr. James   \n",
       "\n",
       "      Sex   Age  SibSp            Ticket     Fare Embarked  \n",
       "0    male  22.0      1         A/5 21171   7.2500        S  \n",
       "2  female  26.0      0  STON/O2. 3101282   7.9250        S  \n",
       "3  female  35.0      1            113803  53.1000        S  \n",
       "4    male  35.0      0            373450   8.0500        S  \n",
       "5    male  28.0      0            330877   8.4583        Q  "
      ]
     },
     "execution_count": 11,
     "metadata": {},
     "output_type": "execute_result"
    }
   ],
   "source": [
    "data_train.drop(['Pclass','Parch'],axis=1,inplace=True)\n",
    "data_train.head()"
   ]
  },
  {
   "cell_type": "markdown",
   "id": "1ec71e6b",
   "metadata": {
    "papermill": {
     "duration": 0.044238,
     "end_time": "2021-10-05T16:19:11.288072",
     "exception": false,
     "start_time": "2021-10-05T16:19:11.243834",
     "status": "completed"
    },
    "tags": []
   },
   "source": [
    "___\n",
    "## Data Preparation"
   ]
  },
  {
   "cell_type": "markdown",
   "id": "01b557de",
   "metadata": {
    "papermill": {
     "duration": 0.043641,
     "end_time": "2021-10-05T16:19:11.375824",
     "exception": false,
     "start_time": "2021-10-05T16:19:11.332183",
     "status": "completed"
    },
    "tags": []
   },
   "source": [
    "Pada cell code di bawah ini, saya melakukan get_dummies pada kolom sex dan embark"
   ]
  },
  {
   "cell_type": "code",
   "execution_count": 12,
   "id": "bdab9634",
   "metadata": {
    "execution": {
     "iopub.execute_input": "2021-10-05T16:19:11.469585Z",
     "iopub.status.busy": "2021-10-05T16:19:11.468673Z",
     "iopub.status.idle": "2021-10-05T16:19:11.472896Z",
     "shell.execute_reply": "2021-10-05T16:19:11.473356Z",
     "shell.execute_reply.started": "2021-10-05T16:15:21.701283Z"
    },
    "papermill": {
     "duration": 0.053862,
     "end_time": "2021-10-05T16:19:11.473488",
     "exception": false,
     "start_time": "2021-10-05T16:19:11.419626",
     "status": "completed"
    },
    "tags": []
   },
   "outputs": [],
   "source": [
    "sex = pd.get_dummies(data_train['Sex'])\n",
    "embark = pd.get_dummies(data_train['Embarked'])"
   ]
  },
  {
   "cell_type": "markdown",
   "id": "ef9509a4",
   "metadata": {
    "papermill": {
     "duration": 0.043871,
     "end_time": "2021-10-05T16:19:11.561685",
     "exception": false,
     "start_time": "2021-10-05T16:19:11.517814",
     "status": "completed"
    },
    "tags": []
   },
   "source": [
    "Pada cell code di bawah ini, saya drop 5 kolom yang tidak relevan dan meng-concat get_dummies dari sex dan embark sebelumnya"
   ]
  },
  {
   "cell_type": "code",
   "execution_count": 13,
   "id": "158499d4",
   "metadata": {
    "execution": {
     "iopub.execute_input": "2021-10-05T16:19:11.665539Z",
     "iopub.status.busy": "2021-10-05T16:19:11.664853Z",
     "iopub.status.idle": "2021-10-05T16:19:11.667664Z",
     "shell.execute_reply": "2021-10-05T16:19:11.668117Z",
     "shell.execute_reply.started": "2021-10-05T16:15:21.714650Z"
    },
    "papermill": {
     "duration": 0.061636,
     "end_time": "2021-10-05T16:19:11.668268",
     "exception": false,
     "start_time": "2021-10-05T16:19:11.606632",
     "status": "completed"
    },
    "tags": []
   },
   "outputs": [
    {
     "data": {
      "text/html": [
       "<div>\n",
       "<style scoped>\n",
       "    .dataframe tbody tr th:only-of-type {\n",
       "        vertical-align: middle;\n",
       "    }\n",
       "\n",
       "    .dataframe tbody tr th {\n",
       "        vertical-align: top;\n",
       "    }\n",
       "\n",
       "    .dataframe thead th {\n",
       "        text-align: right;\n",
       "    }\n",
       "</style>\n",
       "<table border=\"1\" class=\"dataframe\">\n",
       "  <thead>\n",
       "    <tr style=\"text-align: right;\">\n",
       "      <th></th>\n",
       "      <th>Survived</th>\n",
       "      <th>Age</th>\n",
       "      <th>SibSp</th>\n",
       "      <th>Fare</th>\n",
       "      <th>female</th>\n",
       "      <th>male</th>\n",
       "      <th>C</th>\n",
       "      <th>Q</th>\n",
       "      <th>S</th>\n",
       "    </tr>\n",
       "  </thead>\n",
       "  <tbody>\n",
       "    <tr>\n",
       "      <th>0</th>\n",
       "      <td>0</td>\n",
       "      <td>22.0</td>\n",
       "      <td>1</td>\n",
       "      <td>7.2500</td>\n",
       "      <td>0</td>\n",
       "      <td>1</td>\n",
       "      <td>0</td>\n",
       "      <td>0</td>\n",
       "      <td>1</td>\n",
       "    </tr>\n",
       "    <tr>\n",
       "      <th>2</th>\n",
       "      <td>1</td>\n",
       "      <td>26.0</td>\n",
       "      <td>0</td>\n",
       "      <td>7.9250</td>\n",
       "      <td>1</td>\n",
       "      <td>0</td>\n",
       "      <td>0</td>\n",
       "      <td>0</td>\n",
       "      <td>1</td>\n",
       "    </tr>\n",
       "    <tr>\n",
       "      <th>3</th>\n",
       "      <td>1</td>\n",
       "      <td>35.0</td>\n",
       "      <td>1</td>\n",
       "      <td>53.1000</td>\n",
       "      <td>1</td>\n",
       "      <td>0</td>\n",
       "      <td>0</td>\n",
       "      <td>0</td>\n",
       "      <td>1</td>\n",
       "    </tr>\n",
       "    <tr>\n",
       "      <th>4</th>\n",
       "      <td>0</td>\n",
       "      <td>35.0</td>\n",
       "      <td>0</td>\n",
       "      <td>8.0500</td>\n",
       "      <td>0</td>\n",
       "      <td>1</td>\n",
       "      <td>0</td>\n",
       "      <td>0</td>\n",
       "      <td>1</td>\n",
       "    </tr>\n",
       "    <tr>\n",
       "      <th>5</th>\n",
       "      <td>0</td>\n",
       "      <td>28.0</td>\n",
       "      <td>0</td>\n",
       "      <td>8.4583</td>\n",
       "      <td>0</td>\n",
       "      <td>1</td>\n",
       "      <td>0</td>\n",
       "      <td>1</td>\n",
       "      <td>0</td>\n",
       "    </tr>\n",
       "  </tbody>\n",
       "</table>\n",
       "</div>"
      ],
      "text/plain": [
       "   Survived   Age  SibSp     Fare  female  male  C  Q  S\n",
       "0         0  22.0      1   7.2500       0     1  0  0  1\n",
       "2         1  26.0      0   7.9250       1     0  0  0  1\n",
       "3         1  35.0      1  53.1000       1     0  0  0  1\n",
       "4         0  35.0      0   8.0500       0     1  0  0  1\n",
       "5         0  28.0      0   8.4583       0     1  0  1  0"
      ]
     },
     "execution_count": 13,
     "metadata": {},
     "output_type": "execute_result"
    }
   ],
   "source": [
    "data_train.drop(['PassengerId','Sex','Embarked','Name','Ticket'],axis=1,inplace=True)\n",
    "data_train = pd.concat([data_train,sex,embark],axis=1)\n",
    "data_train.head()"
   ]
  },
  {
   "cell_type": "markdown",
   "id": "07c16834",
   "metadata": {
    "papermill": {
     "duration": 0.043219,
     "end_time": "2021-10-05T16:19:11.759051",
     "exception": false,
     "start_time": "2021-10-05T16:19:11.715832",
     "status": "completed"
    },
    "tags": []
   },
   "source": [
    "Pada cell code di bawah ini, saya men-split dataset menjadi train dan validation"
   ]
  },
  {
   "cell_type": "code",
   "execution_count": 14,
   "id": "9680dfb0",
   "metadata": {
    "execution": {
     "iopub.execute_input": "2021-10-05T16:19:11.853228Z",
     "iopub.status.busy": "2021-10-05T16:19:11.852434Z",
     "iopub.status.idle": "2021-10-05T16:19:11.859263Z",
     "shell.execute_reply": "2021-10-05T16:19:11.858840Z",
     "shell.execute_reply.started": "2021-10-05T16:15:21.733505Z"
    },
    "papermill": {
     "duration": 0.055688,
     "end_time": "2021-10-05T16:19:11.859374",
     "exception": false,
     "start_time": "2021-10-05T16:19:11.803686",
     "status": "completed"
    },
    "tags": []
   },
   "outputs": [],
   "source": [
    "from sklearn.model_selection import train_test_split\n",
    " \n",
    "X = data_train.drop([\"Survived\"],axis =1)\n",
    "y = data_train[\"Survived\"]\n",
    "X_train, X_valid, y_train, y_valid = train_test_split(X, y, test_size = 0.2, random_state = 0)"
   ]
  },
  {
   "cell_type": "markdown",
   "id": "a5bf2307",
   "metadata": {
    "papermill": {
     "duration": 0.043803,
     "end_time": "2021-10-05T16:19:11.946226",
     "exception": false,
     "start_time": "2021-10-05T16:19:11.902423",
     "status": "completed"
    },
    "tags": []
   },
   "source": [
    "Pada cell code di bawah ini, saya melakukan standardscaler pada x train dan x valid"
   ]
  },
  {
   "cell_type": "code",
   "execution_count": 15,
   "id": "ee7d125e",
   "metadata": {
    "execution": {
     "iopub.execute_input": "2021-10-05T16:19:12.044926Z",
     "iopub.status.busy": "2021-10-05T16:19:12.043993Z",
     "iopub.status.idle": "2021-10-05T16:19:12.073693Z",
     "shell.execute_reply": "2021-10-05T16:19:12.074197Z",
     "shell.execute_reply.started": "2021-10-05T16:15:21.747420Z"
    },
    "papermill": {
     "duration": 0.082861,
     "end_time": "2021-10-05T16:19:12.074355",
     "exception": false,
     "start_time": "2021-10-05T16:19:11.991494",
     "status": "completed"
    },
    "tags": []
   },
   "outputs": [
    {
     "name": "stderr",
     "output_type": "stream",
     "text": [
      "/opt/conda/lib/python3.7/site-packages/ipykernel_launcher.py:6: SettingWithCopyWarning: \n",
      "A value is trying to be set on a copy of a slice from a DataFrame.\n",
      "Try using .loc[row_indexer,col_indexer] = value instead\n",
      "\n",
      "See the caveats in the documentation: https://pandas.pydata.org/pandas-docs/stable/user_guide/indexing.html#returning-a-view-versus-a-copy\n",
      "  \n",
      "/opt/conda/lib/python3.7/site-packages/pandas/core/indexing.py:1738: SettingWithCopyWarning: \n",
      "A value is trying to be set on a copy of a slice from a DataFrame.\n",
      "Try using .loc[row_indexer,col_indexer] = value instead\n",
      "\n",
      "See the caveats in the documentation: https://pandas.pydata.org/pandas-docs/stable/user_guide/indexing.html#returning-a-view-versus-a-copy\n",
      "  self._setitem_single_column(loc, value[:, i].tolist(), pi)\n",
      "/opt/conda/lib/python3.7/site-packages/ipykernel_launcher.py:7: SettingWithCopyWarning: \n",
      "A value is trying to be set on a copy of a slice from a DataFrame.\n",
      "Try using .loc[row_indexer,col_indexer] = value instead\n",
      "\n",
      "See the caveats in the documentation: https://pandas.pydata.org/pandas-docs/stable/user_guide/indexing.html#returning-a-view-versus-a-copy\n",
      "  import sys\n",
      "/opt/conda/lib/python3.7/site-packages/pandas/core/indexing.py:1738: SettingWithCopyWarning: \n",
      "A value is trying to be set on a copy of a slice from a DataFrame.\n",
      "Try using .loc[row_indexer,col_indexer] = value instead\n",
      "\n",
      "See the caveats in the documentation: https://pandas.pydata.org/pandas-docs/stable/user_guide/indexing.html#returning-a-view-versus-a-copy\n",
      "  self._setitem_single_column(loc, value[:, i].tolist(), pi)\n"
     ]
    },
    {
     "data": {
      "text/html": [
       "<div>\n",
       "<style scoped>\n",
       "    .dataframe tbody tr th:only-of-type {\n",
       "        vertical-align: middle;\n",
       "    }\n",
       "\n",
       "    .dataframe tbody tr th {\n",
       "        vertical-align: top;\n",
       "    }\n",
       "\n",
       "    .dataframe thead th {\n",
       "        text-align: right;\n",
       "    }\n",
       "</style>\n",
       "<table border=\"1\" class=\"dataframe\">\n",
       "  <thead>\n",
       "    <tr style=\"text-align: right;\">\n",
       "      <th></th>\n",
       "      <th>Age</th>\n",
       "      <th>SibSp</th>\n",
       "      <th>Fare</th>\n",
       "      <th>female</th>\n",
       "      <th>male</th>\n",
       "      <th>C</th>\n",
       "      <th>Q</th>\n",
       "      <th>S</th>\n",
       "    </tr>\n",
       "  </thead>\n",
       "  <tbody>\n",
       "    <tr>\n",
       "      <th>376</th>\n",
       "      <td>-0.896989</td>\n",
       "      <td>-0.464294</td>\n",
       "      <td>-0.657139</td>\n",
       "      <td>1</td>\n",
       "      <td>0</td>\n",
       "      <td>0</td>\n",
       "      <td>0</td>\n",
       "      <td>1</td>\n",
       "    </tr>\n",
       "    <tr>\n",
       "      <th>108</th>\n",
       "      <td>1.022102</td>\n",
       "      <td>-0.464294</td>\n",
       "      <td>-0.607451</td>\n",
       "      <td>0</td>\n",
       "      <td>1</td>\n",
       "      <td>0</td>\n",
       "      <td>0</td>\n",
       "      <td>1</td>\n",
       "    </tr>\n",
       "    <tr>\n",
       "      <th>800</th>\n",
       "      <td>0.542329</td>\n",
       "      <td>-0.464294</td>\n",
       "      <td>-0.214737</td>\n",
       "      <td>0</td>\n",
       "      <td>1</td>\n",
       "      <td>0</td>\n",
       "      <td>0</td>\n",
       "      <td>1</td>\n",
       "    </tr>\n",
       "    <tr>\n",
       "      <th>154</th>\n",
       "      <td>-0.177330</td>\n",
       "      <td>-0.464294</td>\n",
       "      <td>-0.652330</td>\n",
       "      <td>0</td>\n",
       "      <td>1</td>\n",
       "      <td>0</td>\n",
       "      <td>0</td>\n",
       "      <td>1</td>\n",
       "    </tr>\n",
       "    <tr>\n",
       "      <th>398</th>\n",
       "      <td>-0.777045</td>\n",
       "      <td>-0.464294</td>\n",
       "      <td>-0.407085</td>\n",
       "      <td>0</td>\n",
       "      <td>1</td>\n",
       "      <td>0</td>\n",
       "      <td>0</td>\n",
       "      <td>1</td>\n",
       "    </tr>\n",
       "  </tbody>\n",
       "</table>\n",
       "</div>"
      ],
      "text/plain": [
       "          Age     SibSp      Fare  female  male  C  Q  S\n",
       "376 -0.896989 -0.464294 -0.657139       1     0  0  0  1\n",
       "108  1.022102 -0.464294 -0.607451       0     1  0  0  1\n",
       "800  0.542329 -0.464294 -0.214737       0     1  0  0  1\n",
       "154 -0.177330 -0.464294 -0.652330       0     1  0  0  1\n",
       "398 -0.777045 -0.464294 -0.407085       0     1  0  0  1"
      ]
     },
     "execution_count": 15,
     "metadata": {},
     "output_type": "execute_result"
    }
   ],
   "source": [
    "from sklearn.preprocessing import StandardScaler\n",
    "train_num = ['Age','SibSp','Fare']\n",
    "scaler = StandardScaler()\n",
    "scaler.fit(X_train[train_num])\n",
    "scaler.fit(X_valid[train_num])\n",
    "X_train[train_num] = scaler.transform(X_train.loc[:, train_num])\n",
    "X_valid[train_num] = scaler.transform(X_valid.loc[:, train_num])\n",
    "X_train.head()"
   ]
  },
  {
   "cell_type": "markdown",
   "id": "71b713a0",
   "metadata": {
    "papermill": {
     "duration": 0.04464,
     "end_time": "2021-10-05T16:19:12.169251",
     "exception": false,
     "start_time": "2021-10-05T16:19:12.124611",
     "status": "completed"
    },
    "tags": []
   },
   "source": [
    "___\n",
    "## Model Development"
   ]
  },
  {
   "cell_type": "markdown",
   "id": "53a63515",
   "metadata": {
    "papermill": {
     "duration": 0.043719,
     "end_time": "2021-10-05T16:19:12.257032",
     "exception": false,
     "start_time": "2021-10-05T16:19:12.213313",
     "status": "completed"
    },
    "tags": []
   },
   "source": [
    "Pada cell code di bawah ini, saya melakukan import pada beberapa model"
   ]
  },
  {
   "cell_type": "code",
   "execution_count": 16,
   "id": "32d07e4a",
   "metadata": {
    "execution": {
     "iopub.execute_input": "2021-10-05T16:19:12.350026Z",
     "iopub.status.busy": "2021-10-05T16:19:12.349373Z",
     "iopub.status.idle": "2021-10-05T16:19:12.419470Z",
     "shell.execute_reply": "2021-10-05T16:19:12.419046Z",
     "shell.execute_reply.started": "2021-10-05T16:15:21.779785Z"
    },
    "papermill": {
     "duration": 0.117865,
     "end_time": "2021-10-05T16:19:12.419585",
     "exception": false,
     "start_time": "2021-10-05T16:19:12.301720",
     "status": "completed"
    },
    "tags": []
   },
   "outputs": [],
   "source": [
    "from xgboost import XGBClassifier\n",
    "from sklearn.linear_model import LogisticRegression"
   ]
  },
  {
   "cell_type": "markdown",
   "id": "b9c8d2da",
   "metadata": {
    "papermill": {
     "duration": 0.045104,
     "end_time": "2021-10-05T16:19:12.509270",
     "exception": false,
     "start_time": "2021-10-05T16:19:12.464166",
     "status": "completed"
    },
    "tags": []
   },
   "source": [
    "___\n",
    "### Logistic Regressor"
   ]
  },
  {
   "cell_type": "markdown",
   "id": "75b85d69",
   "metadata": {
    "papermill": {
     "duration": 0.045192,
     "end_time": "2021-10-05T16:19:12.598894",
     "exception": false,
     "start_time": "2021-10-05T16:19:12.553702",
     "status": "completed"
    },
    "tags": []
   },
   "source": [
    "Pada cell code di bawah ini saya membuat satu model Logistic Regression dengan nama log dan melatihnya dengan data X_train dan y_train"
   ]
  },
  {
   "cell_type": "code",
   "execution_count": 17,
   "id": "1e2863d2",
   "metadata": {
    "execution": {
     "iopub.execute_input": "2021-10-05T16:19:12.695222Z",
     "iopub.status.busy": "2021-10-05T16:19:12.694203Z",
     "iopub.status.idle": "2021-10-05T16:19:12.710664Z",
     "shell.execute_reply": "2021-10-05T16:19:12.710238Z",
     "shell.execute_reply.started": "2021-10-05T16:15:21.785331Z"
    },
    "papermill": {
     "duration": 0.066621,
     "end_time": "2021-10-05T16:19:12.710776",
     "exception": false,
     "start_time": "2021-10-05T16:19:12.644155",
     "status": "completed"
    },
    "tags": []
   },
   "outputs": [
    {
     "data": {
      "text/plain": [
       "LogisticRegression()"
      ]
     },
     "execution_count": 17,
     "metadata": {},
     "output_type": "execute_result"
    }
   ],
   "source": [
    "log=LogisticRegression()\n",
    "log.fit(X_train,y_train)"
   ]
  },
  {
   "cell_type": "markdown",
   "id": "9038aeb1",
   "metadata": {
    "papermill": {
     "duration": 0.045954,
     "end_time": "2021-10-05T16:19:12.805251",
     "exception": false,
     "start_time": "2021-10-05T16:19:12.759297",
     "status": "completed"
    },
    "tags": []
   },
   "source": [
    "Pada cell code di bawah ini saya melakukan prediksi pada X_valid"
   ]
  },
  {
   "cell_type": "code",
   "execution_count": 18,
   "id": "54734e43",
   "metadata": {
    "execution": {
     "iopub.execute_input": "2021-10-05T16:19:12.902861Z",
     "iopub.status.busy": "2021-10-05T16:19:12.902199Z",
     "iopub.status.idle": "2021-10-05T16:19:12.904764Z",
     "shell.execute_reply": "2021-10-05T16:19:12.905346Z",
     "shell.execute_reply.started": "2021-10-05T16:15:21.808356Z"
    },
    "papermill": {
     "duration": 0.054972,
     "end_time": "2021-10-05T16:19:12.905492",
     "exception": false,
     "start_time": "2021-10-05T16:19:12.850520",
     "status": "completed"
    },
    "tags": []
   },
   "outputs": [],
   "source": [
    "preds_LogisticRegression=log.predict(X_valid)"
   ]
  },
  {
   "cell_type": "markdown",
   "id": "dc294265",
   "metadata": {
    "papermill": {
     "duration": 0.045976,
     "end_time": "2021-10-05T16:19:12.999612",
     "exception": false,
     "start_time": "2021-10-05T16:19:12.953636",
     "status": "completed"
    },
    "tags": []
   },
   "source": [
    "Pada cell code di bawah ini, saya mengkalkulasi akurasi, presisi, recall, dan F1 score pada model Logistic Regression"
   ]
  },
  {
   "cell_type": "code",
   "execution_count": 19,
   "id": "6affdc23",
   "metadata": {
    "execution": {
     "iopub.execute_input": "2021-10-05T16:19:13.106502Z",
     "iopub.status.busy": "2021-10-05T16:19:13.103870Z",
     "iopub.status.idle": "2021-10-05T16:19:13.114063Z",
     "shell.execute_reply": "2021-10-05T16:19:13.113583Z",
     "shell.execute_reply.started": "2021-10-05T16:15:21.993154Z"
    },
    "papermill": {
     "duration": 0.064897,
     "end_time": "2021-10-05T16:19:13.114181",
     "exception": false,
     "start_time": "2021-10-05T16:19:13.049284",
     "status": "completed"
    },
    "tags": []
   },
   "outputs": [
    {
     "name": "stdout",
     "output_type": "stream",
     "text": [
      "LogisticRegression accuracy value: 0.78\n",
      "LogisticRegression Precision: 0.618\n",
      "LogisticRegression Recall: 0.618\n",
      "LogisticRegression F1 Score: 0.618\n"
     ]
    }
   ],
   "source": [
    "from sklearn.metrics import precision_score, recall_score, f1_score, accuracy_score\n",
    "accuracy_LogisticRegression=accuracy_score(y_valid,preds_LogisticRegression)\n",
    "print(\"LogisticRegression accuracy value: {:.2f}\".format(accuracy_LogisticRegression))\n",
    "print('LogisticRegression Precision: %.3f' % precision_score(y_valid,preds_LogisticRegression))\n",
    "print('LogisticRegression Recall: %.3f' % recall_score(y_valid,preds_LogisticRegression))\n",
    "print('LogisticRegression F1 Score: %.3f' % f1_score(y_valid,preds_LogisticRegression))"
   ]
  },
  {
   "cell_type": "markdown",
   "id": "f8fddceb",
   "metadata": {
    "papermill": {
     "duration": 0.045441,
     "end_time": "2021-10-05T16:19:13.206168",
     "exception": false,
     "start_time": "2021-10-05T16:19:13.160727",
     "status": "completed"
    },
    "tags": []
   },
   "source": [
    "___\n",
    "### XGBClassifier"
   ]
  },
  {
   "cell_type": "markdown",
   "id": "763946b4",
   "metadata": {
    "papermill": {
     "duration": 0.045679,
     "end_time": "2021-10-05T16:19:13.296985",
     "exception": false,
     "start_time": "2021-10-05T16:19:13.251306",
     "status": "completed"
    },
    "tags": []
   },
   "source": [
    "Pada cell code di bawah ini, saya define parameter untuk xgbclassifier"
   ]
  },
  {
   "cell_type": "code",
   "execution_count": 20,
   "id": "11e947d9",
   "metadata": {
    "execution": {
     "iopub.execute_input": "2021-10-05T16:19:13.392735Z",
     "iopub.status.busy": "2021-10-05T16:19:13.392154Z",
     "iopub.status.idle": "2021-10-05T16:19:16.112617Z",
     "shell.execute_reply": "2021-10-05T16:19:16.111781Z",
     "shell.execute_reply.started": "2021-10-05T16:15:22.010959Z"
    },
    "papermill": {
     "duration": 2.769453,
     "end_time": "2021-10-05T16:19:16.112820",
     "exception": false,
     "start_time": "2021-10-05T16:19:13.343367",
     "status": "completed"
    },
    "tags": []
   },
   "outputs": [
    {
     "name": "stdout",
     "output_type": "stream",
     "text": [
      "[16:19:16] WARNING: ../src/learner.cc:1095: Starting in XGBoost 1.3.0, the default evaluation metric used with the objective 'binary:logistic' was changed from 'error' to 'logloss'. Explicitly set eval_metric if you'd like to restore the old behavior.\n"
     ]
    },
    {
     "name": "stderr",
     "output_type": "stream",
     "text": [
      "/opt/conda/lib/python3.7/site-packages/xgboost/sklearn.py:1146: UserWarning: The use of label encoder in XGBClassifier is deprecated and will be removed in a future release. To remove this warning, do the following: 1) Pass option use_label_encoder=False when constructing XGBClassifier object; and 2) Encode your labels (y) as integers starting with 0, i.e. 0, 1, 2, ..., [num_class - 1].\n",
      "  warnings.warn(label_encoder_deprecation_msg, UserWarning)\n"
     ]
    }
   ],
   "source": [
    "model_XGBClassifier = XGBClassifier()\n",
    "model_XGBClassifier.fit(X_train, y_train,\n",
    "          verbose=False)\n",
    "\n",
    "preds_XGBClassifier = model_XGBClassifier.predict(X_valid)"
   ]
  },
  {
   "cell_type": "markdown",
   "id": "bc1a7694",
   "metadata": {
    "papermill": {
     "duration": 0.049515,
     "end_time": "2021-10-05T16:19:16.209681",
     "exception": false,
     "start_time": "2021-10-05T16:19:16.160166",
     "status": "completed"
    },
    "tags": []
   },
   "source": [
    "Pada cell code di bawah ini, saya mengkalkulasi akurasi, presisi, recall, dan F1 score pada model xgbclassifier"
   ]
  },
  {
   "cell_type": "code",
   "execution_count": 21,
   "id": "97a5cd9f",
   "metadata": {
    "execution": {
     "iopub.execute_input": "2021-10-05T16:19:16.307398Z",
     "iopub.status.busy": "2021-10-05T16:19:16.306295Z",
     "iopub.status.idle": "2021-10-05T16:19:16.314636Z",
     "shell.execute_reply": "2021-10-05T16:19:16.314044Z",
     "shell.execute_reply.started": "2021-10-05T16:15:22.082868Z"
    },
    "papermill": {
     "duration": 0.059732,
     "end_time": "2021-10-05T16:19:16.314780",
     "exception": false,
     "start_time": "2021-10-05T16:19:16.255048",
     "status": "completed"
    },
    "tags": []
   },
   "outputs": [
    {
     "name": "stdout",
     "output_type": "stream",
     "text": [
      "XGBClassifier accuracy value: 0.78\n",
      "XGBClassifier Precision: 0.636\n",
      "XGBClassifier Recall: 0.618\n",
      "XGBClassifier F1 Score: 0.627\n"
     ]
    }
   ],
   "source": [
    "accuracy_XGBClassifier=accuracy_score(y_valid,preds_XGBClassifier)\n",
    "print(\"XGBClassifier accuracy value: {:.2f}\".format(accuracy_XGBClassifier))\n",
    "print('XGBClassifier Precision: %.3f' % precision_score(y_valid,preds_XGBClassifier))\n",
    "print('XGBClassifier Recall: %.3f' % recall_score(y_valid,preds_XGBClassifier))\n",
    "print('XGBClassifier F1 Score: %.3f' % f1_score(y_valid,preds_XGBClassifier))"
   ]
  },
  {
   "cell_type": "markdown",
   "id": "b0b0fbcd",
   "metadata": {
    "papermill": {
     "duration": 0.046075,
     "end_time": "2021-10-05T16:19:16.406977",
     "exception": false,
     "start_time": "2021-10-05T16:19:16.360902",
     "status": "completed"
    },
    "tags": []
   },
   "source": [
    "___\n",
    "## Choosing the best Model"
   ]
  },
  {
   "cell_type": "markdown",
   "id": "4a6b5d65",
   "metadata": {
    "papermill": {
     "duration": 0.044706,
     "end_time": "2021-10-05T16:19:16.496331",
     "exception": false,
     "start_time": "2021-10-05T16:19:16.451625",
     "status": "completed"
    },
    "tags": []
   },
   "source": [
    "Pada cell code di bawah ini, saya menggabungkan semua akurasi, presisi, recall, dan F1 pada semua model yang ada"
   ]
  },
  {
   "cell_type": "code",
   "execution_count": 22,
   "id": "b57c3431",
   "metadata": {
    "execution": {
     "iopub.execute_input": "2021-10-05T16:19:16.598380Z",
     "iopub.status.busy": "2021-10-05T16:19:16.597594Z",
     "iopub.status.idle": "2021-10-05T16:19:16.612494Z",
     "shell.execute_reply": "2021-10-05T16:19:16.612936Z",
     "shell.execute_reply.started": "2021-10-05T16:15:22.096010Z"
    },
    "papermill": {
     "duration": 0.071361,
     "end_time": "2021-10-05T16:19:16.613067",
     "exception": false,
     "start_time": "2021-10-05T16:19:16.541706",
     "status": "completed"
    },
    "tags": []
   },
   "outputs": [
    {
     "data": {
      "text/html": [
       "<div>\n",
       "<style scoped>\n",
       "    .dataframe tbody tr th:only-of-type {\n",
       "        vertical-align: middle;\n",
       "    }\n",
       "\n",
       "    .dataframe tbody tr th {\n",
       "        vertical-align: top;\n",
       "    }\n",
       "\n",
       "    .dataframe thead th {\n",
       "        text-align: right;\n",
       "    }\n",
       "</style>\n",
       "<table border=\"1\" class=\"dataframe\">\n",
       "  <thead>\n",
       "    <tr style=\"text-align: right;\">\n",
       "      <th></th>\n",
       "      <th>Logistic Regression</th>\n",
       "      <th>XGBClassifier</th>\n",
       "    </tr>\n",
       "  </thead>\n",
       "  <tbody>\n",
       "    <tr>\n",
       "      <th>Accuracy</th>\n",
       "      <td>0.775862</td>\n",
       "      <td>0.784483</td>\n",
       "    </tr>\n",
       "    <tr>\n",
       "      <th>Precision</th>\n",
       "      <td>0.617647</td>\n",
       "      <td>0.636364</td>\n",
       "    </tr>\n",
       "    <tr>\n",
       "      <th>Recall</th>\n",
       "      <td>0.617647</td>\n",
       "      <td>0.617647</td>\n",
       "    </tr>\n",
       "    <tr>\n",
       "      <th>F1</th>\n",
       "      <td>0.617647</td>\n",
       "      <td>0.626866</td>\n",
       "    </tr>\n",
       "  </tbody>\n",
       "</table>\n",
       "</div>"
      ],
      "text/plain": [
       "           Logistic Regression  XGBClassifier\n",
       "Accuracy              0.775862       0.784483\n",
       "Precision             0.617647       0.636364\n",
       "Recall                0.617647       0.617647\n",
       "F1                    0.617647       0.626866"
      ]
     },
     "execution_count": 22,
     "metadata": {},
     "output_type": "execute_result"
    }
   ],
   "source": [
    "model = pd.DataFrame({'Logistic Regression': [accuracy_LogisticRegression,precision_score(y_valid,preds_LogisticRegression),recall_score(y_valid,preds_LogisticRegression),f1_score(y_valid,preds_LogisticRegression)],\n",
    "                     'XGBClassifier': [accuracy_XGBClassifier,precision_score(y_valid,preds_XGBClassifier),recall_score(y_valid,preds_XGBClassifier),f1_score(y_valid,preds_XGBClassifier)],\n",
    "                     },\n",
    "              \n",
    "             index=['Accuracy','Precision','Recall','F1'])\n",
    "model"
   ]
  },
  {
   "cell_type": "markdown",
   "id": "2d089b5f",
   "metadata": {
    "papermill": {
     "duration": 0.046583,
     "end_time": "2021-10-05T16:19:16.707535",
     "exception": false,
     "start_time": "2021-10-05T16:19:16.660952",
     "status": "completed"
    },
    "tags": []
   },
   "source": [
    "Ternyata XGBClassifier memiliki evaluasi metrik paling baik"
   ]
  },
  {
   "cell_type": "markdown",
   "id": "592ea7ab",
   "metadata": {
    "papermill": {
     "duration": 0.045441,
     "end_time": "2021-10-05T16:19:16.799388",
     "exception": false,
     "start_time": "2021-10-05T16:19:16.753947",
     "status": "completed"
    },
    "tags": []
   },
   "source": [
    "___\n",
    "# Preprocessing Test Data"
   ]
  },
  {
   "cell_type": "markdown",
   "id": "770ffdde",
   "metadata": {
    "papermill": {
     "duration": 0.045574,
     "end_time": "2021-10-05T16:19:16.890425",
     "exception": false,
     "start_time": "2021-10-05T16:19:16.844851",
     "status": "completed"
    },
    "tags": []
   },
   "source": [
    "Pada cell code di bawah ini, saya drop kolom - kolom yang juga sudah saya drop pada data train"
   ]
  },
  {
   "cell_type": "code",
   "execution_count": 23,
   "id": "ce4a1a7f",
   "metadata": {
    "execution": {
     "iopub.execute_input": "2021-10-05T16:19:16.996753Z",
     "iopub.status.busy": "2021-10-05T16:19:16.996143Z",
     "iopub.status.idle": "2021-10-05T16:19:16.999450Z",
     "shell.execute_reply": "2021-10-05T16:19:16.999917Z",
     "shell.execute_reply.started": "2021-10-05T16:15:22.118860Z"
    },
    "papermill": {
     "duration": 0.063937,
     "end_time": "2021-10-05T16:19:17.000055",
     "exception": false,
     "start_time": "2021-10-05T16:19:16.936118",
     "status": "completed"
    },
    "tags": []
   },
   "outputs": [],
   "source": [
    "X_test=data_test.drop(['Cabin','Parch','PassengerId','Name','Ticket','Pclass'],axis =1)\n",
    "test_num = ['Age','SibSp','Fare']\n",
    "scaler = StandardScaler()\n",
    "scaler.fit(X_test[train_num])\n",
    "X_test[train_num] = scaler.transform(X_test.loc[:, test_num])"
   ]
  },
  {
   "cell_type": "markdown",
   "id": "2028bb85",
   "metadata": {
    "papermill": {
     "duration": 0.044804,
     "end_time": "2021-10-05T16:19:17.091450",
     "exception": false,
     "start_time": "2021-10-05T16:19:17.046646",
     "status": "completed"
    },
    "tags": []
   },
   "source": [
    "Pada cell code di bawah ini, saya melakukan get_dummies pada kolom sex dan embark yang kemudian juga di concat pada dataframe test"
   ]
  },
  {
   "cell_type": "code",
   "execution_count": 24,
   "id": "3f308b63",
   "metadata": {
    "execution": {
     "iopub.execute_input": "2021-10-05T16:19:17.190234Z",
     "iopub.status.busy": "2021-10-05T16:19:17.189271Z",
     "iopub.status.idle": "2021-10-05T16:19:17.194286Z",
     "shell.execute_reply": "2021-10-05T16:19:17.193711Z",
     "shell.execute_reply.started": "2021-10-05T16:15:22.135832Z"
    },
    "papermill": {
     "duration": 0.057316,
     "end_time": "2021-10-05T16:19:17.194403",
     "exception": false,
     "start_time": "2021-10-05T16:19:17.137087",
     "status": "completed"
    },
    "tags": []
   },
   "outputs": [],
   "source": [
    "sex = pd.get_dummies(X_test['Sex'])\n",
    "embark = pd.get_dummies(X_test['Embarked'])\n",
    "X_test=X_test.drop(['Sex','Embarked'],axis =1)\n",
    "X_test = pd.concat([X_test,sex,embark],axis=1)"
   ]
  },
  {
   "cell_type": "code",
   "execution_count": 25,
   "id": "52d10995",
   "metadata": {
    "execution": {
     "iopub.execute_input": "2021-10-05T16:19:17.298602Z",
     "iopub.status.busy": "2021-10-05T16:19:17.297852Z",
     "iopub.status.idle": "2021-10-05T16:19:17.301201Z",
     "shell.execute_reply": "2021-10-05T16:19:17.301635Z",
     "shell.execute_reply.started": "2021-10-05T16:15:22.147725Z"
    },
    "papermill": {
     "duration": 0.061795,
     "end_time": "2021-10-05T16:19:17.301756",
     "exception": false,
     "start_time": "2021-10-05T16:19:17.239961",
     "status": "completed"
    },
    "tags": []
   },
   "outputs": [
    {
     "data": {
      "text/html": [
       "<div>\n",
       "<style scoped>\n",
       "    .dataframe tbody tr th:only-of-type {\n",
       "        vertical-align: middle;\n",
       "    }\n",
       "\n",
       "    .dataframe tbody tr th {\n",
       "        vertical-align: top;\n",
       "    }\n",
       "\n",
       "    .dataframe thead th {\n",
       "        text-align: right;\n",
       "    }\n",
       "</style>\n",
       "<table border=\"1\" class=\"dataframe\">\n",
       "  <thead>\n",
       "    <tr style=\"text-align: right;\">\n",
       "      <th></th>\n",
       "      <th>Age</th>\n",
       "      <th>SibSp</th>\n",
       "      <th>Fare</th>\n",
       "      <th>female</th>\n",
       "      <th>male</th>\n",
       "      <th>C</th>\n",
       "      <th>Q</th>\n",
       "      <th>S</th>\n",
       "    </tr>\n",
       "  </thead>\n",
       "  <tbody>\n",
       "    <tr>\n",
       "      <th>0</th>\n",
       "      <td>0.298549</td>\n",
       "      <td>-0.499470</td>\n",
       "      <td>-0.497811</td>\n",
       "      <td>0</td>\n",
       "      <td>1</td>\n",
       "      <td>0</td>\n",
       "      <td>1</td>\n",
       "      <td>0</td>\n",
       "    </tr>\n",
       "    <tr>\n",
       "      <th>1</th>\n",
       "      <td>1.181328</td>\n",
       "      <td>0.616992</td>\n",
       "      <td>-0.512660</td>\n",
       "      <td>1</td>\n",
       "      <td>0</td>\n",
       "      <td>0</td>\n",
       "      <td>0</td>\n",
       "      <td>1</td>\n",
       "    </tr>\n",
       "    <tr>\n",
       "      <th>2</th>\n",
       "      <td>2.240662</td>\n",
       "      <td>-0.499470</td>\n",
       "      <td>-0.464532</td>\n",
       "      <td>0</td>\n",
       "      <td>1</td>\n",
       "      <td>0</td>\n",
       "      <td>1</td>\n",
       "      <td>0</td>\n",
       "    </tr>\n",
       "    <tr>\n",
       "      <th>3</th>\n",
       "      <td>-0.231118</td>\n",
       "      <td>-0.499470</td>\n",
       "      <td>-0.482888</td>\n",
       "      <td>0</td>\n",
       "      <td>1</td>\n",
       "      <td>0</td>\n",
       "      <td>0</td>\n",
       "      <td>1</td>\n",
       "    </tr>\n",
       "    <tr>\n",
       "      <th>4</th>\n",
       "      <td>-0.584229</td>\n",
       "      <td>0.616992</td>\n",
       "      <td>-0.417971</td>\n",
       "      <td>1</td>\n",
       "      <td>0</td>\n",
       "      <td>0</td>\n",
       "      <td>0</td>\n",
       "      <td>1</td>\n",
       "    </tr>\n",
       "  </tbody>\n",
       "</table>\n",
       "</div>"
      ],
      "text/plain": [
       "        Age     SibSp      Fare  female  male  C  Q  S\n",
       "0  0.298549 -0.499470 -0.497811       0     1  0  1  0\n",
       "1  1.181328  0.616992 -0.512660       1     0  0  0  1\n",
       "2  2.240662 -0.499470 -0.464532       0     1  0  1  0\n",
       "3 -0.231118 -0.499470 -0.482888       0     1  0  0  1\n",
       "4 -0.584229  0.616992 -0.417971       1     0  0  0  1"
      ]
     },
     "execution_count": 25,
     "metadata": {},
     "output_type": "execute_result"
    }
   ],
   "source": [
    "X_test.head()"
   ]
  },
  {
   "cell_type": "markdown",
   "id": "a9c671e7",
   "metadata": {
    "papermill": {
     "duration": 0.046462,
     "end_time": "2021-10-05T16:19:17.397135",
     "exception": false,
     "start_time": "2021-10-05T16:19:17.350673",
     "status": "completed"
    },
    "tags": []
   },
   "source": [
    "Pada cell code di bawah ini, saya memprediksi dari dataset test dengan model XGBClassifier karena XGBClassifier merupakan model yang terbaik"
   ]
  },
  {
   "cell_type": "code",
   "execution_count": 26,
   "id": "162d9d81",
   "metadata": {
    "execution": {
     "iopub.execute_input": "2021-10-05T16:19:17.495366Z",
     "iopub.status.busy": "2021-10-05T16:19:17.493072Z",
     "iopub.status.idle": "2021-10-05T16:19:17.503406Z",
     "shell.execute_reply": "2021-10-05T16:19:17.504160Z",
     "shell.execute_reply.started": "2021-10-05T16:15:37.096342Z"
    },
    "papermill": {
     "duration": 0.061462,
     "end_time": "2021-10-05T16:19:17.504309",
     "exception": false,
     "start_time": "2021-10-05T16:19:17.442847",
     "status": "completed"
    },
    "tags": []
   },
   "outputs": [],
   "source": [
    "predictions=model_XGBClassifier.predict(X_test)"
   ]
  },
  {
   "cell_type": "markdown",
   "id": "7fc2b22a",
   "metadata": {
    "papermill": {
     "duration": 0.046654,
     "end_time": "2021-10-05T16:19:17.597892",
     "exception": false,
     "start_time": "2021-10-05T16:19:17.551238",
     "status": "completed"
    },
    "tags": []
   },
   "source": [
    "Pada cell code di bawah ini, saya menggabungkan id dan hasil prediksi pada semua dataframe baru untuk submission"
   ]
  },
  {
   "cell_type": "code",
   "execution_count": 27,
   "id": "07c1d2f9",
   "metadata": {
    "execution": {
     "iopub.execute_input": "2021-10-05T16:19:17.694611Z",
     "iopub.status.busy": "2021-10-05T16:19:17.693854Z",
     "iopub.status.idle": "2021-10-05T16:19:17.704123Z",
     "shell.execute_reply": "2021-10-05T16:19:17.703680Z",
     "shell.execute_reply.started": "2021-10-05T16:15:38.229798Z"
    },
    "papermill": {
     "duration": 0.060582,
     "end_time": "2021-10-05T16:19:17.704228",
     "exception": false,
     "start_time": "2021-10-05T16:19:17.643646",
     "status": "completed"
    },
    "tags": []
   },
   "outputs": [
    {
     "data": {
      "text/html": [
       "<div>\n",
       "<style scoped>\n",
       "    .dataframe tbody tr th:only-of-type {\n",
       "        vertical-align: middle;\n",
       "    }\n",
       "\n",
       "    .dataframe tbody tr th {\n",
       "        vertical-align: top;\n",
       "    }\n",
       "\n",
       "    .dataframe thead th {\n",
       "        text-align: right;\n",
       "    }\n",
       "</style>\n",
       "<table border=\"1\" class=\"dataframe\">\n",
       "  <thead>\n",
       "    <tr style=\"text-align: right;\">\n",
       "      <th></th>\n",
       "      <th>PassengerId</th>\n",
       "      <th>Survived</th>\n",
       "    </tr>\n",
       "  </thead>\n",
       "  <tbody>\n",
       "    <tr>\n",
       "      <th>0</th>\n",
       "      <td>892</td>\n",
       "      <td>1</td>\n",
       "    </tr>\n",
       "    <tr>\n",
       "      <th>1</th>\n",
       "      <td>893</td>\n",
       "      <td>0</td>\n",
       "    </tr>\n",
       "    <tr>\n",
       "      <th>2</th>\n",
       "      <td>894</td>\n",
       "      <td>0</td>\n",
       "    </tr>\n",
       "    <tr>\n",
       "      <th>3</th>\n",
       "      <td>895</td>\n",
       "      <td>0</td>\n",
       "    </tr>\n",
       "    <tr>\n",
       "      <th>4</th>\n",
       "      <td>896</td>\n",
       "      <td>1</td>\n",
       "    </tr>\n",
       "  </tbody>\n",
       "</table>\n",
       "</div>"
      ],
      "text/plain": [
       "   PassengerId  Survived\n",
       "0          892         1\n",
       "1          893         0\n",
       "2          894         0\n",
       "3          895         0\n",
       "4          896         1"
      ]
     },
     "execution_count": 27,
     "metadata": {},
     "output_type": "execute_result"
    }
   ],
   "source": [
    "output = pd.DataFrame({'PassengerId': data_test.PassengerId,\n",
    "                       'Survived': predictions})\n",
    "output.to_csv('submission.csv', index=False)\n",
    "output.head()"
   ]
  },
  {
   "cell_type": "code",
   "execution_count": null,
   "id": "8496d5c9",
   "metadata": {
    "papermill": {
     "duration": 0.047008,
     "end_time": "2021-10-05T16:19:17.797244",
     "exception": false,
     "start_time": "2021-10-05T16:19:17.750236",
     "status": "completed"
    },
    "tags": []
   },
   "outputs": [],
   "source": []
  }
 ],
 "metadata": {
  "kernelspec": {
   "display_name": "Python 3",
   "language": "python",
   "name": "python3"
  },
  "language_info": {
   "codemirror_mode": {
    "name": "ipython",
    "version": 3
   },
   "file_extension": ".py",
   "mimetype": "text/x-python",
   "name": "python",
   "nbconvert_exporter": "python",
   "pygments_lexer": "ipython3",
   "version": "3.7.10"
  },
  "papermill": {
   "default_parameters": {},
   "duration": 26.629007,
   "end_time": "2021-10-05T16:19:19.598708",
   "environment_variables": {},
   "exception": null,
   "input_path": "__notebook__.ipynb",
   "output_path": "__notebook__.ipynb",
   "parameters": {},
   "start_time": "2021-10-05T16:18:52.969701",
   "version": "2.3.3"
  }
 },
 "nbformat": 4,
 "nbformat_minor": 5
}
