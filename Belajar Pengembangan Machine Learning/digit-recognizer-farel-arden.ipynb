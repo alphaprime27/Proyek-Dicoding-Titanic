{
 "cells": [
  {
   "cell_type": "markdown",
   "id": "8300f150",
   "metadata": {
    "_cell_guid": "b1076dfc-b9ad-4769-8c92-a6c4dae69d19",
    "_uuid": "8f2839f25d086af736a60e9eeb907d3b93b6e0e5",
    "execution": {
     "iopub.execute_input": "2021-09-13T12:34:03.199301Z",
     "iopub.status.busy": "2021-09-13T12:34:03.199014Z",
     "iopub.status.idle": "2021-09-13T12:34:03.213403Z",
     "shell.execute_reply": "2021-09-13T12:34:03.212402Z",
     "shell.execute_reply.started": "2021-09-13T12:34:03.199274Z"
    },
    "papermill": {
     "duration": 0.018093,
     "end_time": "2021-09-13T13:58:08.707555",
     "exception": false,
     "start_time": "2021-09-13T13:58:08.689462",
     "status": "completed"
    },
    "tags": []
   },
   "source": [
    "# Name: Farel Arden"
   ]
  },
  {
   "cell_type": "code",
   "execution_count": 1,
   "id": "07ff4243",
   "metadata": {
    "execution": {
     "iopub.execute_input": "2021-09-13T13:58:08.747569Z",
     "iopub.status.busy": "2021-09-13T13:58:08.746061Z",
     "iopub.status.idle": "2021-09-13T13:58:13.864261Z",
     "shell.execute_reply": "2021-09-13T13:58:13.864813Z",
     "shell.execute_reply.started": "2021-09-13T13:50:53.125877Z"
    },
    "papermill": {
     "duration": 5.139759,
     "end_time": "2021-09-13T13:58:13.865145",
     "exception": false,
     "start_time": "2021-09-13T13:58:08.725386",
     "status": "completed"
    },
    "tags": []
   },
   "outputs": [
    {
     "name": "stderr",
     "output_type": "stream",
     "text": [
      "2021-09-13 13:58:10.013990: I tensorflow/stream_executor/platform/default/dso_loader.cc:49] Successfully opened dynamic library libcudart.so.11.0\n"
     ]
    },
    {
     "name": "stdout",
     "output_type": "stream",
     "text": [
      "/kaggle/input/digit-recognizer/sample_submission.csv\n",
      "/kaggle/input/digit-recognizer/train.csv\n",
      "/kaggle/input/digit-recognizer/test.csv\n"
     ]
    }
   ],
   "source": [
    "# This Python 3 environment comes with many helpful analytics libraries installed\n",
    "# It is defined by the kaggle/python Docker image: https://github.com/kaggle/docker-python\n",
    "# For example, here's several helpful packages to load\n",
    "\n",
    "import pandas as pd\n",
    "import numpy as np\n",
    "import matplotlib.pyplot as plt\n",
    "import matplotlib.image as mpimg\n",
    "import seaborn as sns\n",
    "%matplotlib inline\n",
    "from tensorflow.keras.utils import to_categorical\n",
    "\n",
    "from sklearn.model_selection import train_test_split\n",
    "from tensorflow.keras.models import Sequential\n",
    "from tensorflow.keras.layers import Conv2D, Flatten, Dense, Dropout, MaxPooling2D, BatchNormalization\n",
    "\n",
    "from tensorflow.keras.callbacks import EarlyStopping, ModelCheckpoint, ReduceLROnPlateau\n",
    "from tensorflow.keras import regularizers, optimizers\n",
    "# Input data files are available in the read-only \"../input/\" directory\n",
    "# For example, running this (by clicking run or pressing Shift+Enter) will list all files under the input directory\n",
    "\n",
    "import os\n",
    "for dirname, _, filenames in os.walk('/kaggle/input'):\n",
    "    for filename in filenames:\n",
    "        print(os.path.join(dirname, filename))\n",
    "\n",
    "# You can write up to 20GB to the current directory (/kaggle/working/) that gets preserved as output when you create a version using \"Save & Run All\" \n",
    "# You can also write temporary files to /kaggle/temp/, but they won't be saved outside of the current session"
   ]
  },
  {
   "cell_type": "code",
   "execution_count": 2,
   "id": "4b22b394",
   "metadata": {
    "execution": {
     "iopub.execute_input": "2021-09-13T13:58:13.908613Z",
     "iopub.status.busy": "2021-09-13T13:58:13.907940Z",
     "iopub.status.idle": "2021-09-13T13:58:19.185389Z",
     "shell.execute_reply": "2021-09-13T13:58:19.184523Z",
     "shell.execute_reply.started": "2021-09-13T13:50:53.146134Z"
    },
    "papermill": {
     "duration": 5.300753,
     "end_time": "2021-09-13T13:58:19.185529",
     "exception": false,
     "start_time": "2021-09-13T13:58:13.884776",
     "status": "completed"
    },
    "tags": []
   },
   "outputs": [],
   "source": [
    "train_data=pd.read_csv(\"../input/digit-recognizer/train.csv\")\n",
    "test_data=pd.read_csv(\"../input/digit-recognizer/test.csv\")\n",
    "sample_submission=pd.read_csv(\"../input/digit-recognizer/sample_submission.csv\")"
   ]
  },
  {
   "cell_type": "code",
   "execution_count": 3,
   "id": "28d7c98c",
   "metadata": {
    "execution": {
     "iopub.execute_input": "2021-09-13T13:58:19.231640Z",
     "iopub.status.busy": "2021-09-13T13:58:19.230853Z",
     "iopub.status.idle": "2021-09-13T13:58:19.253276Z",
     "shell.execute_reply": "2021-09-13T13:58:19.253671Z",
     "shell.execute_reply.started": "2021-09-13T13:50:56.863286Z"
    },
    "papermill": {
     "duration": 0.049712,
     "end_time": "2021-09-13T13:58:19.253793",
     "exception": false,
     "start_time": "2021-09-13T13:58:19.204081",
     "status": "completed"
    },
    "tags": []
   },
   "outputs": [
    {
     "data": {
      "text/html": [
       "<div>\n",
       "<style scoped>\n",
       "    .dataframe tbody tr th:only-of-type {\n",
       "        vertical-align: middle;\n",
       "    }\n",
       "\n",
       "    .dataframe tbody tr th {\n",
       "        vertical-align: top;\n",
       "    }\n",
       "\n",
       "    .dataframe thead th {\n",
       "        text-align: right;\n",
       "    }\n",
       "</style>\n",
       "<table border=\"1\" class=\"dataframe\">\n",
       "  <thead>\n",
       "    <tr style=\"text-align: right;\">\n",
       "      <th></th>\n",
       "      <th>label</th>\n",
       "      <th>pixel0</th>\n",
       "      <th>pixel1</th>\n",
       "      <th>pixel2</th>\n",
       "      <th>pixel3</th>\n",
       "      <th>pixel4</th>\n",
       "      <th>pixel5</th>\n",
       "      <th>pixel6</th>\n",
       "      <th>pixel7</th>\n",
       "      <th>pixel8</th>\n",
       "      <th>...</th>\n",
       "      <th>pixel774</th>\n",
       "      <th>pixel775</th>\n",
       "      <th>pixel776</th>\n",
       "      <th>pixel777</th>\n",
       "      <th>pixel778</th>\n",
       "      <th>pixel779</th>\n",
       "      <th>pixel780</th>\n",
       "      <th>pixel781</th>\n",
       "      <th>pixel782</th>\n",
       "      <th>pixel783</th>\n",
       "    </tr>\n",
       "  </thead>\n",
       "  <tbody>\n",
       "    <tr>\n",
       "      <th>0</th>\n",
       "      <td>1</td>\n",
       "      <td>0</td>\n",
       "      <td>0</td>\n",
       "      <td>0</td>\n",
       "      <td>0</td>\n",
       "      <td>0</td>\n",
       "      <td>0</td>\n",
       "      <td>0</td>\n",
       "      <td>0</td>\n",
       "      <td>0</td>\n",
       "      <td>...</td>\n",
       "      <td>0</td>\n",
       "      <td>0</td>\n",
       "      <td>0</td>\n",
       "      <td>0</td>\n",
       "      <td>0</td>\n",
       "      <td>0</td>\n",
       "      <td>0</td>\n",
       "      <td>0</td>\n",
       "      <td>0</td>\n",
       "      <td>0</td>\n",
       "    </tr>\n",
       "    <tr>\n",
       "      <th>1</th>\n",
       "      <td>0</td>\n",
       "      <td>0</td>\n",
       "      <td>0</td>\n",
       "      <td>0</td>\n",
       "      <td>0</td>\n",
       "      <td>0</td>\n",
       "      <td>0</td>\n",
       "      <td>0</td>\n",
       "      <td>0</td>\n",
       "      <td>0</td>\n",
       "      <td>...</td>\n",
       "      <td>0</td>\n",
       "      <td>0</td>\n",
       "      <td>0</td>\n",
       "      <td>0</td>\n",
       "      <td>0</td>\n",
       "      <td>0</td>\n",
       "      <td>0</td>\n",
       "      <td>0</td>\n",
       "      <td>0</td>\n",
       "      <td>0</td>\n",
       "    </tr>\n",
       "    <tr>\n",
       "      <th>2</th>\n",
       "      <td>1</td>\n",
       "      <td>0</td>\n",
       "      <td>0</td>\n",
       "      <td>0</td>\n",
       "      <td>0</td>\n",
       "      <td>0</td>\n",
       "      <td>0</td>\n",
       "      <td>0</td>\n",
       "      <td>0</td>\n",
       "      <td>0</td>\n",
       "      <td>...</td>\n",
       "      <td>0</td>\n",
       "      <td>0</td>\n",
       "      <td>0</td>\n",
       "      <td>0</td>\n",
       "      <td>0</td>\n",
       "      <td>0</td>\n",
       "      <td>0</td>\n",
       "      <td>0</td>\n",
       "      <td>0</td>\n",
       "      <td>0</td>\n",
       "    </tr>\n",
       "    <tr>\n",
       "      <th>3</th>\n",
       "      <td>4</td>\n",
       "      <td>0</td>\n",
       "      <td>0</td>\n",
       "      <td>0</td>\n",
       "      <td>0</td>\n",
       "      <td>0</td>\n",
       "      <td>0</td>\n",
       "      <td>0</td>\n",
       "      <td>0</td>\n",
       "      <td>0</td>\n",
       "      <td>...</td>\n",
       "      <td>0</td>\n",
       "      <td>0</td>\n",
       "      <td>0</td>\n",
       "      <td>0</td>\n",
       "      <td>0</td>\n",
       "      <td>0</td>\n",
       "      <td>0</td>\n",
       "      <td>0</td>\n",
       "      <td>0</td>\n",
       "      <td>0</td>\n",
       "    </tr>\n",
       "    <tr>\n",
       "      <th>4</th>\n",
       "      <td>0</td>\n",
       "      <td>0</td>\n",
       "      <td>0</td>\n",
       "      <td>0</td>\n",
       "      <td>0</td>\n",
       "      <td>0</td>\n",
       "      <td>0</td>\n",
       "      <td>0</td>\n",
       "      <td>0</td>\n",
       "      <td>0</td>\n",
       "      <td>...</td>\n",
       "      <td>0</td>\n",
       "      <td>0</td>\n",
       "      <td>0</td>\n",
       "      <td>0</td>\n",
       "      <td>0</td>\n",
       "      <td>0</td>\n",
       "      <td>0</td>\n",
       "      <td>0</td>\n",
       "      <td>0</td>\n",
       "      <td>0</td>\n",
       "    </tr>\n",
       "  </tbody>\n",
       "</table>\n",
       "<p>5 rows × 785 columns</p>\n",
       "</div>"
      ],
      "text/plain": [
       "   label  pixel0  pixel1  pixel2  pixel3  pixel4  pixel5  pixel6  pixel7  \\\n",
       "0      1       0       0       0       0       0       0       0       0   \n",
       "1      0       0       0       0       0       0       0       0       0   \n",
       "2      1       0       0       0       0       0       0       0       0   \n",
       "3      4       0       0       0       0       0       0       0       0   \n",
       "4      0       0       0       0       0       0       0       0       0   \n",
       "\n",
       "   pixel8  ...  pixel774  pixel775  pixel776  pixel777  pixel778  pixel779  \\\n",
       "0       0  ...         0         0         0         0         0         0   \n",
       "1       0  ...         0         0         0         0         0         0   \n",
       "2       0  ...         0         0         0         0         0         0   \n",
       "3       0  ...         0         0         0         0         0         0   \n",
       "4       0  ...         0         0         0         0         0         0   \n",
       "\n",
       "   pixel780  pixel781  pixel782  pixel783  \n",
       "0         0         0         0         0  \n",
       "1         0         0         0         0  \n",
       "2         0         0         0         0  \n",
       "3         0         0         0         0  \n",
       "4         0         0         0         0  \n",
       "\n",
       "[5 rows x 785 columns]"
      ]
     },
     "execution_count": 3,
     "metadata": {},
     "output_type": "execute_result"
    }
   ],
   "source": [
    "train_data.head()"
   ]
  },
  {
   "cell_type": "code",
   "execution_count": 4,
   "id": "8a04147f",
   "metadata": {
    "execution": {
     "iopub.execute_input": "2021-09-13T13:58:19.296406Z",
     "iopub.status.busy": "2021-09-13T13:58:19.295780Z",
     "iopub.status.idle": "2021-09-13T13:58:19.298363Z",
     "shell.execute_reply": "2021-09-13T13:58:19.298760Z",
     "shell.execute_reply.started": "2021-09-13T13:50:56.886195Z"
    },
    "papermill": {
     "duration": 0.025469,
     "end_time": "2021-09-13T13:58:19.298876",
     "exception": false,
     "start_time": "2021-09-13T13:58:19.273407",
     "status": "completed"
    },
    "tags": []
   },
   "outputs": [
    {
     "data": {
      "text/plain": [
       "(42000, 785)"
      ]
     },
     "execution_count": 4,
     "metadata": {},
     "output_type": "execute_result"
    }
   ],
   "source": [
    "train_data.shape"
   ]
  },
  {
   "cell_type": "code",
   "execution_count": 5,
   "id": "3864165c",
   "metadata": {
    "execution": {
     "iopub.execute_input": "2021-09-13T13:58:19.341308Z",
     "iopub.status.busy": "2021-09-13T13:58:19.339848Z",
     "iopub.status.idle": "2021-09-13T13:58:19.353517Z",
     "shell.execute_reply": "2021-09-13T13:58:19.353877Z",
     "shell.execute_reply.started": "2021-09-13T13:50:56.893502Z"
    },
    "papermill": {
     "duration": 0.036372,
     "end_time": "2021-09-13T13:58:19.354003",
     "exception": false,
     "start_time": "2021-09-13T13:58:19.317631",
     "status": "completed"
    },
    "tags": []
   },
   "outputs": [
    {
     "data": {
      "text/plain": [
       "label       False\n",
       "pixel0      False\n",
       "pixel1      False\n",
       "pixel2      False\n",
       "pixel3      False\n",
       "            ...  \n",
       "pixel779    False\n",
       "pixel780    False\n",
       "pixel781    False\n",
       "pixel782    False\n",
       "pixel783    False\n",
       "Length: 785, dtype: bool"
      ]
     },
     "execution_count": 5,
     "metadata": {},
     "output_type": "execute_result"
    }
   ],
   "source": [
    "train_data.isnull().any()"
   ]
  },
  {
   "cell_type": "code",
   "execution_count": 6,
   "id": "f5937864",
   "metadata": {
    "execution": {
     "iopub.execute_input": "2021-09-13T13:58:19.474670Z",
     "iopub.status.busy": "2021-09-13T13:58:19.472956Z",
     "iopub.status.idle": "2021-09-13T13:58:19.476703Z",
     "shell.execute_reply": "2021-09-13T13:58:19.477075Z",
     "shell.execute_reply.started": "2021-09-13T13:50:56.914909Z"
    },
    "papermill": {
     "duration": 0.104343,
     "end_time": "2021-09-13T13:58:19.477223",
     "exception": false,
     "start_time": "2021-09-13T13:58:19.372880",
     "status": "completed"
    },
    "tags": []
   },
   "outputs": [],
   "source": [
    "y = train_data[\"label\"]\n",
    "x = train_data.drop(labels = [\"label\"],axis = 1) "
   ]
  },
  {
   "cell_type": "code",
   "execution_count": 7,
   "id": "fb4e4ae5",
   "metadata": {
    "execution": {
     "iopub.execute_input": "2021-09-13T13:58:19.521636Z",
     "iopub.status.busy": "2021-09-13T13:58:19.519997Z",
     "iopub.status.idle": "2021-09-13T13:58:19.522327Z",
     "shell.execute_reply": "2021-09-13T13:58:19.522722Z",
     "shell.execute_reply.started": "2021-09-13T13:50:56.999579Z"
    },
    "papermill": {
     "duration": 0.026341,
     "end_time": "2021-09-13T13:58:19.522843",
     "exception": false,
     "start_time": "2021-09-13T13:58:19.496502",
     "status": "completed"
    },
    "tags": []
   },
   "outputs": [],
   "source": [
    "x = x.values.reshape(-1,28,28,1)\n",
    "test_data = test_data.values.reshape(-1,28,28,1)"
   ]
  },
  {
   "cell_type": "code",
   "execution_count": 8,
   "id": "15a966db",
   "metadata": {
    "execution": {
     "iopub.execute_input": "2021-09-13T13:58:19.564901Z",
     "iopub.status.busy": "2021-09-13T13:58:19.563994Z",
     "iopub.status.idle": "2021-09-13T13:58:19.734504Z",
     "shell.execute_reply": "2021-09-13T13:58:19.734931Z",
     "shell.execute_reply.started": "2021-09-13T13:50:57.008404Z"
    },
    "papermill": {
     "duration": 0.193422,
     "end_time": "2021-09-13T13:58:19.735214",
     "exception": false,
     "start_time": "2021-09-13T13:58:19.541792",
     "status": "completed"
    },
    "tags": []
   },
   "outputs": [],
   "source": [
    "x = x / 255.0\n",
    "x_test = test_data / 255.0"
   ]
  },
  {
   "cell_type": "code",
   "execution_count": 9,
   "id": "cc0c1399",
   "metadata": {
    "execution": {
     "iopub.execute_input": "2021-09-13T13:58:19.779595Z",
     "iopub.status.busy": "2021-09-13T13:58:19.778865Z",
     "iopub.status.idle": "2021-09-13T13:58:19.783467Z",
     "shell.execute_reply": "2021-09-13T13:58:19.783015Z",
     "shell.execute_reply.started": "2021-09-13T13:50:57.186643Z"
    },
    "papermill": {
     "duration": 0.027996,
     "end_time": "2021-09-13T13:58:19.783585",
     "exception": false,
     "start_time": "2021-09-13T13:58:19.755589",
     "status": "completed"
    },
    "tags": []
   },
   "outputs": [],
   "source": [
    "y = to_categorical(y, num_classes=10)"
   ]
  },
  {
   "cell_type": "code",
   "execution_count": 10,
   "id": "f2c7dcbe",
   "metadata": {
    "execution": {
     "iopub.execute_input": "2021-09-13T13:58:19.829387Z",
     "iopub.status.busy": "2021-09-13T13:58:19.828542Z",
     "iopub.status.idle": "2021-09-13T13:58:19.830684Z",
     "shell.execute_reply": "2021-09-13T13:58:19.831067Z",
     "shell.execute_reply.started": "2021-09-13T13:50:57.196888Z"
    },
    "papermill": {
     "duration": 0.027765,
     "end_time": "2021-09-13T13:58:19.831186",
     "exception": false,
     "start_time": "2021-09-13T13:58:19.803421",
     "status": "completed"
    },
    "tags": []
   },
   "outputs": [],
   "source": [
    "import tensorflow as tf\n",
    "class myCallback(tf.keras.callbacks.Callback):\n",
    "  def on_epoch_end(self, epoch, logs={}):\n",
    "    if(logs.get('accuracy')>0.98):\n",
    "      print(\"\\nThe accuracy has reached 99%!\")\n",
    "      self.model.stop_training = True\n",
    "callbacks = myCallback()"
   ]
  },
  {
   "cell_type": "markdown",
   "id": "d027801b",
   "metadata": {
    "papermill": {
     "duration": 0.018591,
     "end_time": "2021-09-13T13:58:19.869476",
     "exception": false,
     "start_time": "2021-09-13T13:58:19.850885",
     "status": "completed"
    },
    "tags": []
   },
   "source": [
    "## Training and Building the model"
   ]
  },
  {
   "cell_type": "code",
   "execution_count": 11,
   "id": "5d78807a",
   "metadata": {
    "execution": {
     "iopub.execute_input": "2021-09-13T13:58:19.911124Z",
     "iopub.status.busy": "2021-09-13T13:58:19.910609Z",
     "iopub.status.idle": "2021-09-13T13:58:19.914075Z",
     "shell.execute_reply": "2021-09-13T13:58:19.913675Z",
     "shell.execute_reply.started": "2021-09-13T13:50:57.204328Z"
    },
    "papermill": {
     "duration": 0.025944,
     "end_time": "2021-09-13T13:58:19.914191",
     "exception": false,
     "start_time": "2021-09-13T13:58:19.888247",
     "status": "completed"
    },
    "tags": []
   },
   "outputs": [],
   "source": [
    "# model = Sequential()\n",
    "# model.add(Conv2D(filters=32, kernel_size=3, activation=\"relu\", input_shape=(28, 28, 1)))\n",
    "# model.add(Conv2D(filters=32, kernel_size=3, activation=\"relu\"))\n",
    "# model.add(Flatten())\n",
    "# model.add(Dense(128, activation=\"relu\"))\n",
    "# model.add(Dense(10, activation=\"softmax\"))"
   ]
  },
  {
   "cell_type": "code",
   "execution_count": 12,
   "id": "74437493",
   "metadata": {
    "execution": {
     "iopub.execute_input": "2021-09-13T13:58:19.957903Z",
     "iopub.status.busy": "2021-09-13T13:58:19.957403Z",
     "iopub.status.idle": "2021-09-13T13:58:21.797394Z",
     "shell.execute_reply": "2021-09-13T13:58:21.797814Z",
     "shell.execute_reply.started": "2021-09-13T13:50:57.215928Z"
    },
    "papermill": {
     "duration": 1.864462,
     "end_time": "2021-09-13T13:58:21.797973",
     "exception": false,
     "start_time": "2021-09-13T13:58:19.933511",
     "status": "completed"
    },
    "tags": []
   },
   "outputs": [
    {
     "name": "stderr",
     "output_type": "stream",
     "text": [
      "2021-09-13 13:58:19.975838: I tensorflow/compiler/jit/xla_cpu_device.cc:41] Not creating XLA devices, tf_xla_enable_xla_devices not set\n",
      "2021-09-13 13:58:19.979165: I tensorflow/stream_executor/platform/default/dso_loader.cc:49] Successfully opened dynamic library libcuda.so.1\n",
      "2021-09-13 13:58:20.019321: I tensorflow/stream_executor/cuda/cuda_gpu_executor.cc:941] successful NUMA node read from SysFS had negative value (-1), but there must be at least one NUMA node, so returning NUMA node zero\n",
      "2021-09-13 13:58:20.019943: I tensorflow/core/common_runtime/gpu/gpu_device.cc:1720] Found device 0 with properties: \n",
      "pciBusID: 0000:00:04.0 name: Tesla P100-PCIE-16GB computeCapability: 6.0\n",
      "coreClock: 1.3285GHz coreCount: 56 deviceMemorySize: 15.90GiB deviceMemoryBandwidth: 681.88GiB/s\n",
      "2021-09-13 13:58:20.020012: I tensorflow/stream_executor/platform/default/dso_loader.cc:49] Successfully opened dynamic library libcudart.so.11.0\n",
      "2021-09-13 13:58:20.042510: I tensorflow/stream_executor/platform/default/dso_loader.cc:49] Successfully opened dynamic library libcublas.so.11\n",
      "2021-09-13 13:58:20.042602: I tensorflow/stream_executor/platform/default/dso_loader.cc:49] Successfully opened dynamic library libcublasLt.so.11\n",
      "2021-09-13 13:58:20.057307: I tensorflow/stream_executor/platform/default/dso_loader.cc:49] Successfully opened dynamic library libcufft.so.10\n",
      "2021-09-13 13:58:20.077938: I tensorflow/stream_executor/platform/default/dso_loader.cc:49] Successfully opened dynamic library libcurand.so.10\n",
      "2021-09-13 13:58:20.107482: I tensorflow/stream_executor/platform/default/dso_loader.cc:49] Successfully opened dynamic library libcusolver.so.10\n",
      "2021-09-13 13:58:20.121745: I tensorflow/stream_executor/platform/default/dso_loader.cc:49] Successfully opened dynamic library libcusparse.so.11\n",
      "2021-09-13 13:58:20.124210: I tensorflow/stream_executor/platform/default/dso_loader.cc:49] Successfully opened dynamic library libcudnn.so.8\n",
      "2021-09-13 13:58:20.124408: I tensorflow/stream_executor/cuda/cuda_gpu_executor.cc:941] successful NUMA node read from SysFS had negative value (-1), but there must be at least one NUMA node, so returning NUMA node zero\n",
      "2021-09-13 13:58:20.125078: I tensorflow/stream_executor/cuda/cuda_gpu_executor.cc:941] successful NUMA node read from SysFS had negative value (-1), but there must be at least one NUMA node, so returning NUMA node zero\n",
      "2021-09-13 13:58:20.126515: I tensorflow/core/common_runtime/gpu/gpu_device.cc:1862] Adding visible gpu devices: 0\n",
      "2021-09-13 13:58:20.127003: I tensorflow/core/platform/cpu_feature_guard.cc:142] This TensorFlow binary is optimized with oneAPI Deep Neural Network Library (oneDNN) to use the following CPU instructions in performance-critical operations:  AVX2 AVX512F FMA\n",
      "To enable them in other operations, rebuild TensorFlow with the appropriate compiler flags.\n",
      "2021-09-13 13:58:20.127361: I tensorflow/compiler/jit/xla_gpu_device.cc:99] Not creating XLA devices, tf_xla_enable_xla_devices not set\n",
      "2021-09-13 13:58:20.127549: I tensorflow/stream_executor/cuda/cuda_gpu_executor.cc:941] successful NUMA node read from SysFS had negative value (-1), but there must be at least one NUMA node, so returning NUMA node zero\n",
      "2021-09-13 13:58:20.128225: I tensorflow/core/common_runtime/gpu/gpu_device.cc:1720] Found device 0 with properties: \n",
      "pciBusID: 0000:00:04.0 name: Tesla P100-PCIE-16GB computeCapability: 6.0\n",
      "coreClock: 1.3285GHz coreCount: 56 deviceMemorySize: 15.90GiB deviceMemoryBandwidth: 681.88GiB/s\n",
      "2021-09-13 13:58:20.128287: I tensorflow/stream_executor/platform/default/dso_loader.cc:49] Successfully opened dynamic library libcudart.so.11.0\n",
      "2021-09-13 13:58:20.128314: I tensorflow/stream_executor/platform/default/dso_loader.cc:49] Successfully opened dynamic library libcublas.so.11\n",
      "2021-09-13 13:58:20.128332: I tensorflow/stream_executor/platform/default/dso_loader.cc:49] Successfully opened dynamic library libcublasLt.so.11\n",
      "2021-09-13 13:58:20.128349: I tensorflow/stream_executor/platform/default/dso_loader.cc:49] Successfully opened dynamic library libcufft.so.10\n",
      "2021-09-13 13:58:20.128366: I tensorflow/stream_executor/platform/default/dso_loader.cc:49] Successfully opened dynamic library libcurand.so.10\n",
      "2021-09-13 13:58:20.128383: I tensorflow/stream_executor/platform/default/dso_loader.cc:49] Successfully opened dynamic library libcusolver.so.10\n",
      "2021-09-13 13:58:20.128402: I tensorflow/stream_executor/platform/default/dso_loader.cc:49] Successfully opened dynamic library libcusparse.so.11\n",
      "2021-09-13 13:58:20.128419: I tensorflow/stream_executor/platform/default/dso_loader.cc:49] Successfully opened dynamic library libcudnn.so.8\n",
      "2021-09-13 13:58:20.128508: I tensorflow/stream_executor/cuda/cuda_gpu_executor.cc:941] successful NUMA node read from SysFS had negative value (-1), but there must be at least one NUMA node, so returning NUMA node zero\n",
      "2021-09-13 13:58:20.129132: I tensorflow/stream_executor/cuda/cuda_gpu_executor.cc:941] successful NUMA node read from SysFS had negative value (-1), but there must be at least one NUMA node, so returning NUMA node zero\n",
      "2021-09-13 13:58:20.129672: I tensorflow/core/common_runtime/gpu/gpu_device.cc:1862] Adding visible gpu devices: 0\n",
      "2021-09-13 13:58:20.130667: I tensorflow/stream_executor/platform/default/dso_loader.cc:49] Successfully opened dynamic library libcudart.so.11.0\n",
      "2021-09-13 13:58:21.427506: I tensorflow/core/common_runtime/gpu/gpu_device.cc:1261] Device interconnect StreamExecutor with strength 1 edge matrix:\n",
      "2021-09-13 13:58:21.427556: I tensorflow/core/common_runtime/gpu/gpu_device.cc:1267]      0 \n",
      "2021-09-13 13:58:21.427566: I tensorflow/core/common_runtime/gpu/gpu_device.cc:1280] 0:   N \n",
      "2021-09-13 13:58:21.429840: I tensorflow/stream_executor/cuda/cuda_gpu_executor.cc:941] successful NUMA node read from SysFS had negative value (-1), but there must be at least one NUMA node, so returning NUMA node zero\n",
      "2021-09-13 13:58:21.430605: I tensorflow/stream_executor/cuda/cuda_gpu_executor.cc:941] successful NUMA node read from SysFS had negative value (-1), but there must be at least one NUMA node, so returning NUMA node zero\n",
      "2021-09-13 13:58:21.431260: I tensorflow/stream_executor/cuda/cuda_gpu_executor.cc:941] successful NUMA node read from SysFS had negative value (-1), but there must be at least one NUMA node, so returning NUMA node zero\n",
      "2021-09-13 13:58:21.431887: I tensorflow/core/common_runtime/gpu/gpu_device.cc:1406] Created TensorFlow device (/job:localhost/replica:0/task:0/device:GPU:0 with 14957 MB memory) -> physical GPU (device: 0, name: Tesla P100-PCIE-16GB, pci bus id: 0000:00:04.0, compute capability: 6.0)\n"
     ]
    }
   ],
   "source": [
    "model = tf.keras.Sequential([\n",
    "    tf.keras.layers.Conv2D(filters=32, kernel_size=3, activation=\"relu\", input_shape=(28, 28, 1)),\n",
    "    tf.keras.layers.Conv2D(filters=32, kernel_size=3, activation=\"relu\"),\n",
    "    tf.keras.layers.Flatten(),\n",
    "    tf.keras.layers.Dense(128, activation=\"relu\"),\n",
    "    tf.keras.layers.Dense(10, activation=\"softmax\")\n",
    "])"
   ]
  },
  {
   "cell_type": "code",
   "execution_count": 13,
   "id": "7c26eb0f",
   "metadata": {
    "execution": {
     "iopub.execute_input": "2021-09-13T13:58:21.842772Z",
     "iopub.status.busy": "2021-09-13T13:58:21.841856Z",
     "iopub.status.idle": "2021-09-13T13:58:21.844836Z",
     "shell.execute_reply": "2021-09-13T13:58:21.845243Z",
     "shell.execute_reply.started": "2021-09-13T13:50:57.259257Z"
    },
    "papermill": {
     "duration": 0.027928,
     "end_time": "2021-09-13T13:58:21.845367",
     "exception": false,
     "start_time": "2021-09-13T13:58:21.817439",
     "status": "completed"
    },
    "tags": []
   },
   "outputs": [
    {
     "data": {
      "text/plain": [
       "(42000, 28, 28, 1)"
      ]
     },
     "execution_count": 13,
     "metadata": {},
     "output_type": "execute_result"
    }
   ],
   "source": [
    "x.shape"
   ]
  },
  {
   "cell_type": "code",
   "execution_count": 14,
   "id": "61d47e39",
   "metadata": {
    "execution": {
     "iopub.execute_input": "2021-09-13T13:58:21.888621Z",
     "iopub.status.busy": "2021-09-13T13:58:21.887933Z",
     "iopub.status.idle": "2021-09-13T13:58:21.890573Z",
     "shell.execute_reply": "2021-09-13T13:58:21.891022Z",
     "shell.execute_reply.started": "2021-09-13T13:50:57.266005Z"
    },
    "papermill": {
     "duration": 0.02643,
     "end_time": "2021-09-13T13:58:21.891170",
     "exception": false,
     "start_time": "2021-09-13T13:58:21.864740",
     "status": "completed"
    },
    "tags": []
   },
   "outputs": [
    {
     "data": {
      "text/plain": [
       "(42000, 10)"
      ]
     },
     "execution_count": 14,
     "metadata": {},
     "output_type": "execute_result"
    }
   ],
   "source": [
    "y.shape"
   ]
  },
  {
   "cell_type": "code",
   "execution_count": 15,
   "id": "2e2860da",
   "metadata": {
    "execution": {
     "iopub.execute_input": "2021-09-13T13:58:21.936009Z",
     "iopub.status.busy": "2021-09-13T13:58:21.935212Z",
     "iopub.status.idle": "2021-09-13T13:58:22.312990Z",
     "shell.execute_reply": "2021-09-13T13:58:22.312499Z",
     "shell.execute_reply.started": "2021-09-13T13:50:57.275411Z"
    },
    "papermill": {
     "duration": 0.402228,
     "end_time": "2021-09-13T13:58:22.313117",
     "exception": false,
     "start_time": "2021-09-13T13:58:21.910889",
     "status": "completed"
    },
    "tags": []
   },
   "outputs": [],
   "source": [
    "x_train, x_valid, y_train, y_valid = train_test_split(x, y, test_size=0.2)"
   ]
  },
  {
   "cell_type": "code",
   "execution_count": 16,
   "id": "4757a720",
   "metadata": {
    "execution": {
     "iopub.execute_input": "2021-09-13T13:58:22.362786Z",
     "iopub.status.busy": "2021-09-13T13:58:22.362131Z",
     "iopub.status.idle": "2021-09-13T13:58:22.364928Z",
     "shell.execute_reply": "2021-09-13T13:58:22.365440Z",
     "shell.execute_reply.started": "2021-09-13T13:50:57.642835Z"
    },
    "papermill": {
     "duration": 0.029115,
     "end_time": "2021-09-13T13:58:22.365578",
     "exception": false,
     "start_time": "2021-09-13T13:58:22.336463",
     "status": "completed"
    },
    "tags": []
   },
   "outputs": [
    {
     "data": {
      "text/plain": [
       "(33600, 28, 28, 1)"
      ]
     },
     "execution_count": 16,
     "metadata": {},
     "output_type": "execute_result"
    }
   ],
   "source": [
    "x_train.shape"
   ]
  },
  {
   "cell_type": "code",
   "execution_count": 17,
   "id": "c6572c91",
   "metadata": {
    "execution": {
     "iopub.execute_input": "2021-09-13T13:58:22.412179Z",
     "iopub.status.busy": "2021-09-13T13:58:22.411268Z",
     "iopub.status.idle": "2021-09-13T13:58:22.414626Z",
     "shell.execute_reply": "2021-09-13T13:58:22.415046Z",
     "shell.execute_reply.started": "2021-09-13T13:50:57.654675Z"
    },
    "papermill": {
     "duration": 0.028529,
     "end_time": "2021-09-13T13:58:22.415191",
     "exception": false,
     "start_time": "2021-09-13T13:58:22.386662",
     "status": "completed"
    },
    "tags": []
   },
   "outputs": [
    {
     "data": {
      "text/plain": [
       "(33600, 10)"
      ]
     },
     "execution_count": 17,
     "metadata": {},
     "output_type": "execute_result"
    }
   ],
   "source": [
    "y_train.shape"
   ]
  },
  {
   "cell_type": "code",
   "execution_count": 18,
   "id": "0d574ef5",
   "metadata": {
    "execution": {
     "iopub.execute_input": "2021-09-13T13:58:22.472690Z",
     "iopub.status.busy": "2021-09-13T13:58:22.464815Z",
     "iopub.status.idle": "2021-09-13T13:58:34.703811Z",
     "shell.execute_reply": "2021-09-13T13:58:34.703337Z",
     "shell.execute_reply.started": "2021-09-13T13:50:57.663153Z"
    },
    "papermill": {
     "duration": 12.267181,
     "end_time": "2021-09-13T13:58:34.703950",
     "exception": false,
     "start_time": "2021-09-13T13:58:22.436769",
     "status": "completed"
    },
    "tags": []
   },
   "outputs": [
    {
     "name": "stderr",
     "output_type": "stream",
     "text": [
      "2021-09-13 13:58:22.806190: I tensorflow/compiler/mlir/mlir_graph_optimization_pass.cc:116] None of the MLIR optimization passes are enabled (registered 2)\n",
      "2021-09-13 13:58:22.816946: I tensorflow/core/platform/profile_utils/cpu_utils.cc:112] CPU Frequency: 2000185000 Hz\n"
     ]
    },
    {
     "name": "stdout",
     "output_type": "stream",
     "text": [
      "Epoch 1/10\n"
     ]
    },
    {
     "name": "stderr",
     "output_type": "stream",
     "text": [
      "2021-09-13 13:58:23.278351: I tensorflow/stream_executor/platform/default/dso_loader.cc:49] Successfully opened dynamic library libcublas.so.11\n",
      "2021-09-13 13:58:24.034832: I tensorflow/stream_executor/platform/default/dso_loader.cc:49] Successfully opened dynamic library libcublasLt.so.11\n",
      "2021-09-13 13:58:24.045534: I tensorflow/stream_executor/platform/default/dso_loader.cc:49] Successfully opened dynamic library libcudnn.so.8\n"
     ]
    },
    {
     "name": "stdout",
     "output_type": "stream",
     "text": [
      "1050/1050 - 9s - loss: 0.1462 - accuracy: 0.9550 - val_loss: 0.0677 - val_accuracy: 0.9792\n",
      "Epoch 2/10\n",
      "1050/1050 - 2s - loss: 0.0401 - accuracy: 0.9870 - val_loss: 0.0625 - val_accuracy: 0.9829\n",
      "\n",
      "The accuracy has reached 99%!\n"
     ]
    }
   ],
   "source": [
    "model.compile(loss=\"categorical_crossentropy\", metrics=[\"accuracy\"], optimizer=\"adam\")\n",
    "\n",
    "history = model.fit(x_train, y_train, epochs=10, \n",
    "                    validation_data=(x_valid, y_valid), verbose=2, callbacks=[callbacks],batch_size=32)"
   ]
  },
  {
   "cell_type": "markdown",
   "id": "0a83a43e",
   "metadata": {
    "papermill": {
     "duration": 0.02319,
     "end_time": "2021-09-13T13:58:34.750287",
     "exception": false,
     "start_time": "2021-09-13T13:58:34.727097",
     "status": "completed"
    },
    "tags": []
   },
   "source": [
    "## Ploting the val accuracy and the accuracy of the model"
   ]
  },
  {
   "cell_type": "code",
   "execution_count": 19,
   "id": "0a471414",
   "metadata": {
    "execution": {
     "iopub.execute_input": "2021-09-13T13:58:34.801005Z",
     "iopub.status.busy": "2021-09-13T13:58:34.800193Z",
     "iopub.status.idle": "2021-09-13T13:58:35.016349Z",
     "shell.execute_reply": "2021-09-13T13:58:35.015912Z",
     "shell.execute_reply.started": "2021-09-13T13:51:04.005441Z"
    },
    "papermill": {
     "duration": 0.243916,
     "end_time": "2021-09-13T13:58:35.016466",
     "exception": false,
     "start_time": "2021-09-13T13:58:34.772550",
     "status": "completed"
    },
    "tags": []
   },
   "outputs": [
    {
     "data": {
      "image/png": "[encoded data removed]",
      "text/plain": [
       "<Figure size 432x288 with 1 Axes>"
      ]
     },
     "metadata": {
      "needs_background": "light"
     },
     "output_type": "display_data"
    }
   ],
   "source": [
    "import matplotlib.pyplot as plt\n",
    "plt.plot(history.history['accuracy'])\n",
    "plt.plot(history.history['val_accuracy'])\n",
    "plt.title('Akurasi Model')\n",
    "plt.ylabel('accuracy')\n",
    "plt.xlabel('epoch')\n",
    "plt.legend(['train', 'test'], loc='upper left')\n",
    "plt.show()"
   ]
  },
  {
   "cell_type": "code",
   "execution_count": 20,
   "id": "808c2da7",
   "metadata": {
    "execution": {
     "iopub.execute_input": "2021-09-13T13:58:35.109222Z",
     "iopub.status.busy": "2021-09-13T13:58:35.084479Z",
     "iopub.status.idle": "2021-09-13T13:58:35.368597Z",
     "shell.execute_reply": "2021-09-13T13:58:35.369703Z",
     "shell.execute_reply.started": "2021-09-13T13:51:04.209780Z"
    },
    "papermill": {
     "duration": 0.329278,
     "end_time": "2021-09-13T13:58:35.369925",
     "exception": false,
     "start_time": "2021-09-13T13:58:35.040647",
     "status": "completed"
    },
    "tags": []
   },
   "outputs": [
    {
     "data": {
      "image/png": "[encoded data removed]",
      "text/plain": [
       "<Figure size 432x288 with 1 Axes>"
      ]
     },
     "metadata": {
      "needs_background": "light"
     },
     "output_type": "display_data"
    }
   ],
   "source": [
    "plt.plot(history.history['loss'])\n",
    "plt.plot(history.history['val_loss'])\n",
    "plt.title('Loss Model')\n",
    "plt.ylabel('loss')\n",
    "plt.xlabel('epoch')\n",
    "plt.legend(['train', 'test'], loc='upper left')\n",
    "plt.show()"
   ]
  },
  {
   "cell_type": "markdown",
   "id": "e4a6aa12",
   "metadata": {
    "papermill": {
     "duration": 0.039031,
     "end_time": "2021-09-13T13:58:35.450560",
     "exception": false,
     "start_time": "2021-09-13T13:58:35.411529",
     "status": "completed"
    },
    "tags": []
   },
   "source": [
    "## TF-Lite formatting"
   ]
  },
  {
   "cell_type": "code",
   "execution_count": 21,
   "id": "44931446",
   "metadata": {
    "execution": {
     "iopub.execute_input": "2021-09-13T13:58:35.542014Z",
     "iopub.status.busy": "2021-09-13T13:58:35.541261Z",
     "iopub.status.idle": "2021-09-13T13:58:36.725315Z",
     "shell.execute_reply": "2021-09-13T13:58:36.724262Z",
     "shell.execute_reply.started": "2021-09-13T13:51:04.407509Z"
    },
    "papermill": {
     "duration": 1.236088,
     "end_time": "2021-09-13T13:58:36.725439",
     "exception": false,
     "start_time": "2021-09-13T13:58:35.489351",
     "status": "completed"
    },
    "tags": []
   },
   "outputs": [
    {
     "name": "stderr",
     "output_type": "stream",
     "text": [
      "2021-09-13 13:58:35.762424: W tensorflow/python/util/util.cc:348] Sets are not currently considered sequences, but this may change in the future, so consider avoiding using them.\n",
      "2021-09-13 13:58:36.439915: I tensorflow/stream_executor/cuda/cuda_gpu_executor.cc:941] successful NUMA node read from SysFS had negative value (-1), but there must be at least one NUMA node, so returning NUMA node zero\n",
      "2021-09-13 13:58:36.440326: I tensorflow/core/grappler/devices.cc:69] Number of eligible GPUs (core count >= 8, compute capability >= 0.0): 1\n",
      "2021-09-13 13:58:36.440457: I tensorflow/core/grappler/clusters/single_machine.cc:356] Starting new session\n",
      "2021-09-13 13:58:36.440746: I tensorflow/compiler/jit/xla_gpu_device.cc:99] Not creating XLA devices, tf_xla_enable_xla_devices not set\n",
      "2021-09-13 13:58:36.440959: I tensorflow/stream_executor/cuda/cuda_gpu_executor.cc:941] successful NUMA node read from SysFS had negative value (-1), but there must be at least one NUMA node, so returning NUMA node zero\n",
      "2021-09-13 13:58:36.441319: I tensorflow/core/common_runtime/gpu/gpu_device.cc:1720] Found device 0 with properties: \n",
      "pciBusID: 0000:00:04.0 name: Tesla P100-PCIE-16GB computeCapability: 6.0\n",
      "coreClock: 1.3285GHz coreCount: 56 deviceMemorySize: 15.90GiB deviceMemoryBandwidth: 681.88GiB/s\n",
      "2021-09-13 13:58:36.441398: I tensorflow/stream_executor/platform/default/dso_loader.cc:49] Successfully opened dynamic library libcudart.so.11.0\n",
      "2021-09-13 13:58:36.441431: I tensorflow/stream_executor/platform/default/dso_loader.cc:49] Successfully opened dynamic library libcublas.so.11\n",
      "2021-09-13 13:58:36.441450: I tensorflow/stream_executor/platform/default/dso_loader.cc:49] Successfully opened dynamic library libcublasLt.so.11\n",
      "2021-09-13 13:58:36.441470: I tensorflow/stream_executor/platform/default/dso_loader.cc:49] Successfully opened dynamic library libcufft.so.10\n",
      "2021-09-13 13:58:36.441489: I tensorflow/stream_executor/platform/default/dso_loader.cc:49] Successfully opened dynamic library libcurand.so.10\n",
      "2021-09-13 13:58:36.441508: I tensorflow/stream_executor/platform/default/dso_loader.cc:49] Successfully opened dynamic library libcusolver.so.10\n",
      "2021-09-13 13:58:36.441527: I tensorflow/stream_executor/platform/default/dso_loader.cc:49] Successfully opened dynamic library libcusparse.so.11\n",
      "2021-09-13 13:58:36.441546: I tensorflow/stream_executor/platform/default/dso_loader.cc:49] Successfully opened dynamic library libcudnn.so.8\n",
      "2021-09-13 13:58:36.441618: I tensorflow/stream_executor/cuda/cuda_gpu_executor.cc:941] successful NUMA node read from SysFS had negative value (-1), but there must be at least one NUMA node, so returning NUMA node zero\n",
      "2021-09-13 13:58:36.441955: I tensorflow/stream_executor/cuda/cuda_gpu_executor.cc:941] successful NUMA node read from SysFS had negative value (-1), but there must be at least one NUMA node, so returning NUMA node zero\n",
      "2021-09-13 13:58:36.442258: I tensorflow/core/common_runtime/gpu/gpu_device.cc:1862] Adding visible gpu devices: 0\n",
      "2021-09-13 13:58:36.442299: I tensorflow/core/common_runtime/gpu/gpu_device.cc:1261] Device interconnect StreamExecutor with strength 1 edge matrix:\n",
      "2021-09-13 13:58:36.442307: I tensorflow/core/common_runtime/gpu/gpu_device.cc:1267]      0 \n",
      "2021-09-13 13:58:36.442315: I tensorflow/core/common_runtime/gpu/gpu_device.cc:1280] 0:   N \n",
      "2021-09-13 13:58:36.442433: I tensorflow/stream_executor/cuda/cuda_gpu_executor.cc:941] successful NUMA node read from SysFS had negative value (-1), but there must be at least one NUMA node, so returning NUMA node zero\n",
      "2021-09-13 13:58:36.442769: I tensorflow/stream_executor/cuda/cuda_gpu_executor.cc:941] successful NUMA node read from SysFS had negative value (-1), but there must be at least one NUMA node, so returning NUMA node zero\n",
      "2021-09-13 13:58:36.443056: I tensorflow/core/common_runtime/gpu/gpu_device.cc:1406] Created TensorFlow device (/job:localhost/replica:0/task:0/device:GPU:0 with 14957 MB memory) -> physical GPU (device: 0, name: Tesla P100-PCIE-16GB, pci bus id: 0000:00:04.0, compute capability: 6.0)\n",
      "2021-09-13 13:58:36.444131: I tensorflow/core/grappler/optimizers/meta_optimizer.cc:928] Optimization results for grappler item: graph_to_optimize\n",
      "  function_optimizer: function_optimizer did nothing. time = 0.002ms.\n",
      "  function_optimizer: function_optimizer did nothing. time = 0ms.\n",
      "\n",
      "2021-09-13 13:58:36.569753: W tensorflow/compiler/mlir/lite/python/tf_tfl_flatbuffer_helpers.cc:316] Ignored output_format.\n",
      "2021-09-13 13:58:36.569814: W tensorflow/compiler/mlir/lite/python/tf_tfl_flatbuffer_helpers.cc:319] Ignored drop_control_dependency.\n",
      "2021-09-13 13:58:36.637120: I tensorflow/compiler/jit/xla_gpu_device.cc:99] Not creating XLA devices, tf_xla_enable_xla_devices not set\n",
      "2021-09-13 13:58:36.637441: I tensorflow/stream_executor/cuda/cuda_gpu_executor.cc:941] successful NUMA node read from SysFS had negative value (-1), but there must be at least one NUMA node, so returning NUMA node zero\n",
      "2021-09-13 13:58:36.637804: I tensorflow/core/common_runtime/gpu/gpu_device.cc:1720] Found device 0 with properties: \n",
      "pciBusID: 0000:00:04.0 name: Tesla P100-PCIE-16GB computeCapability: 6.0\n",
      "coreClock: 1.3285GHz coreCount: 56 deviceMemorySize: 15.90GiB deviceMemoryBandwidth: 681.88GiB/s\n",
      "2021-09-13 13:58:36.637911: I tensorflow/stream_executor/platform/default/dso_loader.cc:49] Successfully opened dynamic library libcudart.so.11.0\n",
      "2021-09-13 13:58:36.637951: I tensorflow/stream_executor/platform/default/dso_loader.cc:49] Successfully opened dynamic library libcublas.so.11\n",
      "2021-09-13 13:58:36.637973: I tensorflow/stream_executor/platform/default/dso_loader.cc:49] Successfully opened dynamic library libcublasLt.so.11\n",
      "2021-09-13 13:58:36.637995: I tensorflow/stream_executor/platform/default/dso_loader.cc:49] Successfully opened dynamic library libcufft.so.10\n",
      "2021-09-13 13:58:36.638016: I tensorflow/stream_executor/platform/default/dso_loader.cc:49] Successfully opened dynamic library libcurand.so.10\n",
      "2021-09-13 13:58:36.638038: I tensorflow/stream_executor/platform/default/dso_loader.cc:49] Successfully opened dynamic library libcusolver.so.10\n",
      "2021-09-13 13:58:36.638059: I tensorflow/stream_executor/platform/default/dso_loader.cc:49] Successfully opened dynamic library libcusparse.so.11\n",
      "2021-09-13 13:58:36.638082: I tensorflow/stream_executor/platform/default/dso_loader.cc:49] Successfully opened dynamic library libcudnn.so.8\n",
      "2021-09-13 13:58:36.638178: I tensorflow/stream_executor/cuda/cuda_gpu_executor.cc:941] successful NUMA node read from SysFS had negative value (-1), but there must be at least one NUMA node, so returning NUMA node zero\n",
      "2021-09-13 13:58:36.638600: I tensorflow/stream_executor/cuda/cuda_gpu_executor.cc:941] successful NUMA node read from SysFS had negative value (-1), but there must be at least one NUMA node, so returning NUMA node zero\n",
      "2021-09-13 13:58:36.638878: I tensorflow/core/common_runtime/gpu/gpu_device.cc:1862] Adding visible gpu devices: 0\n",
      "2021-09-13 13:58:36.638913: I tensorflow/core/common_runtime/gpu/gpu_device.cc:1261] Device interconnect StreamExecutor with strength 1 edge matrix:\n",
      "2021-09-13 13:58:36.638921: I tensorflow/core/common_runtime/gpu/gpu_device.cc:1267]      0 \n",
      "2021-09-13 13:58:36.638928: I tensorflow/core/common_runtime/gpu/gpu_device.cc:1280] 0:   N \n",
      "2021-09-13 13:58:36.639037: I tensorflow/stream_executor/cuda/cuda_gpu_executor.cc:941] successful NUMA node read from SysFS had negative value (-1), but there must be at least one NUMA node, so returning NUMA node zero\n",
      "2021-09-13 13:58:36.639392: I tensorflow/stream_executor/cuda/cuda_gpu_executor.cc:941] successful NUMA node read from SysFS had negative value (-1), but there must be at least one NUMA node, so returning NUMA node zero\n",
      "2021-09-13 13:58:36.639681: I tensorflow/core/common_runtime/gpu/gpu_device.cc:1406] Created TensorFlow device (/job:localhost/replica:0/task:0/device:GPU:0 with 14957 MB memory) -> physical GPU (device: 0, name: Tesla P100-PCIE-16GB, pci bus id: 0000:00:04.0, compute capability: 6.0)\n"
     ]
    }
   ],
   "source": [
    "import tensorflow as tf\n",
    "converter = tf.lite.TFLiteConverter.from_keras_model(model)\n",
    "tflite_model = converter.convert()"
   ]
  },
  {
   "cell_type": "code",
   "execution_count": 22,
   "id": "1e25ac10",
   "metadata": {
    "execution": {
     "iopub.execute_input": "2021-09-13T13:58:36.786543Z",
     "iopub.status.busy": "2021-09-13T13:58:36.785911Z",
     "iopub.status.idle": "2021-09-13T13:58:36.789463Z",
     "shell.execute_reply": "2021-09-13T13:58:36.789013Z",
     "shell.execute_reply.started": "2021-09-13T13:51:05.326511Z"
    },
    "papermill": {
     "duration": 0.038882,
     "end_time": "2021-09-13T13:58:36.789580",
     "exception": false,
     "start_time": "2021-09-13T13:58:36.750698",
     "status": "completed"
    },
    "tags": []
   },
   "outputs": [],
   "source": [
    "with tf.io.gfile.GFile('model.tflite', 'wb') as f:\n",
    "  f.write(tflite_model)"
   ]
  },
  {
   "cell_type": "code",
   "execution_count": null,
   "id": "74e14d69",
   "metadata": {
    "papermill": {
     "duration": 0.024653,
     "end_time": "2021-09-13T13:58:36.840221",
     "exception": false,
     "start_time": "2021-09-13T13:58:36.815568",
     "status": "completed"
    },
    "tags": []
   },
   "outputs": [],
   "source": []
  }
 ],
 "metadata": {
  "kernelspec": {
   "display_name": "Python 3",
   "language": "python",
   "name": "python3"
  },
  "language_info": {
   "codemirror_mode": {
    "name": "ipython",
    "version": 3
   },
   "file_extension": ".py",
   "mimetype": "text/x-python",
   "name": "python",
   "nbconvert_exporter": "python",
   "pygments_lexer": "ipython3",
   "version": "3.7.10"
  },
  "papermill": {
   "default_parameters": {},
   "duration": 37.687769,
   "end_time": "2021-09-13T13:58:39.965349",
   "environment_variables": {},
   "exception": null,
   "input_path": "__notebook__.ipynb",
   "output_path": "__notebook__.ipynb",
   "parameters": {},
   "start_time": "2021-09-13T13:58:02.277580",
   "version": "2.3.3"
  }
 },
 "nbformat": 4,
 "nbformat_minor": 5
}
